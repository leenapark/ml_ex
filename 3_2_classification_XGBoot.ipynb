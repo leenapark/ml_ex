{
 "cells": [
  {
   "cell_type": "markdown",
   "id": "86156e40-a1b3-4b8c-8d2c-761fe807c56a",
   "metadata": {},
   "source": [
    "# 데이터 다운로드 및 업로드\n",
    "## healthcare-dataset-stroke-data.csv 파일을 다운로드 받기\n",
    "### https://www.kaggle.com/fedesoriano/stroke-prediction-dataset\n",
    "\n",
    "1. 데이터 로딩\n",
    "2. EDA\n",
    "-  피처간 상관관계 보기\n",
    "-  카운트 플랏\n",
    "3. 데이터 전처리\n",
    "- 불필요한 Feature 제거\n",
    "- 결측치 처리\n",
    "- 문자열 데이터 숫자로 인코딩\n",
    "4. 머신러닝 모델 만들기\n",
    "- 학습/테스트 데이터 준비하기\n",
    "- 학습모델 학습하기\n",
    "5. 성능평가\n",
    "- 모델 테스트하기\n",
    "- 성능 평가하기"
   ]
  },
  {
   "cell_type": "code",
   "execution_count": 1,
   "id": "27265cd9-3ae4-4b11-9f79-d12ced0ebed6",
   "metadata": {},
   "outputs": [],
   "source": [
    "import pandas as pd\n",
    "import matplotlib.pyplot as plt\n",
    "import seaborn as sns\n",
    "import numpy as np"
   ]
  },
  {
   "cell_type": "markdown",
   "id": "e9aba4ab-b0ff-4155-8f2a-89693d66e318",
   "metadata": {},
   "source": [
    "## 데이터 로딩"
   ]
  },
  {
   "cell_type": "code",
   "execution_count": 2,
   "id": "200dc40c-d274-4986-8bab-74545ac61e22",
   "metadata": {},
   "outputs": [
    {
     "data": {
      "text/html": [
       "<div>\n",
       "<style scoped>\n",
       "    .dataframe tbody tr th:only-of-type {\n",
       "        vertical-align: middle;\n",
       "    }\n",
       "\n",
       "    .dataframe tbody tr th {\n",
       "        vertical-align: top;\n",
       "    }\n",
       "\n",
       "    .dataframe thead th {\n",
       "        text-align: right;\n",
       "    }\n",
       "</style>\n",
       "<table border=\"1\" class=\"dataframe\">\n",
       "  <thead>\n",
       "    <tr style=\"text-align: right;\">\n",
       "      <th></th>\n",
       "      <th>id</th>\n",
       "      <th>gender</th>\n",
       "      <th>age</th>\n",
       "      <th>hypertension</th>\n",
       "      <th>heart_disease</th>\n",
       "      <th>ever_married</th>\n",
       "      <th>work_type</th>\n",
       "      <th>Residence_type</th>\n",
       "      <th>avg_glucose_level</th>\n",
       "      <th>bmi</th>\n",
       "      <th>smoking_status</th>\n",
       "      <th>stroke</th>\n",
       "    </tr>\n",
       "  </thead>\n",
       "  <tbody>\n",
       "    <tr>\n",
       "      <th>0</th>\n",
       "      <td>9046</td>\n",
       "      <td>Male</td>\n",
       "      <td>67.0</td>\n",
       "      <td>0</td>\n",
       "      <td>1</td>\n",
       "      <td>Yes</td>\n",
       "      <td>Private</td>\n",
       "      <td>Urban</td>\n",
       "      <td>228.69</td>\n",
       "      <td>36.6</td>\n",
       "      <td>formerly smoked</td>\n",
       "      <td>1</td>\n",
       "    </tr>\n",
       "    <tr>\n",
       "      <th>1</th>\n",
       "      <td>51676</td>\n",
       "      <td>Female</td>\n",
       "      <td>61.0</td>\n",
       "      <td>0</td>\n",
       "      <td>0</td>\n",
       "      <td>Yes</td>\n",
       "      <td>Self-employed</td>\n",
       "      <td>Rural</td>\n",
       "      <td>202.21</td>\n",
       "      <td>NaN</td>\n",
       "      <td>never smoked</td>\n",
       "      <td>1</td>\n",
       "    </tr>\n",
       "    <tr>\n",
       "      <th>2</th>\n",
       "      <td>31112</td>\n",
       "      <td>Male</td>\n",
       "      <td>80.0</td>\n",
       "      <td>0</td>\n",
       "      <td>1</td>\n",
       "      <td>Yes</td>\n",
       "      <td>Private</td>\n",
       "      <td>Rural</td>\n",
       "      <td>105.92</td>\n",
       "      <td>32.5</td>\n",
       "      <td>never smoked</td>\n",
       "      <td>1</td>\n",
       "    </tr>\n",
       "    <tr>\n",
       "      <th>3</th>\n",
       "      <td>60182</td>\n",
       "      <td>Female</td>\n",
       "      <td>49.0</td>\n",
       "      <td>0</td>\n",
       "      <td>0</td>\n",
       "      <td>Yes</td>\n",
       "      <td>Private</td>\n",
       "      <td>Urban</td>\n",
       "      <td>171.23</td>\n",
       "      <td>34.4</td>\n",
       "      <td>smokes</td>\n",
       "      <td>1</td>\n",
       "    </tr>\n",
       "    <tr>\n",
       "      <th>4</th>\n",
       "      <td>1665</td>\n",
       "      <td>Female</td>\n",
       "      <td>79.0</td>\n",
       "      <td>1</td>\n",
       "      <td>0</td>\n",
       "      <td>Yes</td>\n",
       "      <td>Self-employed</td>\n",
       "      <td>Rural</td>\n",
       "      <td>174.12</td>\n",
       "      <td>24.0</td>\n",
       "      <td>never smoked</td>\n",
       "      <td>1</td>\n",
       "    </tr>\n",
       "  </tbody>\n",
       "</table>\n",
       "</div>"
      ],
      "text/plain": [
       "      id  gender   age  hypertension  heart_disease ever_married  \\\n",
       "0   9046    Male  67.0             0              1          Yes   \n",
       "1  51676  Female  61.0             0              0          Yes   \n",
       "2  31112    Male  80.0             0              1          Yes   \n",
       "3  60182  Female  49.0             0              0          Yes   \n",
       "4   1665  Female  79.0             1              0          Yes   \n",
       "\n",
       "       work_type Residence_type  avg_glucose_level   bmi   smoking_status  \\\n",
       "0        Private          Urban             228.69  36.6  formerly smoked   \n",
       "1  Self-employed          Rural             202.21   NaN     never smoked   \n",
       "2        Private          Rural             105.92  32.5     never smoked   \n",
       "3        Private          Urban             171.23  34.4           smokes   \n",
       "4  Self-employed          Rural             174.12  24.0     never smoked   \n",
       "\n",
       "   stroke  \n",
       "0       1  \n",
       "1       1  \n",
       "2       1  \n",
       "3       1  \n",
       "4       1  "
      ]
     },
     "execution_count": 2,
     "metadata": {},
     "output_type": "execute_result"
    }
   ],
   "source": [
    "df = pd.read_csv('ml_datas/healthcare-dataset-stroke-data.csv')\n",
    "df.head()"
   ]
  },
  {
   "cell_type": "markdown",
   "id": "0fb454d1-2a00-4a76-b9e8-1201a836d0a2",
   "metadata": {},
   "source": [
    "## 데이터 분석"
   ]
  },
  {
   "cell_type": "code",
   "execution_count": 3,
   "id": "f8a8110f-ee04-4a24-9380-24b0fe8a2997",
   "metadata": {},
   "outputs": [
    {
     "data": {
      "text/plain": [
       "(5110, 12)"
      ]
     },
     "execution_count": 3,
     "metadata": {},
     "output_type": "execute_result"
    }
   ],
   "source": [
    "df.shape"
   ]
  },
  {
   "cell_type": "code",
   "execution_count": 4,
   "id": "ecc734c9-1984-4c2c-a988-5eec6c670b66",
   "metadata": {},
   "outputs": [
    {
     "name": "stdout",
     "output_type": "stream",
     "text": [
      "<class 'pandas.core.frame.DataFrame'>\n",
      "RangeIndex: 5110 entries, 0 to 5109\n",
      "Data columns (total 12 columns):\n",
      " #   Column             Non-Null Count  Dtype  \n",
      "---  ------             --------------  -----  \n",
      " 0   id                 5110 non-null   int64  \n",
      " 1   gender             5110 non-null   object \n",
      " 2   age                5110 non-null   float64\n",
      " 3   hypertension       5110 non-null   int64  \n",
      " 4   heart_disease      5110 non-null   int64  \n",
      " 5   ever_married       5110 non-null   object \n",
      " 6   work_type          5110 non-null   object \n",
      " 7   Residence_type     5110 non-null   object \n",
      " 8   avg_glucose_level  5110 non-null   float64\n",
      " 9   bmi                4909 non-null   float64\n",
      " 10  smoking_status     5110 non-null   object \n",
      " 11  stroke             5110 non-null   int64  \n",
      "dtypes: float64(3), int64(4), object(5)\n",
      "memory usage: 479.2+ KB\n"
     ]
    }
   ],
   "source": [
    "df.info()"
   ]
  },
  {
   "cell_type": "code",
   "execution_count": 5,
   "id": "9ae8cd94-f92f-48fb-913d-b3eb4e249722",
   "metadata": {},
   "outputs": [
    {
     "data": {
      "text/html": [
       "<div>\n",
       "<style scoped>\n",
       "    .dataframe tbody tr th:only-of-type {\n",
       "        vertical-align: middle;\n",
       "    }\n",
       "\n",
       "    .dataframe tbody tr th {\n",
       "        vertical-align: top;\n",
       "    }\n",
       "\n",
       "    .dataframe thead th {\n",
       "        text-align: right;\n",
       "    }\n",
       "</style>\n",
       "<table border=\"1\" class=\"dataframe\">\n",
       "  <thead>\n",
       "    <tr style=\"text-align: right;\">\n",
       "      <th></th>\n",
       "      <th>id</th>\n",
       "      <th>age</th>\n",
       "      <th>hypertension</th>\n",
       "      <th>heart_disease</th>\n",
       "      <th>avg_glucose_level</th>\n",
       "      <th>bmi</th>\n",
       "      <th>stroke</th>\n",
       "    </tr>\n",
       "  </thead>\n",
       "  <tbody>\n",
       "    <tr>\n",
       "      <th>count</th>\n",
       "      <td>5110.000000</td>\n",
       "      <td>5110.000000</td>\n",
       "      <td>5110.000000</td>\n",
       "      <td>5110.000000</td>\n",
       "      <td>5110.000000</td>\n",
       "      <td>4909.000000</td>\n",
       "      <td>5110.000000</td>\n",
       "    </tr>\n",
       "    <tr>\n",
       "      <th>mean</th>\n",
       "      <td>36517.829354</td>\n",
       "      <td>43.226614</td>\n",
       "      <td>0.097456</td>\n",
       "      <td>0.054012</td>\n",
       "      <td>106.147677</td>\n",
       "      <td>28.893237</td>\n",
       "      <td>0.048728</td>\n",
       "    </tr>\n",
       "    <tr>\n",
       "      <th>std</th>\n",
       "      <td>21161.721625</td>\n",
       "      <td>22.612647</td>\n",
       "      <td>0.296607</td>\n",
       "      <td>0.226063</td>\n",
       "      <td>45.283560</td>\n",
       "      <td>7.854067</td>\n",
       "      <td>0.215320</td>\n",
       "    </tr>\n",
       "    <tr>\n",
       "      <th>min</th>\n",
       "      <td>67.000000</td>\n",
       "      <td>0.080000</td>\n",
       "      <td>0.000000</td>\n",
       "      <td>0.000000</td>\n",
       "      <td>55.120000</td>\n",
       "      <td>10.300000</td>\n",
       "      <td>0.000000</td>\n",
       "    </tr>\n",
       "    <tr>\n",
       "      <th>25%</th>\n",
       "      <td>17741.250000</td>\n",
       "      <td>25.000000</td>\n",
       "      <td>0.000000</td>\n",
       "      <td>0.000000</td>\n",
       "      <td>77.245000</td>\n",
       "      <td>23.500000</td>\n",
       "      <td>0.000000</td>\n",
       "    </tr>\n",
       "    <tr>\n",
       "      <th>50%</th>\n",
       "      <td>36932.000000</td>\n",
       "      <td>45.000000</td>\n",
       "      <td>0.000000</td>\n",
       "      <td>0.000000</td>\n",
       "      <td>91.885000</td>\n",
       "      <td>28.100000</td>\n",
       "      <td>0.000000</td>\n",
       "    </tr>\n",
       "    <tr>\n",
       "      <th>75%</th>\n",
       "      <td>54682.000000</td>\n",
       "      <td>61.000000</td>\n",
       "      <td>0.000000</td>\n",
       "      <td>0.000000</td>\n",
       "      <td>114.090000</td>\n",
       "      <td>33.100000</td>\n",
       "      <td>0.000000</td>\n",
       "    </tr>\n",
       "    <tr>\n",
       "      <th>max</th>\n",
       "      <td>72940.000000</td>\n",
       "      <td>82.000000</td>\n",
       "      <td>1.000000</td>\n",
       "      <td>1.000000</td>\n",
       "      <td>271.740000</td>\n",
       "      <td>97.600000</td>\n",
       "      <td>1.000000</td>\n",
       "    </tr>\n",
       "  </tbody>\n",
       "</table>\n",
       "</div>"
      ],
      "text/plain": [
       "                 id          age  hypertension  heart_disease  \\\n",
       "count   5110.000000  5110.000000   5110.000000    5110.000000   \n",
       "mean   36517.829354    43.226614      0.097456       0.054012   \n",
       "std    21161.721625    22.612647      0.296607       0.226063   \n",
       "min       67.000000     0.080000      0.000000       0.000000   \n",
       "25%    17741.250000    25.000000      0.000000       0.000000   \n",
       "50%    36932.000000    45.000000      0.000000       0.000000   \n",
       "75%    54682.000000    61.000000      0.000000       0.000000   \n",
       "max    72940.000000    82.000000      1.000000       1.000000   \n",
       "\n",
       "       avg_glucose_level          bmi       stroke  \n",
       "count        5110.000000  4909.000000  5110.000000  \n",
       "mean          106.147677    28.893237     0.048728  \n",
       "std            45.283560     7.854067     0.215320  \n",
       "min            55.120000    10.300000     0.000000  \n",
       "25%            77.245000    23.500000     0.000000  \n",
       "50%            91.885000    28.100000     0.000000  \n",
       "75%           114.090000    33.100000     0.000000  \n",
       "max           271.740000    97.600000     1.000000  "
      ]
     },
     "execution_count": 5,
     "metadata": {},
     "output_type": "execute_result"
    }
   ],
   "source": [
    "df.describe()"
   ]
  },
  {
   "cell_type": "markdown",
   "id": "6b00f4d8-7f9c-4684-bfea-10065d5c3738",
   "metadata": {},
   "source": [
    "## 불필요한 Feature 제거"
   ]
  },
  {
   "cell_type": "code",
   "execution_count": 6,
   "id": "674f9b39-8702-44a6-8058-c0006d328498",
   "metadata": {},
   "outputs": [
    {
     "data": {
      "text/html": [
       "<div>\n",
       "<style scoped>\n",
       "    .dataframe tbody tr th:only-of-type {\n",
       "        vertical-align: middle;\n",
       "    }\n",
       "\n",
       "    .dataframe tbody tr th {\n",
       "        vertical-align: top;\n",
       "    }\n",
       "\n",
       "    .dataframe thead th {\n",
       "        text-align: right;\n",
       "    }\n",
       "</style>\n",
       "<table border=\"1\" class=\"dataframe\">\n",
       "  <thead>\n",
       "    <tr style=\"text-align: right;\">\n",
       "      <th></th>\n",
       "      <th>gender</th>\n",
       "      <th>age</th>\n",
       "      <th>hypertension</th>\n",
       "      <th>heart_disease</th>\n",
       "      <th>ever_married</th>\n",
       "      <th>work_type</th>\n",
       "      <th>Residence_type</th>\n",
       "      <th>avg_glucose_level</th>\n",
       "      <th>bmi</th>\n",
       "      <th>smoking_status</th>\n",
       "      <th>stroke</th>\n",
       "    </tr>\n",
       "  </thead>\n",
       "  <tbody>\n",
       "    <tr>\n",
       "      <th>0</th>\n",
       "      <td>Male</td>\n",
       "      <td>67.0</td>\n",
       "      <td>0</td>\n",
       "      <td>1</td>\n",
       "      <td>Yes</td>\n",
       "      <td>Private</td>\n",
       "      <td>Urban</td>\n",
       "      <td>228.69</td>\n",
       "      <td>36.6</td>\n",
       "      <td>formerly smoked</td>\n",
       "      <td>1</td>\n",
       "    </tr>\n",
       "    <tr>\n",
       "      <th>1</th>\n",
       "      <td>Female</td>\n",
       "      <td>61.0</td>\n",
       "      <td>0</td>\n",
       "      <td>0</td>\n",
       "      <td>Yes</td>\n",
       "      <td>Self-employed</td>\n",
       "      <td>Rural</td>\n",
       "      <td>202.21</td>\n",
       "      <td>NaN</td>\n",
       "      <td>never smoked</td>\n",
       "      <td>1</td>\n",
       "    </tr>\n",
       "    <tr>\n",
       "      <th>2</th>\n",
       "      <td>Male</td>\n",
       "      <td>80.0</td>\n",
       "      <td>0</td>\n",
       "      <td>1</td>\n",
       "      <td>Yes</td>\n",
       "      <td>Private</td>\n",
       "      <td>Rural</td>\n",
       "      <td>105.92</td>\n",
       "      <td>32.5</td>\n",
       "      <td>never smoked</td>\n",
       "      <td>1</td>\n",
       "    </tr>\n",
       "    <tr>\n",
       "      <th>3</th>\n",
       "      <td>Female</td>\n",
       "      <td>49.0</td>\n",
       "      <td>0</td>\n",
       "      <td>0</td>\n",
       "      <td>Yes</td>\n",
       "      <td>Private</td>\n",
       "      <td>Urban</td>\n",
       "      <td>171.23</td>\n",
       "      <td>34.4</td>\n",
       "      <td>smokes</td>\n",
       "      <td>1</td>\n",
       "    </tr>\n",
       "    <tr>\n",
       "      <th>4</th>\n",
       "      <td>Female</td>\n",
       "      <td>79.0</td>\n",
       "      <td>1</td>\n",
       "      <td>0</td>\n",
       "      <td>Yes</td>\n",
       "      <td>Self-employed</td>\n",
       "      <td>Rural</td>\n",
       "      <td>174.12</td>\n",
       "      <td>24.0</td>\n",
       "      <td>never smoked</td>\n",
       "      <td>1</td>\n",
       "    </tr>\n",
       "  </tbody>\n",
       "</table>\n",
       "</div>"
      ],
      "text/plain": [
       "   gender   age  hypertension  heart_disease ever_married      work_type  \\\n",
       "0    Male  67.0             0              1          Yes        Private   \n",
       "1  Female  61.0             0              0          Yes  Self-employed   \n",
       "2    Male  80.0             0              1          Yes        Private   \n",
       "3  Female  49.0             0              0          Yes        Private   \n",
       "4  Female  79.0             1              0          Yes  Self-employed   \n",
       "\n",
       "  Residence_type  avg_glucose_level   bmi   smoking_status  stroke  \n",
       "0          Urban             228.69  36.6  formerly smoked       1  \n",
       "1          Rural             202.21   NaN     never smoked       1  \n",
       "2          Rural             105.92  32.5     never smoked       1  \n",
       "3          Urban             171.23  34.4           smokes       1  \n",
       "4          Rural             174.12  24.0     never smoked       1  "
      ]
     },
     "execution_count": 6,
     "metadata": {},
     "output_type": "execute_result"
    }
   ],
   "source": [
    "# id column drop\n",
    "df = df.drop([\"id\"], axis=1)\n",
    "df.head()"
   ]
  },
  {
   "cell_type": "markdown",
   "id": "d99da380-211c-4cf4-9c73-32535d12bb3f",
   "metadata": {},
   "source": [
    "## EDA(탐색적 데이터 분석)\n",
    "- 데이터 통계량 확인하기\n",
    "- 데이터의 특징 파악하기\n",
    "- feature들 간의 상관관계\n",
    "- feature와 target과의 관계에서 어떤 특징들이 있는지 탐색하기"
   ]
  },
  {
   "cell_type": "code",
   "execution_count": 7,
   "id": "fa1687c3-0d04-4ac7-96b4-073661476251",
   "metadata": {},
   "outputs": [
    {
     "data": {
      "text/html": [
       "<div>\n",
       "<style scoped>\n",
       "    .dataframe tbody tr th:only-of-type {\n",
       "        vertical-align: middle;\n",
       "    }\n",
       "\n",
       "    .dataframe tbody tr th {\n",
       "        vertical-align: top;\n",
       "    }\n",
       "\n",
       "    .dataframe thead th {\n",
       "        text-align: right;\n",
       "    }\n",
       "</style>\n",
       "<table border=\"1\" class=\"dataframe\">\n",
       "  <thead>\n",
       "    <tr style=\"text-align: right;\">\n",
       "      <th></th>\n",
       "      <th>age</th>\n",
       "      <th>hypertension</th>\n",
       "      <th>heart_disease</th>\n",
       "      <th>avg_glucose_level</th>\n",
       "      <th>bmi</th>\n",
       "      <th>stroke</th>\n",
       "    </tr>\n",
       "  </thead>\n",
       "  <tbody>\n",
       "    <tr>\n",
       "      <th>count</th>\n",
       "      <td>5110.000000</td>\n",
       "      <td>5110.000000</td>\n",
       "      <td>5110.000000</td>\n",
       "      <td>5110.000000</td>\n",
       "      <td>4909.000000</td>\n",
       "      <td>5110.000000</td>\n",
       "    </tr>\n",
       "    <tr>\n",
       "      <th>mean</th>\n",
       "      <td>43.226614</td>\n",
       "      <td>0.097456</td>\n",
       "      <td>0.054012</td>\n",
       "      <td>106.147677</td>\n",
       "      <td>28.893237</td>\n",
       "      <td>0.048728</td>\n",
       "    </tr>\n",
       "    <tr>\n",
       "      <th>std</th>\n",
       "      <td>22.612647</td>\n",
       "      <td>0.296607</td>\n",
       "      <td>0.226063</td>\n",
       "      <td>45.283560</td>\n",
       "      <td>7.854067</td>\n",
       "      <td>0.215320</td>\n",
       "    </tr>\n",
       "    <tr>\n",
       "      <th>min</th>\n",
       "      <td>0.080000</td>\n",
       "      <td>0.000000</td>\n",
       "      <td>0.000000</td>\n",
       "      <td>55.120000</td>\n",
       "      <td>10.300000</td>\n",
       "      <td>0.000000</td>\n",
       "    </tr>\n",
       "    <tr>\n",
       "      <th>25%</th>\n",
       "      <td>25.000000</td>\n",
       "      <td>0.000000</td>\n",
       "      <td>0.000000</td>\n",
       "      <td>77.245000</td>\n",
       "      <td>23.500000</td>\n",
       "      <td>0.000000</td>\n",
       "    </tr>\n",
       "    <tr>\n",
       "      <th>50%</th>\n",
       "      <td>45.000000</td>\n",
       "      <td>0.000000</td>\n",
       "      <td>0.000000</td>\n",
       "      <td>91.885000</td>\n",
       "      <td>28.100000</td>\n",
       "      <td>0.000000</td>\n",
       "    </tr>\n",
       "    <tr>\n",
       "      <th>75%</th>\n",
       "      <td>61.000000</td>\n",
       "      <td>0.000000</td>\n",
       "      <td>0.000000</td>\n",
       "      <td>114.090000</td>\n",
       "      <td>33.100000</td>\n",
       "      <td>0.000000</td>\n",
       "    </tr>\n",
       "    <tr>\n",
       "      <th>max</th>\n",
       "      <td>82.000000</td>\n",
       "      <td>1.000000</td>\n",
       "      <td>1.000000</td>\n",
       "      <td>271.740000</td>\n",
       "      <td>97.600000</td>\n",
       "      <td>1.000000</td>\n",
       "    </tr>\n",
       "  </tbody>\n",
       "</table>\n",
       "</div>"
      ],
      "text/plain": [
       "               age  hypertension  heart_disease  avg_glucose_level  \\\n",
       "count  5110.000000   5110.000000    5110.000000        5110.000000   \n",
       "mean     43.226614      0.097456       0.054012         106.147677   \n",
       "std      22.612647      0.296607       0.226063          45.283560   \n",
       "min       0.080000      0.000000       0.000000          55.120000   \n",
       "25%      25.000000      0.000000       0.000000          77.245000   \n",
       "50%      45.000000      0.000000       0.000000          91.885000   \n",
       "75%      61.000000      0.000000       0.000000         114.090000   \n",
       "max      82.000000      1.000000       1.000000         271.740000   \n",
       "\n",
       "               bmi       stroke  \n",
       "count  4909.000000  5110.000000  \n",
       "mean     28.893237     0.048728  \n",
       "std       7.854067     0.215320  \n",
       "min      10.300000     0.000000  \n",
       "25%      23.500000     0.000000  \n",
       "50%      28.100000     0.000000  \n",
       "75%      33.100000     0.000000  \n",
       "max      97.600000     1.000000  "
      ]
     },
     "execution_count": 7,
     "metadata": {},
     "output_type": "execute_result"
    }
   ],
   "source": [
    "# 수치형 데이터 통계량 확인하기\n",
    "df.describe(include=np.number)"
   ]
  },
  {
   "cell_type": "markdown",
   "id": "d1f49c1e-8587-4af1-833b-37d46f1814a9",
   "metadata": {},
   "source": [
    "## 데이터 통계 확인"
   ]
  },
  {
   "cell_type": "code",
   "execution_count": 8,
   "id": "bd7ad783-e5bb-4669-a047-90f69a24dd11",
   "metadata": {},
   "outputs": [
    {
     "data": {
      "text/plain": [
       "['gender', 'ever_married', 'work_type', 'Residence_type', 'smoking_status']"
      ]
     },
     "execution_count": 8,
     "metadata": {},
     "output_type": "execute_result"
    }
   ],
   "source": [
    "# 범주형 데이터 컬럼 리스트 추출\n",
    "cat_cols = list(df.select_dtypes(exclude=np.number).columns)\n",
    "cat_cols"
   ]
  },
  {
   "cell_type": "code",
   "execution_count": 9,
   "id": "0cc1348c-802f-4631-bfed-42895a4e1e45",
   "metadata": {},
   "outputs": [
    {
     "data": {
      "text/plain": [
       "['age', 'hypertension', 'heart_disease', 'avg_glucose_level', 'bmi', 'stroke']"
      ]
     },
     "execution_count": 9,
     "metadata": {},
     "output_type": "execute_result"
    }
   ],
   "source": [
    "# 수치형 데이터 컬럼 리스트 추출\n",
    "num_cols = list(df.select_dtypes(include=np.number).columns)\n",
    "num_cols"
   ]
  },
  {
   "cell_type": "code",
   "execution_count": 10,
   "id": "23747909-292b-4017-a83f-c98c2819e4c1",
   "metadata": {},
   "outputs": [
    {
     "data": {
      "text/html": [
       "<div>\n",
       "<style scoped>\n",
       "    .dataframe tbody tr th:only-of-type {\n",
       "        vertical-align: middle;\n",
       "    }\n",
       "\n",
       "    .dataframe tbody tr th {\n",
       "        vertical-align: top;\n",
       "    }\n",
       "\n",
       "    .dataframe thead th {\n",
       "        text-align: right;\n",
       "    }\n",
       "</style>\n",
       "<table border=\"1\" class=\"dataframe\">\n",
       "  <thead>\n",
       "    <tr style=\"text-align: right;\">\n",
       "      <th></th>\n",
       "      <th>gender</th>\n",
       "      <th>ever_married</th>\n",
       "      <th>work_type</th>\n",
       "      <th>Residence_type</th>\n",
       "      <th>smoking_status</th>\n",
       "    </tr>\n",
       "  </thead>\n",
       "  <tbody>\n",
       "    <tr>\n",
       "      <th>count</th>\n",
       "      <td>5110</td>\n",
       "      <td>5110</td>\n",
       "      <td>5110</td>\n",
       "      <td>5110</td>\n",
       "      <td>5110</td>\n",
       "    </tr>\n",
       "    <tr>\n",
       "      <th>unique</th>\n",
       "      <td>3</td>\n",
       "      <td>2</td>\n",
       "      <td>5</td>\n",
       "      <td>2</td>\n",
       "      <td>4</td>\n",
       "    </tr>\n",
       "    <tr>\n",
       "      <th>top</th>\n",
       "      <td>Female</td>\n",
       "      <td>Yes</td>\n",
       "      <td>Private</td>\n",
       "      <td>Urban</td>\n",
       "      <td>never smoked</td>\n",
       "    </tr>\n",
       "    <tr>\n",
       "      <th>freq</th>\n",
       "      <td>2994</td>\n",
       "      <td>3353</td>\n",
       "      <td>2925</td>\n",
       "      <td>2596</td>\n",
       "      <td>1892</td>\n",
       "    </tr>\n",
       "  </tbody>\n",
       "</table>\n",
       "</div>"
      ],
      "text/plain": [
       "        gender ever_married work_type Residence_type smoking_status\n",
       "count     5110         5110      5110           5110           5110\n",
       "unique       3            2         5              2              4\n",
       "top     Female          Yes   Private          Urban   never smoked\n",
       "freq      2994         3353      2925           2596           1892"
      ]
     },
     "execution_count": 10,
     "metadata": {},
     "output_type": "execute_result"
    }
   ],
   "source": [
    "# 문자형 데이터 통계 확인\n",
    "df[cat_cols].describe()"
   ]
  },
  {
   "cell_type": "code",
   "execution_count": 11,
   "id": "b5a6e2cb-145c-4cfc-a7ba-cc453372ffdf",
   "metadata": {},
   "outputs": [
    {
     "data": {
      "text/plain": [
       "gender\n",
       "Female    2994\n",
       "Male      2115\n",
       "Other        1\n",
       "Name: count, dtype: int64"
      ]
     },
     "execution_count": 11,
     "metadata": {},
     "output_type": "execute_result"
    }
   ],
   "source": [
    "df[\"gender\"].value_counts()"
   ]
  },
  {
   "cell_type": "code",
   "execution_count": 12,
   "id": "8e5fcbda-f7b0-4010-b505-a7deff5e1ab3",
   "metadata": {},
   "outputs": [
    {
     "data": {
      "text/html": [
       "<div>\n",
       "<style scoped>\n",
       "    .dataframe tbody tr th:only-of-type {\n",
       "        vertical-align: middle;\n",
       "    }\n",
       "\n",
       "    .dataframe tbody tr th {\n",
       "        vertical-align: top;\n",
       "    }\n",
       "\n",
       "    .dataframe thead th {\n",
       "        text-align: right;\n",
       "    }\n",
       "</style>\n",
       "<table border=\"1\" class=\"dataframe\">\n",
       "  <thead>\n",
       "    <tr style=\"text-align: right;\">\n",
       "      <th></th>\n",
       "      <th>age</th>\n",
       "      <th>hypertension</th>\n",
       "      <th>heart_disease</th>\n",
       "      <th>avg_glucose_level</th>\n",
       "      <th>bmi</th>\n",
       "      <th>stroke</th>\n",
       "    </tr>\n",
       "  </thead>\n",
       "  <tbody>\n",
       "    <tr>\n",
       "      <th>count</th>\n",
       "      <td>5110.000000</td>\n",
       "      <td>5110.000000</td>\n",
       "      <td>5110.000000</td>\n",
       "      <td>5110.000000</td>\n",
       "      <td>4909.000000</td>\n",
       "      <td>5110.000000</td>\n",
       "    </tr>\n",
       "    <tr>\n",
       "      <th>mean</th>\n",
       "      <td>43.226614</td>\n",
       "      <td>0.097456</td>\n",
       "      <td>0.054012</td>\n",
       "      <td>106.147677</td>\n",
       "      <td>28.893237</td>\n",
       "      <td>0.048728</td>\n",
       "    </tr>\n",
       "    <tr>\n",
       "      <th>std</th>\n",
       "      <td>22.612647</td>\n",
       "      <td>0.296607</td>\n",
       "      <td>0.226063</td>\n",
       "      <td>45.283560</td>\n",
       "      <td>7.854067</td>\n",
       "      <td>0.215320</td>\n",
       "    </tr>\n",
       "    <tr>\n",
       "      <th>min</th>\n",
       "      <td>0.080000</td>\n",
       "      <td>0.000000</td>\n",
       "      <td>0.000000</td>\n",
       "      <td>55.120000</td>\n",
       "      <td>10.300000</td>\n",
       "      <td>0.000000</td>\n",
       "    </tr>\n",
       "    <tr>\n",
       "      <th>25%</th>\n",
       "      <td>25.000000</td>\n",
       "      <td>0.000000</td>\n",
       "      <td>0.000000</td>\n",
       "      <td>77.245000</td>\n",
       "      <td>23.500000</td>\n",
       "      <td>0.000000</td>\n",
       "    </tr>\n",
       "    <tr>\n",
       "      <th>50%</th>\n",
       "      <td>45.000000</td>\n",
       "      <td>0.000000</td>\n",
       "      <td>0.000000</td>\n",
       "      <td>91.885000</td>\n",
       "      <td>28.100000</td>\n",
       "      <td>0.000000</td>\n",
       "    </tr>\n",
       "    <tr>\n",
       "      <th>75%</th>\n",
       "      <td>61.000000</td>\n",
       "      <td>0.000000</td>\n",
       "      <td>0.000000</td>\n",
       "      <td>114.090000</td>\n",
       "      <td>33.100000</td>\n",
       "      <td>0.000000</td>\n",
       "    </tr>\n",
       "    <tr>\n",
       "      <th>max</th>\n",
       "      <td>82.000000</td>\n",
       "      <td>1.000000</td>\n",
       "      <td>1.000000</td>\n",
       "      <td>271.740000</td>\n",
       "      <td>97.600000</td>\n",
       "      <td>1.000000</td>\n",
       "    </tr>\n",
       "  </tbody>\n",
       "</table>\n",
       "</div>"
      ],
      "text/plain": [
       "               age  hypertension  heart_disease  avg_glucose_level  \\\n",
       "count  5110.000000   5110.000000    5110.000000        5110.000000   \n",
       "mean     43.226614      0.097456       0.054012         106.147677   \n",
       "std      22.612647      0.296607       0.226063          45.283560   \n",
       "min       0.080000      0.000000       0.000000          55.120000   \n",
       "25%      25.000000      0.000000       0.000000          77.245000   \n",
       "50%      45.000000      0.000000       0.000000          91.885000   \n",
       "75%      61.000000      0.000000       0.000000         114.090000   \n",
       "max      82.000000      1.000000       1.000000         271.740000   \n",
       "\n",
       "               bmi       stroke  \n",
       "count  4909.000000  5110.000000  \n",
       "mean     28.893237     0.048728  \n",
       "std       7.854067     0.215320  \n",
       "min      10.300000     0.000000  \n",
       "25%      23.500000     0.000000  \n",
       "50%      28.100000     0.000000  \n",
       "75%      33.100000     0.000000  \n",
       "max      97.600000     1.000000  "
      ]
     },
     "execution_count": 12,
     "metadata": {},
     "output_type": "execute_result"
    }
   ],
   "source": [
    "# 수치형 데이터 기초 통계 확인\n",
    "df[num_cols].describe()"
   ]
  },
  {
   "cell_type": "code",
   "execution_count": 13,
   "id": "e61454d7-b5db-4b50-85cb-85aae8b50880",
   "metadata": {},
   "outputs": [
    {
     "data": {
      "text/html": [
       "<div>\n",
       "<style scoped>\n",
       "    .dataframe tbody tr th:only-of-type {\n",
       "        vertical-align: middle;\n",
       "    }\n",
       "\n",
       "    .dataframe tbody tr th {\n",
       "        vertical-align: top;\n",
       "    }\n",
       "\n",
       "    .dataframe thead th {\n",
       "        text-align: right;\n",
       "    }\n",
       "</style>\n",
       "<table border=\"1\" class=\"dataframe\">\n",
       "  <thead>\n",
       "    <tr style=\"text-align: right;\">\n",
       "      <th></th>\n",
       "      <th>gender</th>\n",
       "      <th>age</th>\n",
       "      <th>hypertension</th>\n",
       "      <th>heart_disease</th>\n",
       "      <th>ever_married</th>\n",
       "      <th>work_type</th>\n",
       "      <th>Residence_type</th>\n",
       "      <th>avg_glucose_level</th>\n",
       "      <th>bmi</th>\n",
       "      <th>smoking_status</th>\n",
       "      <th>stroke</th>\n",
       "    </tr>\n",
       "  </thead>\n",
       "  <tbody>\n",
       "    <tr>\n",
       "      <th>0</th>\n",
       "      <td>Male</td>\n",
       "      <td>67.0</td>\n",
       "      <td>0</td>\n",
       "      <td>1</td>\n",
       "      <td>Yes</td>\n",
       "      <td>Private</td>\n",
       "      <td>Urban</td>\n",
       "      <td>228.69</td>\n",
       "      <td>36.6</td>\n",
       "      <td>formerly smoked</td>\n",
       "      <td>1</td>\n",
       "    </tr>\n",
       "    <tr>\n",
       "      <th>1</th>\n",
       "      <td>Female</td>\n",
       "      <td>61.0</td>\n",
       "      <td>0</td>\n",
       "      <td>0</td>\n",
       "      <td>Yes</td>\n",
       "      <td>Self-employed</td>\n",
       "      <td>Rural</td>\n",
       "      <td>202.21</td>\n",
       "      <td>NaN</td>\n",
       "      <td>never smoked</td>\n",
       "      <td>1</td>\n",
       "    </tr>\n",
       "    <tr>\n",
       "      <th>2</th>\n",
       "      <td>Male</td>\n",
       "      <td>80.0</td>\n",
       "      <td>0</td>\n",
       "      <td>1</td>\n",
       "      <td>Yes</td>\n",
       "      <td>Private</td>\n",
       "      <td>Rural</td>\n",
       "      <td>105.92</td>\n",
       "      <td>32.5</td>\n",
       "      <td>never smoked</td>\n",
       "      <td>1</td>\n",
       "    </tr>\n",
       "  </tbody>\n",
       "</table>\n",
       "</div>"
      ],
      "text/plain": [
       "   gender   age  hypertension  heart_disease ever_married      work_type  \\\n",
       "0    Male  67.0             0              1          Yes        Private   \n",
       "1  Female  61.0             0              0          Yes  Self-employed   \n",
       "2    Male  80.0             0              1          Yes        Private   \n",
       "\n",
       "  Residence_type  avg_glucose_level   bmi   smoking_status  stroke  \n",
       "0          Urban             228.69  36.6  formerly smoked       1  \n",
       "1          Rural             202.21   NaN     never smoked       1  \n",
       "2          Rural             105.92  32.5     never smoked       1  "
      ]
     },
     "execution_count": 13,
     "metadata": {},
     "output_type": "execute_result"
    }
   ],
   "source": [
    "df.head(3)"
   ]
  },
  {
   "cell_type": "markdown",
   "id": "8a654791-9633-4283-a04e-d9ea92f438b4",
   "metadata": {},
   "source": [
    "## 데이터 시각화로 탐색하기"
   ]
  },
  {
   "cell_type": "code",
   "execution_count": 14,
   "id": "351350fc-1258-42e6-8c29-832ca17e9aa0",
   "metadata": {},
   "outputs": [
    {
     "data": {
      "text/plain": [
       "<Axes: xlabel='gender', ylabel='count'>"
      ]
     },
     "execution_count": 14,
     "metadata": {},
     "output_type": "execute_result"
    },
    {
     "data": {
      "image/png": "[encoded data removed]",
      "text/plain": [
       "<Figure size 1000x800 with 1 Axes>"
      ]
     },
     "metadata": {},
     "output_type": "display_data"
    }
   ],
   "source": [
    "# 성별에 따른 stroke의 0. 1 환자수 카운트 시각화 \n",
    "plt.figure(figsize=(10,8))\n",
    "sns.countplot(x=\"gender\", data=df, hue=\"stroke\")"
   ]
  },
  {
   "cell_type": "code",
   "execution_count": 15,
   "id": "47dd8840-d538-45b3-ba09-a18917e5f902",
   "metadata": {},
   "outputs": [
    {
     "data": {
      "image/png": "[encoded data removed]",
      "text/plain": [
       "<Figure size 1000x800 with 6 Axes>"
      ]
     },
     "metadata": {},
     "output_type": "display_data"
    }
   ],
   "source": [
    "# 문자형 데이터 개별 값과 stroke와의 관계 확인하기\n",
    "nrows, ncols = 2, 3;\n",
    "figure, ax_list_list = plt.subplots(nrows=nrows, ncols=ncols);\n",
    "figure.set_size_inches(10, 8)\n",
    "ax_list = ax_list_list.reshape(2 * 3)\n",
    "\n",
    "# 그래프 그리기\n",
    "for i in range(len(cat_cols)):\n",
    "    # print(df[i])\n",
    "    # print(i)\n",
    "    # print(\"i/nrows\" , i/nrows)\n",
    "    # print(\"i%ncols\", i%ncols)\n",
    "    fig = sns.countplot(x=cat_cols[i], data=df, hue=\"stroke\", ax=ax_list[i])\n",
    "    fig.set_xticklabels(fig.get_xticklabels(), rotation=45)\n",
    "plt.tight_layout()\n",
    "plt.show()"
   ]
  },
  {
   "cell_type": "code",
   "execution_count": 16,
   "id": "6ef3ce9b-f3ed-4462-b860-799160fa603a",
   "metadata": {},
   "outputs": [
    {
     "data": {
      "text/plain": [
       "<Axes: xlabel='age', ylabel='Count'>"
      ]
     },
     "execution_count": 16,
     "metadata": {},
     "output_type": "execute_result"
    },
    {
     "data": {
      "image/png": "[encoded data removed]",
      "text/plain": [
       "<Figure size 1000x800 with 1 Axes>"
      ]
     },
     "metadata": {},
     "output_type": "display_data"
    }
   ],
   "source": [
    "# 나이와 stroke과의 관계 확인하기(histplot())\n",
    "plt.figure(figsize=(10,8))\n",
    "sns.histplot(data=df, x=\"age\", hue=\"stroke\")"
   ]
  },
  {
   "cell_type": "code",
   "execution_count": 17,
   "id": "1725346f-3110-41f5-902c-2728a6152c1c",
   "metadata": {},
   "outputs": [
    {
     "data": {
      "text/plain": [
       "4909"
      ]
     },
     "execution_count": 17,
     "metadata": {},
     "output_type": "execute_result"
    }
   ],
   "source": [
    "df['bmi'].count()"
   ]
  },
  {
   "cell_type": "code",
   "execution_count": 18,
   "id": "ff8cb258-06a2-4e94-b5f9-d0f040e15541",
   "metadata": {},
   "outputs": [
    {
     "data": {
      "image/png": "[encoded data removed]",
      "text/plain": [
       "<Figure size 1000x600 with 3 Axes>"
      ]
     },
     "metadata": {},
     "output_type": "display_data"
    }
   ],
   "source": [
    "# sns.histplot()으로, 수치형 데이터의 분포 알아보기\n",
    "num_cols_g = [\"age\", \"avg_glucose_level\", \"bmi\"]\n",
    "nrows, ncols = 1, 3\n",
    "figure, ax_list_list = plt.subplots(nrows=nrows, ncols=ncols);\n",
    "figure.set_size_inches(10, 6)\n",
    "ax_list = ax_list_list.reshape(1 * 3)\n",
    "\n",
    "\n",
    "# 그래프 그리기\n",
    "for i in range(len(num_cols_g)):\n",
    "    # print(i)\n",
    "    # print(df[num_cols_g])\n",
    "    ax = sns.histplot(data=df, x=num_cols_g[i], ax=ax_list[i])\n",
    "    ax.set_title(\"distribution '\" + num_cols_g[i] + \"'\")\n",
    "\n",
    "plt.tight_layout()\n",
    "plt.show()"
   ]
  },
  {
   "cell_type": "code",
   "execution_count": 19,
   "id": "3a0655a9-faef-489e-ae97-90d44bcafe52",
   "metadata": {},
   "outputs": [
    {
     "ename": "SyntaxError",
     "evalue": "invalid syntax (1564790884.py, line 11)",
     "output_type": "error",
     "traceback": [
      "\u001b[1;36m  Cell \u001b[1;32mIn[19], line 11\u001b[1;36m\u001b[0m\n\u001b[1;33m    ax = sns.boxplot(data=df, y=num_cols_g[i], ax=ax_list[i])_\u001b[0m\n\u001b[1;37m                                                             ^\u001b[0m\n\u001b[1;31mSyntaxError\u001b[0m\u001b[1;31m:\u001b[0m invalid syntax\n"
     ]
    }
   ],
   "source": [
    "# 통계량은 boxplot으로 살펴보고, sns.boxplots() 활용\n",
    "nrows, ncols = 1, 3\n",
    "figure, ax_list_list = plt.subplots(nrows=nrows, ncols=ncols)\n",
    "figure.set_size_inches(8,3)\n",
    "ax_list = ax_list_list.reshape(1 * 3)\n",
    "\n",
    "# 그래프 그리기\n",
    "for i in range(len(num_cols_g)):\n",
    "    # print(i)\n",
    "    # print(df[num_cols_g])\n",
    "    ax = sns.boxplot(data=df, y=num_cols_g[i], ax=ax_list[i])_\n",
    "    ax.set_title(\"boxplot '\" + num_cols_g[i] + \"'\")\n",
    "    \n",
    "plt.tight_layout()\n",
    "plt.show()"
   ]
  },
  {
   "cell_type": "code",
   "execution_count": null,
   "id": "98faf7e0-a656-4a74-afa2-557432ed4cfd",
   "metadata": {},
   "outputs": [],
   "source": [
    "# 수치형 데이터 피처들간 상관계수 계산\n",
    "nums_df = df[num_cols]\n",
    "nums_df\n",
    "corr = nums_df.corr()"
   ]
  },
  {
   "cell_type": "code",
   "execution_count": null,
   "id": "7a2a56f1-f732-4089-a217-1c41abfbb06a",
   "metadata": {},
   "outputs": [],
   "source": [
    "# 피처들간의 상관관계 살펴보기\n",
    "# vmax=0.8, linewidths=0.01, square=True, annot=True, cmap='YlGnBu'\n",
    "plt.figure(figsize=(8, 8))\n",
    "\n",
    "sns.set(font_scale=1.5)\n",
    "sns.heatmap(\n",
    "            corr,\n",
    "            vmax=0.8,\n",
    "            linewidths=0.01,\n",
    "            square=True,\n",
    "            annot=True,\n",
    "            # fmt = \".2f\",\n",
    "            annot_kws={\"size\" : 10},\n",
    "            cmap=\"YlGnBu\"\n",
    "           );\n",
    "\n",
    "plt.title('Feature Correlation')"
   ]
  },
  {
   "cell_type": "markdown",
   "id": "ad5907a6-c1f9-406d-88bd-996bf69025d5",
   "metadata": {},
   "source": [
    "## 결측치 처리하기"
   ]
  },
  {
   "cell_type": "code",
   "execution_count": null,
   "id": "3d6308ae-dd4c-4333-b6da-55723b337640",
   "metadata": {},
   "outputs": [],
   "source": [
    "# 결측데이터 확인하기\n",
    "df.isnull().sum()"
   ]
  },
  {
   "cell_type": "code",
   "execution_count": null,
   "id": "69cdaddf-5b6e-4bbd-bb58-b15e00fb5f6a",
   "metadata": {},
   "outputs": [],
   "source": [
    "# bmi 컬럼 결측 데이터 평균값으로 채워넣기\n",
    "df[\"bmi\"] = df[\"bmi\"].fillna(df[\"bmi\"].mean())"
   ]
  },
  {
   "cell_type": "code",
   "execution_count": null,
   "id": "0b3021d4-81f1-4d86-8101-0f3ae418c2b6",
   "metadata": {},
   "outputs": [],
   "source": [
    "df.isnull().sum()"
   ]
  },
  {
   "cell_type": "markdown",
   "id": "cc8037a4-7c92-4783-ad07-d9af52f12e2b",
   "metadata": {},
   "source": [
    "## 문자형 데이터 숫자로 encoding하기"
   ]
  },
  {
   "cell_type": "code",
   "execution_count": null,
   "id": "9849e025-eaea-462a-866e-34d39d48b5ee",
   "metadata": {},
   "outputs": [],
   "source": [
    "df.info()"
   ]
  },
  {
   "cell_type": "code",
   "execution_count": null,
   "id": "3cc890a0-bd6f-448e-8c26-eb06d4296373",
   "metadata": {},
   "outputs": [],
   "source": [
    "df[cat_cols].describe()"
   ]
  },
  {
   "cell_type": "code",
   "execution_count": null,
   "id": "7a845762-157a-4686-ab78-5250cacf7edc",
   "metadata": {},
   "outputs": [],
   "source": [
    "# LabelEncoder 적용\n",
    "# 컬럼 : work_type, gender, ever_married, Residence_type, smoking_status\n",
    "from sklearn.preprocessing import LabelEncoder"
   ]
  },
  {
   "cell_type": "code",
   "execution_count": null,
   "id": "e9a602a0-f327-4433-9d9a-1cc6b6ad4a8f",
   "metadata": {},
   "outputs": [],
   "source": [
    "pd.get_dummies(df, columns = ['work_type', 'gender', 'ever_married', 'Residence_type', \"smoking_status\"])"
   ]
  },
  {
   "cell_type": "code",
   "execution_count": null,
   "id": "a3e4385c-43fb-4064-9e42-d0dfdcb20054",
   "metadata": {},
   "outputs": [],
   "source": [
    "le = LabelEncoder()\n",
    "\n",
    "df['work_type'] = le.fit_transform(df[\"work_type\"])\n",
    "df['gender'] = le.fit_transform(df[\"gender\"])\n",
    "df['ever_married'] = le.fit_transform(df[\"ever_married\"])\n",
    "df['Residence_type'] = le.fit_transform(df[\"Residence_type\"])\n",
    "df['smoking_status'] = le.fit_transform(df[\"smoking_status\"])"
   ]
  },
  {
   "cell_type": "code",
   "execution_count": null,
   "id": "92371f78-494d-4590-8819-7d67c8ec856c",
   "metadata": {},
   "outputs": [],
   "source": [
    "df_test = pd.DataFrame(df)\n",
    "\n",
    "df_test[\"test\"] = le.fit_transform(df[\"gender\"])\n",
    "df_test\n",
    "\n",
    "pd.get_dummies(df_test, columns = [\"gender\"])"
   ]
  },
  {
   "cell_type": "code",
   "execution_count": null,
   "id": "a725d32b-2264-4545-bc72-cc928f14bb72",
   "metadata": {},
   "outputs": [],
   "source": [
    "df = pd.get_dummies(df, columns = ['work_type', 'gender', 'ever_married', 'Residence_type', \"smoking_status\"])"
   ]
  },
  {
   "cell_type": "code",
   "execution_count": null,
   "id": "8090089b-0f69-4842-9dfe-b79f46668b51",
   "metadata": {},
   "outputs": [],
   "source": [
    "df = df.drop([\"id\"], axis=1)"
   ]
  },
  {
   "cell_type": "code",
   "execution_count": null,
   "id": "ce26fefc-e462-4492-a4f9-3e1d38cc7eed",
   "metadata": {
    "scrolled": true
   },
   "outputs": [],
   "source": [
    "df.head(3)"
   ]
  },
  {
   "cell_type": "markdown",
   "id": "9268df69-fd84-41b9-8bc3-3a66cc16691a",
   "metadata": {},
   "source": [
    "## feature(독립변수 X), target(종속변수 y) 분할\n",
    "### 독립변수, 설명변수, feature\n",
    "X = df.drop(['stroke'], axis=1)\n",
    "### 종속변수, target\n",
    "y = df['stroke']ke']"
   ]
  },
  {
   "cell_type": "markdown",
   "id": "d1a1bd8d-e1e9-4c91-96ea-e6a50d45b74e",
   "metadata": {},
   "source": [
    "## 트레이닝/테스트 데이터 준비\n",
    "- from sklearn.model_selection import train_test_split\n",
    "    - train_test_split(X, y, test_size=0.2, stratify=y, random_state=2023)\n",
    "- X : X_데이터\n",
    "- y : y_데이터\n",
    "- test_size : 분할 비율 (train 8 : test 2)\n",
    "- random_state : 분할 재현\n",
    "- stratify : 주어진 데이터에서 y 값의 비율을 균일하게 분할"
   ]
  },
  {
   "cell_type": "code",
   "execution_count": null,
   "id": "fee2efcd-ad19-4edb-bbc2-401b0a7adc0a",
   "metadata": {},
   "outputs": [],
   "source": [
    "# 독립변수, 설명변수, feature\n",
    "X = df.drop([\"stroke\"], axis=1)\n",
    "# 종속변수, target\n",
    "y = df[\"stroke\"]"
   ]
  },
  {
   "cell_type": "code",
   "execution_count": null,
   "id": "e3379c50-4ce7-4a1a-9c61-99feaca0a83a",
   "metadata": {},
   "outputs": [],
   "source": [
    "X.head()"
   ]
  },
  {
   "cell_type": "code",
   "execution_count": null,
   "id": "aa83643c-c2da-4f63-9e6d-30636450111e",
   "metadata": {},
   "outputs": [],
   "source": [
    "y[:5]"
   ]
  },
  {
   "cell_type": "code",
   "execution_count": null,
   "id": "14a21eb2-5af5-4bc7-a198-f6e1429c6be6",
   "metadata": {},
   "outputs": [],
   "source": [
    "from sklearn.model_selection import train_test_split"
   ]
  },
  {
   "cell_type": "code",
   "execution_count": null,
   "id": "3c4a2367-e748-4b86-a410-ea6f810899c6",
   "metadata": {
    "scrolled": true
   },
   "outputs": [],
   "source": [
    "train_X, test_X, train_y, test_y = train_test_split(X, y, test_size=0.3, random_state=2023)"
   ]
  },
  {
   "cell_type": "code",
   "execution_count": null,
   "id": "5fea3b95-8830-49aa-b09f-8584d5b48805",
   "metadata": {},
   "outputs": [],
   "source": [
    "train_y = train_y.astype(int)"
   ]
  },
  {
   "cell_type": "markdown",
   "id": "e7d8744f-046a-482d-b080-d71406144158",
   "metadata": {},
   "source": [
    "## 모델 학습, 테스트, 정확도 확인\n",
    "- Decision Tree"
   ]
  },
  {
   "cell_type": "code",
   "execution_count": null,
   "id": "bcea811d-a865-4d60-bc04-cbb159bc31eb",
   "metadata": {},
   "outputs": [],
   "source": [
    "from sklearn.tree import DecisionTreeClassifier\n",
    "from sklearn.metrics import accuracy_score"
   ]
  },
  {
   "cell_type": "code",
   "execution_count": null,
   "id": "db7f292b-2bb7-4b03-ad92-711a43babdb3",
   "metadata": {},
   "outputs": [],
   "source": [
    "print(test_y.astype(int))"
   ]
  },
  {
   "cell_type": "markdown",
   "id": "0996517e-5353-4901-b696-537036730790",
   "metadata": {},
   "source": [
    "## 학습 모델 테스트\n",
    "- 테스트 결과는 (y^ : 예측값)"
   ]
  },
  {
   "cell_type": "code",
   "execution_count": null,
   "id": "340e15c9-72ed-4d75-93ef-9eb669b8abd5",
   "metadata": {},
   "outputs": [],
   "source": [
    "dt_clf = DecisionTreeClassifier()\n",
    "dt_clf.fit(train_X, train_y)\n",
    "y_pred = dt_clf.predict(test_X)\n",
    "\n",
    "# 정확도 측정\n",
    "# accuracy_score(y테스트 데이터 관측 정답값, y모델 테스트 데이터 예측값)\n",
    "accuracy = accuracy_score(test_y, y_pred)\n",
    "print('accuracy :', accuracy)"
   ]
  },
  {
   "cell_type": "code",
   "execution_count": null,
   "id": "4f827093-a096-4d2c-b87a-6f88b1054d30",
   "metadata": {},
   "outputs": [],
   "source": [
    "from sklearn.metrics import classification_report"
   ]
  },
  {
   "cell_type": "code",
   "execution_count": null,
   "id": "781ea87d-970f-4de2-8641-9cd94e9e3907",
   "metadata": {},
   "outputs": [],
   "source": [
    "# classification_report() 결과 출력\n",
    "print(classification_report(test_y, y_pred))"
   ]
  },
  {
   "cell_type": "markdown",
   "id": "10407f4e-0e69-4a61-a633-ca5e97f67331",
   "metadata": {},
   "source": [
    "## RandomForestClassifier()"
   ]
  },
  {
   "cell_type": "code",
   "execution_count": null,
   "id": "5fe7b5ce-1bcf-4a61-b599-96108f6570ad",
   "metadata": {},
   "outputs": [],
   "source": [
    "from sklearn.ensemble import RandomForestClassifier"
   ]
  },
  {
   "cell_type": "code",
   "execution_count": null,
   "id": "ba03727b-73b4-4aad-9256-8f64bfe3def2",
   "metadata": {},
   "outputs": [],
   "source": [
    "rf_clf = RandomForestClassifier()\n",
    "rf_clf.fit(train_X, train_y)\n",
    "\n",
    "\n",
    "y_pred = rf_clf.predict(test_X)\n",
    "score = accuracy_score(test_y, y_pred)\n",
    "# baseline - 랜덤 포레스트(Random Forest) Accuracy : 0.8533352086922887\n",
    "print('랜덤 포레스트(Random Forest) Accuracy :', score)"
   ]
  },
  {
   "cell_type": "code",
   "execution_count": null,
   "id": "80802528-a8ef-4727-befb-5f66a6844483",
   "metadata": {},
   "outputs": [],
   "source": [
    "# classification_report() 결과 출력\n",
    "print(classification_report(test_y, y_pred))"
   ]
  },
  {
   "cell_type": "markdown",
   "id": "741c917e-7369-47c5-8df1-5e556f74b853",
   "metadata": {},
   "source": [
    "## XGBClassifier\n",
    "- https://xgboost.readthedocs.io/en/stable/\n",
    "- 한글 정리문서 : https://wooono.tistory.com/97\n",
    "- XGBClassifer()"
   ]
  },
  {
   "cell_type": "code",
   "execution_count": null,
   "id": "254b9e94-2e2b-472d-b31e-10ac6ba8efbf",
   "metadata": {},
   "outputs": [],
   "source": [
    "from xgboost import XGBClassifier\n",
    "# xgb_clf = XGBClassifier()"
   ]
  },
  {
   "cell_type": "code",
   "execution_count": null,
   "id": "50055a20-4bf4-4f83-86db-74b797487e9b",
   "metadata": {},
   "outputs": [],
   "source": [
    "xgb_clf = XGBClassifier()\n",
    "xgb_clf.fit(train_X, train_y)"
   ]
  },
  {
   "cell_type": "code",
   "execution_count": null,
   "id": "1fc77bf5-5dee-42af-8c3c-da8d9d78f863",
   "metadata": {},
   "outputs": [],
   "source": [
    "# xgboot "
   ]
  },
  {
   "cell_type": "code",
   "execution_count": null,
   "id": "a1d19869-164d-48d4-93e0-1d63787638d1",
   "metadata": {},
   "outputs": [],
   "source": [
    "pred_y = xgb_clf.predict(test_X)\n",
    "score = accuracy_score(test_y, pred_y)"
   ]
  },
  {
   "cell_type": "code",
   "execution_count": null,
   "id": "4e39a7d4-17ed-43ce-9f4b-f2d701366333",
   "metadata": {},
   "outputs": [],
   "source": [
    "print('XGBClassifier Accuracy: ', score)"
   ]
  },
  {
   "cell_type": "code",
   "execution_count": null,
   "id": "571e38bf-982c-4606-a0dc-622ea1fc4c6b",
   "metadata": {},
   "outputs": [],
   "source": [
    "# 평가 레포트\n",
    "print(classification_report(test_y, y_pred))"
   ]
  },
  {
   "cell_type": "code",
   "execution_count": null,
   "id": "f904f2ce-f5f6-4037-9639-70ce6e4e6ca9",
   "metadata": {},
   "outputs": [],
   "source": [
    "#xgboost의 강력한 기능 Feature Importance 확인\n",
    "from xgboost import plot_importance\n",
    "from matplotlib import pyplot\n",
    "plot_importance(xgb_clf)\n",
    "pyplot.show()"
   ]
  },
  {
   "cell_type": "markdown",
   "id": "058a85a6-df98-4e0e-b632-1ca982346c92",
   "metadata": {},
   "source": [
    "## Light GBM\n",
    "- 공식 문서 : https://lightgbm.readthedocs.io/en/v3.3.2/\n",
    "- pip install lightgmb"
   ]
  },
  {
   "cell_type": "markdown",
   "id": "88c24926-7f84-4072-bfe2-4e18ae1c7492",
   "metadata": {},
   "source": [
    "### light GBM"
   ]
  },
  {
   "cell_type": "code",
   "execution_count": null,
   "id": "d26e64e3-1645-4b05-99fc-b2ff95d04058",
   "metadata": {},
   "outputs": [],
   "source": [
    "import lightgbm as lgb"
   ]
  },
  {
   "cell_type": "code",
   "execution_count": null,
   "id": "c0b05e15-34a6-4bb2-ae03-1db10404ad85",
   "metadata": {},
   "outputs": [],
   "source": [
    "lit_gbm = lgb.LGBMClassifier()"
   ]
  },
  {
   "cell_type": "code",
   "execution_count": null,
   "id": "7cc3a5c3-2e34-4b03-8e15-0d4ab6031237",
   "metadata": {},
   "outputs": [],
   "source": [
    "lit_gbm.fit(train_X, train_y)\n",
    "\n",
    "pred_y_lgb = lit_gbm.predict(test_X)\n",
    "accuracy = accuracy_score(test_y, pred_y_lgb)"
   ]
  },
  {
   "cell_type": "code",
   "execution_count": null,
   "id": "ae9cf143-c0b4-447a-82b2-f79a72ec6a88",
   "metadata": {},
   "outputs": [],
   "source": [
    "print('lightgbm accuracy :', accuracy)"
   ]
  },
  {
   "cell_type": "code",
   "execution_count": null,
   "id": "a33207be-84c3-43f4-8b87-74022f7a928b",
   "metadata": {},
   "outputs": [],
   "source": [
    "# 평가 레포트\n",
    "print(classification_report(test_y, pred_y_lgb))"
   ]
  },
  {
   "cell_type": "markdown",
   "id": "d6d2b181-f560-4f5a-8b50-0bbcbe3a5bb2",
   "metadata": {},
   "source": [
    "## GridsearchCV 사용\n",
    "- Best Hyper Parameter 찾기"
   ]
  },
  {
   "cell_type": "code",
   "execution_count": null,
   "id": "3b1d9370-e3f1-438d-bd93-b1bfb9e79b97",
   "metadata": {},
   "outputs": [],
   "source": [
    "from xgboost import XGBClassifier\n",
    "xgb_clf = XGBClassifier()"
   ]
  },
  {
   "cell_type": "markdown",
   "id": "060e31cb-4acf-42fa-b600-ef55ecf9d7ee",
   "metadata": {},
   "source": [
    "## K-fold 교차 검증\n",
    "- 1에 가까울수록 좋다"
   ]
  },
  {
   "cell_type": "code",
   "execution_count": null,
   "id": "b4bc8866-c161-4ea9-98b7-ec877d765745",
   "metadata": {},
   "outputs": [],
   "source": [
    "from sklearn.model_selection import GridSearchCV"
   ]
  },
  {
   "cell_type": "markdown",
   "id": "70be7517-a047-48df-82c0-d62af3ea9eb3",
   "metadata": {
    "jp-MarkdownHeadingCollapsed": true
   },
   "source": [
    "## GridSearchCV 객체 생성\n",
    "- GridSearchCV(학습기 식별자, paramgrid=하이퍼 파라미터 맵, scoring=평가 방법, n_jobs=갯수(-1: 모두))\n",
    "- GridSearchCV(xgb_clf, paramgrid=cv_params, scoring=\"f1_micro\", n_jobs=-1)"
   ]
  },
  {
   "cell_type": "markdown",
   "id": "faf8acbd-9302-4e64-bb01-daa8d10a881d",
   "metadata": {},
   "source": [
    "## 학습기의 하이퍼 파라미터 맵 구성"
   ]
  },
  {
   "cell_type": "code",
   "execution_count": null,
   "id": "662f1b00-ffae-4550-bbda-7977759ad6bb",
   "metadata": {},
   "outputs": [],
   "source": [
    "cv_params = {\n",
    "    \"n_estimators\" : [100, 200, 300, 400, 500],\n",
    "    \"learning_rate\" : [0.01, 0.05, 0.1, 0.15],\n",
    "    \"max_depth\" : [3, 5, 7, 10, 15],\n",
    "    \"games\" : [0, 1, 2, 3],\n",
    "    \"colsaple_bytree\" : [0.8, 0.9]\n",
    "}"
   ]
  },
  {
   "cell_type": "markdown",
   "id": "2ec42e1a-342e-46f9-b075-9208c5fd4120",
   "metadata": {},
   "source": [
    "- score 종류는 acc, f1, f1_micro, f1_macro 등 원하는 걸로 설정\n",
    "- 여기서 설정 마라미터의 갯수(총 800개의 조합이므로 800번의 학습이 돌아감)\n",
    "- cv = 5 : K-Fold 교차 검증을 5번 설정 (총 4000번)"
   ]
  },
  {
   "cell_type": "markdown",
   "id": "d4faa959-7fee-4525-a4aa-d84ccdcedefc",
   "metadata": {},
   "source": [
    "### GridSearchCV 객체 생성\n",
    "- GridSearchCV(xgb_clf, param_grid=cv_params, scoring=\"f1_micro\", n_jobs=-1)\n",
    "- GridSearchCV(학습기_식별자, param_grid=하이퍼_파라메타_맵, scoring=평가방법, n_jobs=cpu갯수(-1:모두))"
   ]
  },
  {
   "cell_type": "code",
   "execution_count": null,
   "id": "0910ae7b-1696-4a39-ab52-e90e6894f535",
   "metadata": {},
   "outputs": [],
   "source": [
    "grid_cv = GridSearchCV(xgb_clf, param_grid=cv_params, scoring=\"f1_micro\", n_jobs=-1)"
   ]
  },
  {
   "cell_type": "markdown",
   "id": "d7bdf044-3825-43c1-86f2-ffb8f2b6f86a",
   "metadata": {},
   "source": [
    "### GridSearchCV 통한 학습\n",
    "- grid_cv.fit(X_train, y_train)"
   ]
  },
  {
   "cell_type": "code",
   "execution_count": null,
   "id": "7f0cfe0f-5c49-405a-9f7f-f01d2f1e32cd",
   "metadata": {},
   "outputs": [],
   "source": [
    "grid_cv.fit(train_X, train_y)"
   ]
  },
  {
   "cell_type": "markdown",
   "id": "3b994ccd-0aeb-4ad8-bda2-f68236da0d4a",
   "metadata": {},
   "source": [
    "### 베스트 모델의 하이퍼 파라메터 확인\n",
    "- grid_cv.best_score_ : 베스트 모델의 스코어 저장\n",
    "- grid_cv.best_params_ : 베스트 모델의 하이퍼 파라메터 저장"
   ]
  },
  {
   "cell_type": "code",
   "execution_count": null,
   "id": "d3616937-309d-4575-a533-bfe8b611c378",
   "metadata": {},
   "outputs": [],
   "source": [
    "# best f1_macro 수치와 best parameter 확인\n",
    "print(f\"Best score of parameter search is : {grid_cv.best_score_:.4f}\")\n",
    "print(f\"Best param : {grid_cv.best_params_}\")"
   ]
  },
  {
   "cell_type": "code",
   "execution_count": null,
   "id": "bf9e72f3-bb0b-4f30-8c59-fcbd774757e7",
   "metadata": {},
   "outputs": [],
   "source": [
    "# dataframe으로 랭킹순보기\n",
    "result_df = pd.DataFrame(grid_cv.cv_results_)\n",
    "result_df = result_df.sort_values(by=[\"rank_test_score\"])"
   ]
  },
  {
   "cell_type": "code",
   "execution_count": null,
   "id": "765a41cc-ef1e-49b9-8a70-29cf60121d2d",
   "metadata": {
    "scrolled": true
   },
   "outputs": [],
   "source": [
    "# df\n",
    "result_df[[\"params\", \"mean_test_score\", \"rank_test_score\"]].head(10)"
   ]
  },
  {
   "cell_type": "code",
   "execution_count": null,
   "id": "b8f57cab-42c0-4b03-a28c-fb06341be728",
   "metadata": {},
   "outputs": [],
   "source": [
    "train_pred = grid_cv.best_estimator_.predict(train_X)"
   ]
  },
  {
   "cell_type": "code",
   "execution_count": null,
   "id": "193abb35-c7f0-4b72-b52c-8d3bcc0f3d7b",
   "metadata": {},
   "outputs": [],
   "source": [
    "test_pred = grid_cv.best_estimator_.predict(test_X)"
   ]
  },
  {
   "cell_type": "code",
   "execution_count": null,
   "id": "46aadb3d-17a0-4c73-9a5d-5da00baef627",
   "metadata": {},
   "outputs": [],
   "source": [
    "train_acc = accuracy_score(train_y, train_pred)\n",
    "test_acc = accuracy_score(test_y, test_pred)"
   ]
  },
  {
   "cell_type": "code",
   "execution_count": null,
   "id": "78c753bf-c606-4ecb-bf58-c3c79dff8e5a",
   "metadata": {},
   "outputs": [],
   "source": [
    "print(f\"학습데이터 정확도: {train_acc}\")\n",
    "print(f\"테스트 데이터 정확도: {test_acc}\")"
   ]
  },
  {
   "cell_type": "code",
   "execution_count": null,
   "id": "39415f78-4a9b-4048-b2af-d6cf8976b982",
   "metadata": {},
   "outputs": [],
   "source": [
    "print(classification_report(test_y, test_pred))"
   ]
  },
  {
   "cell_type": "code",
   "execution_count": null,
   "id": "2caec144-bc3f-43a2-902b-b262fed3c76d",
   "metadata": {},
   "outputs": [],
   "source": [
    "# 튜닝된 파라미터 출력\n",
    "print(grid_cv.best_params_)"
   ]
  },
  {
   "cell_type": "code",
   "execution_count": null,
   "id": "bd2857d9-600a-470e-9d41-bd18778b6cd2",
   "metadata": {},
   "outputs": [],
   "source": []
  },
  {
   "cell_type": "markdown",
   "id": "5f7ac278-5646-4bfa-ab5d-5bf741b1226a",
   "metadata": {},
   "source": [
    "## [문제] ligthGBM 하이퍼 파라메터 찾기\n",
    "- GridSearchCV 사용\n",
    "\n",
    "사용\n",
    "- 많이 쓰는 하이퍼 파라미터 정리\n",
    "- map 구성해서 적용"
   ]
  },
  {
   "cell_type": "code",
   "execution_count": null,
   "id": "7889888d-65de-4ca9-9cba-44784655f64d",
   "metadata": {},
   "outputs": [],
   "source": [
    "lit_gbm"
   ]
  },
  {
   "cell_type": "code",
   "execution_count": null,
   "id": "9ed4ce59-f196-430c-850e-b3899b6046d0",
   "metadata": {
    "jp-MarkdownHeadingCollapsed": true
   },
   "outputs": [],
   "source": [
    "pandas 의 데이터 프레임 생략없이 출력하도록 설정하는 방법 참고\n",
    "\n",
    "# 데이터 프레임 생략 없이 출력 설정\n",
    "# pd.set_option('display.max_seq_items', None)\n",
    "# row 생략 없이 출력\n",
    "# pd.set_option('display.max_rows', None)\n",
    "# col 생략 없이 출력\n",
    "# pd.set_option('display.max_columns', None)\n",
    "# 하나의 column with를 무제한으로\n",
    "pd.set_option('display.max_colwidth', None)"
   ]
  }
 ],
 "metadata": {
  "kernelspec": {
   "display_name": "ml_ex",
   "language": "python",
   "name": "ml_venv"
  },
  "language_info": {
   "codemirror_mode": {
    "name": "ipython",
    "version": 3
   },
   "file_extension": ".py",
   "mimetype": "text/x-python",
   "name": "python",
   "nbconvert_exporter": "python",
   "pygments_lexer": "ipython3",
   "version": "3.9.13"
  }
 },
 "nbformat": 4,
 "nbformat_minor": 5
}
