{
 "cells": [
  {
   "cell_type": "markdown",
   "id": "c19183cb-ea78-4c5a-aa77-a0a9e987cab1",
   "metadata": {},
   "source": [
    "# 시계열 예측"
   ]
  },
  {
   "cell_type": "markdown",
   "id": "b34c4fb4-4372-4858-93fe-b1154b6d0231",
   "metadata": {},
   "source": [
    "## 설치 모듈\n",
    "- pip install prophet (fbprophet -> prophet 모듈명 변경됨)\n",
    "- pip install statsmodels"
   ]
  },
  {
   "cell_type": "markdown",
   "id": "31bdc877-1cc0-4d70-861b-5bff756f344c",
   "metadata": {},
   "source": [
    "## Prophet 모듈\n",
    "- 페이스북에서 공개한 시계열 예측 학습기\n",
    "- 참고 문서 :\n",
    "    - https://hyperconnect.github.io/2020/03/09/prophet-package.html"
   ]
  },
  {
   "cell_type": "code",
   "execution_count": 11,
   "id": "7c0eef3e-3eab-4834-a4d4-b4e22dbb2d6d",
   "metadata": {},
   "outputs": [],
   "source": [
    "import pandas as pd\n",
    "import matplotlib.pyplot as plt\n",
    "import seaborn as sns\n",
    "\n",
    "# 시계열 예측 모델 클래스\n",
    "from prophet import Prophet"
   ]
  },
  {
   "cell_type": "code",
   "execution_count": 3,
   "id": "191c8f13-220f-41ab-8723-5237f1e446ef",
   "metadata": {},
   "outputs": [],
   "source": [
    "data_path = 'ml_datas/cabbage/2022_배추가격.csv'"
   ]
  },
  {
   "cell_type": "code",
   "execution_count": 4,
   "id": "ef815abe-fef3-45cd-9bf1-db5f92eaee95",
   "metadata": {},
   "outputs": [
    {
     "data": {
      "text/html": [
       "<div>\n",
       "<style scoped>\n",
       "    .dataframe tbody tr th:only-of-type {\n",
       "        vertical-align: middle;\n",
       "    }\n",
       "\n",
       "    .dataframe tbody tr th {\n",
       "        vertical-align: top;\n",
       "    }\n",
       "\n",
       "    .dataframe thead th {\n",
       "        text-align: right;\n",
       "    }\n",
       "</style>\n",
       "<table border=\"1\" class=\"dataframe\">\n",
       "  <thead>\n",
       "    <tr style=\"text-align: right;\">\n",
       "      <th></th>\n",
       "      <th>날짜</th>\n",
       "      <th>배추가격</th>\n",
       "    </tr>\n",
       "  </thead>\n",
       "  <tbody>\n",
       "    <tr>\n",
       "      <th>0</th>\n",
       "      <td>2022-01-03</td>\n",
       "      <td>4151</td>\n",
       "    </tr>\n",
       "    <tr>\n",
       "      <th>1</th>\n",
       "      <td>2022-01-04</td>\n",
       "      <td>4289</td>\n",
       "    </tr>\n",
       "    <tr>\n",
       "      <th>2</th>\n",
       "      <td>2022-01-05</td>\n",
       "      <td>4302</td>\n",
       "    </tr>\n",
       "    <tr>\n",
       "      <th>3</th>\n",
       "      <td>2022-01-06</td>\n",
       "      <td>4387</td>\n",
       "    </tr>\n",
       "    <tr>\n",
       "      <th>4</th>\n",
       "      <td>2022-01-07</td>\n",
       "      <td>4387</td>\n",
       "    </tr>\n",
       "  </tbody>\n",
       "</table>\n",
       "</div>"
      ],
      "text/plain": [
       "           날짜  배추가격\n",
       "0  2022-01-03  4151\n",
       "1  2022-01-04  4289\n",
       "2  2022-01-05  4302\n",
       "3  2022-01-06  4387\n",
       "4  2022-01-07  4387"
      ]
     },
     "execution_count": 4,
     "metadata": {},
     "output_type": "execute_result"
    }
   ],
   "source": [
    "data_df = pd.read_csv(data_path, encoding='utf-8')\n",
    "data_df.head()"
   ]
  },
  {
   "cell_type": "code",
   "execution_count": 20,
   "id": "bbffa401-5d6f-4b70-8666-2c581e42fda8",
   "metadata": {},
   "outputs": [
    {
     "data": {
      "text/html": [
       "<div>\n",
       "<style scoped>\n",
       "    .dataframe tbody tr th:only-of-type {\n",
       "        vertical-align: middle;\n",
       "    }\n",
       "\n",
       "    .dataframe tbody tr th {\n",
       "        vertical-align: top;\n",
       "    }\n",
       "\n",
       "    .dataframe thead th {\n",
       "        text-align: right;\n",
       "    }\n",
       "</style>\n",
       "<table border=\"1\" class=\"dataframe\">\n",
       "  <thead>\n",
       "    <tr style=\"text-align: right;\">\n",
       "      <th></th>\n",
       "      <th>ds</th>\n",
       "      <th>y</th>\n",
       "    </tr>\n",
       "  </thead>\n",
       "  <tbody>\n",
       "    <tr>\n",
       "      <th>0</th>\n",
       "      <td>2022-01-03</td>\n",
       "      <td>4151</td>\n",
       "    </tr>\n",
       "    <tr>\n",
       "      <th>1</th>\n",
       "      <td>2022-01-04</td>\n",
       "      <td>4289</td>\n",
       "    </tr>\n",
       "    <tr>\n",
       "      <th>2</th>\n",
       "      <td>2022-01-05</td>\n",
       "      <td>4302</td>\n",
       "    </tr>\n",
       "    <tr>\n",
       "      <th>3</th>\n",
       "      <td>2022-01-06</td>\n",
       "      <td>4387</td>\n",
       "    </tr>\n",
       "    <tr>\n",
       "      <th>4</th>\n",
       "      <td>2022-01-07</td>\n",
       "      <td>4387</td>\n",
       "    </tr>\n",
       "    <tr>\n",
       "      <th>...</th>\n",
       "      <td>...</td>\n",
       "      <td>...</td>\n",
       "    </tr>\n",
       "    <tr>\n",
       "      <th>241</th>\n",
       "      <td>2022-12-26</td>\n",
       "      <td>2955</td>\n",
       "    </tr>\n",
       "    <tr>\n",
       "      <th>242</th>\n",
       "      <td>2022-12-27</td>\n",
       "      <td>2955</td>\n",
       "    </tr>\n",
       "    <tr>\n",
       "      <th>243</th>\n",
       "      <td>2022-12-28</td>\n",
       "      <td>2972</td>\n",
       "    </tr>\n",
       "    <tr>\n",
       "      <th>244</th>\n",
       "      <td>2022-12-29</td>\n",
       "      <td>3000</td>\n",
       "    </tr>\n",
       "    <tr>\n",
       "      <th>245</th>\n",
       "      <td>2022-12-30</td>\n",
       "      <td>3011</td>\n",
       "    </tr>\n",
       "  </tbody>\n",
       "</table>\n",
       "<p>246 rows × 2 columns</p>\n",
       "</div>"
      ],
      "text/plain": [
       "             ds     y\n",
       "0    2022-01-03  4151\n",
       "1    2022-01-04  4289\n",
       "2    2022-01-05  4302\n",
       "3    2022-01-06  4387\n",
       "4    2022-01-07  4387\n",
       "..          ...   ...\n",
       "241  2022-12-26  2955\n",
       "242  2022-12-27  2955\n",
       "243  2022-12-28  2972\n",
       "244  2022-12-29  3000\n",
       "245  2022-12-30  3011\n",
       "\n",
       "[246 rows x 2 columns]"
      ]
     },
     "execution_count": 20,
     "metadata": {},
     "output_type": "execute_result"
    }
   ],
   "source": [
    "data_set = data_df.copy()\n",
    "data_set.columns=[\"ds\", \"y\"]\n",
    "data_set"
   ]
  },
  {
   "cell_type": "code",
   "execution_count": 15,
   "id": "5555a75a-f057-415b-b2e7-48840de72667",
   "metadata": {},
   "outputs": [],
   "source": [
    "data_set = data_df.rename(columns= {\"날짜\" : \"ds\", \"배추가격\" : \"y\"})"
   ]
  },
  {
   "cell_type": "code",
   "execution_count": 16,
   "id": "b26c1def-96c7-48f5-ac9a-58a6c104cbdd",
   "metadata": {},
   "outputs": [
    {
     "name": "stdout",
     "output_type": "stream",
     "text": [
      "<class 'pandas.core.frame.DataFrame'>\n",
      "RangeIndex: 246 entries, 0 to 245\n",
      "Data columns (total 2 columns):\n",
      " #   Column  Non-Null Count  Dtype \n",
      "---  ------  --------------  ----- \n",
      " 0   ds      246 non-null    object\n",
      " 1   y       246 non-null    int64 \n",
      "dtypes: int64(1), object(1)\n",
      "memory usage: 4.0+ KB\n"
     ]
    }
   ],
   "source": [
    "data_set.info()"
   ]
  },
  {
   "cell_type": "markdown",
   "id": "b44eeda0-f6be-4ab3-9889-5df812278829",
   "metadata": {},
   "source": [
    "### 중요\n",
    "ds column type은 datetime 을 사용해야함"
   ]
  },
  {
   "cell_type": "code",
   "execution_count": 17,
   "id": "10cd5635-f0ff-4a42-b474-eae150fee5e5",
   "metadata": {},
   "outputs": [],
   "source": [
    "data_set[\"ds\"] = pd.to_datetime(data_set.ds).dt.tz_localize(None)"
   ]
  },
  {
   "cell_type": "code",
   "execution_count": 18,
   "id": "86c33c92-04b6-4238-bf60-36c60960b240",
   "metadata": {},
   "outputs": [
    {
     "name": "stdout",
     "output_type": "stream",
     "text": [
      "<class 'pandas.core.frame.DataFrame'>\n",
      "RangeIndex: 246 entries, 0 to 245\n",
      "Data columns (total 2 columns):\n",
      " #   Column  Non-Null Count  Dtype         \n",
      "---  ------  --------------  -----         \n",
      " 0   ds      246 non-null    datetime64[ns]\n",
      " 1   y       246 non-null    int64         \n",
      "dtypes: datetime64[ns](1), int64(1)\n",
      "memory usage: 4.0 KB\n"
     ]
    }
   ],
   "source": [
    "data_set.info()"
   ]
  },
  {
   "cell_type": "code",
   "execution_count": null,
   "id": "bfbebd3e-f238-4baa-aaff-d23d5c871f26",
   "metadata": {},
   "outputs": [],
   "source": [
    "# data_set['y'] = data_set['y'].astype(dtype='float')"
   ]
  },
  {
   "cell_type": "markdown",
   "id": "347640d4-9467-4a40-914f-6e65cd2c5a76",
   "metadata": {},
   "source": [
    "## 자기상관 기반 배추가격 추세 확인\n",
    "- x축은 lag의 개수이며 y축은 lag의 개수에 따른 데이터와 상관계수\n",
    "- plot_pacf : partial auto-correlative function부분 자기상관 함수\n",
    "    - 정상적인 데이터의 경우 빠르게 0에 수렴함\n",
    "    - 첫번째 막대는 자기자신의 상관관계 이므로 항상 1\n",
    "    - 참고 - https://han.gl/NjgNDN\n",
    "- plot_acf :auto-correlative function; 자기상관 함수\n",
    "- 파란 음영은 alpha=0.05일때, 95% 신뢰구간으로 추정된 표준편차를 의미함\n",
    "- 파란 점 : leg별 자기 상관계수를 의미함\n",
    "- leg는 실제값과 추정값의 - 참고 - https://signature95.tistory.com/24"
   ]
  },
  {
   "cell_type": "code",
   "execution_count": 21,
   "id": "b25c5104-1b16-4ab3-bfe3-279533164398",
   "metadata": {},
   "outputs": [],
   "source": [
    "from statsmodels.graphics.tsaplots import plot_acf, plot_pacf"
   ]
  },
  {
   "cell_type": "code",
   "execution_count": 23,
   "id": "e7ba3ffe-5bcc-493e-8c50-5155a04ec46d",
   "metadata": {},
   "outputs": [
    {
     "data": {
      "image/png": "[encoded data removed]",
      "text/plain": [
       "<Figure size 800x400 with 2 Axes>"
      ]
     },
     "metadata": {},
     "output_type": "display_data"
    }
   ],
   "source": [
    "plt.figure(figsize=(8,4))\n",
    "sns.set(style=\"ticks\")\n",
    "c = \"#386B7F\"\n",
    "plt.subplot(211); plot_acf(data_set[\"y\"], ax=plt.gca(), lags=54, color=c)\n",
    "plt.subplot(212); plot_pacf(data_set[\"y\"], ax=plt.gca(), lags=54, color=c)\n",
    "\n",
    "plt.tight_layout()\n",
    "plt.show()"
   ]
  },
  {
   "cell_type": "markdown",
   "id": "a27c310e-0b47-43b2-aa9f-8affd574d4a8",
   "metadata": {},
   "source": [
    "## 모델 학습"
   ]
  },
  {
   "cell_type": "code",
   "execution_count": 24,
   "id": "7129665b-820a-4fcd-8b93-0169ab6dddc5",
   "metadata": {},
   "outputs": [],
   "source": [
    "# Prophet(x) : x? Interval width : 95% (기본값 : 80%)\n",
    "model_ph = Prophet()"
   ]
  },
  {
   "cell_type": "code",
   "execution_count": 25,
   "id": "659ae1ad-df40-4af6-8d0a-43f9134725e3",
   "metadata": {},
   "outputs": [
    {
     "name": "stderr",
     "output_type": "stream",
     "text": [
      "15:46:38 - cmdstanpy - INFO - Chain [1] start processing\n",
      "15:46:38 - cmdstanpy - INFO - Chain [1] done processing\n"
     ]
    },
    {
     "data": {
      "text/plain": [
       "<prophet.forecaster.Prophet at 0x2378429e4c0>"
      ]
     },
     "execution_count": 25,
     "metadata": {},
     "output_type": "execute_result"
    }
   ],
   "source": [
    "model_ph.fit(data_set)"
   ]
  },
  {
   "cell_type": "markdown",
   "id": "da757bcf-1395-44c2-a7aa-8eba5e3d193e",
   "metadata": {},
   "source": [
    "## 미래 시간 만들기"
   ]
  },
  {
   "cell_type": "code",
   "execution_count": 30,
   "id": "5510d88f-5280-4997-ba8f-80ee8881da19",
   "metadata": {},
   "outputs": [
    {
     "name": "stdout",
     "output_type": "stream",
     "text": [
      "첫번째 주 예측 : \n"
     ]
    },
    {
     "data": {
      "text/html": [
       "<div>\n",
       "<style scoped>\n",
       "    .dataframe tbody tr th:only-of-type {\n",
       "        vertical-align: middle;\n",
       "    }\n",
       "\n",
       "    .dataframe tbody tr th {\n",
       "        vertical-align: top;\n",
       "    }\n",
       "\n",
       "    .dataframe thead th {\n",
       "        text-align: right;\n",
       "    }\n",
       "</style>\n",
       "<table border=\"1\" class=\"dataframe\">\n",
       "  <thead>\n",
       "    <tr style=\"text-align: right;\">\n",
       "      <th></th>\n",
       "      <th>ds</th>\n",
       "    </tr>\n",
       "  </thead>\n",
       "  <tbody>\n",
       "    <tr>\n",
       "      <th>246</th>\n",
       "      <td>2022-12-31</td>\n",
       "    </tr>\n",
       "    <tr>\n",
       "      <th>247</th>\n",
       "      <td>2023-01-01</td>\n",
       "    </tr>\n",
       "    <tr>\n",
       "      <th>248</th>\n",
       "      <td>2023-01-02</td>\n",
       "    </tr>\n",
       "    <tr>\n",
       "      <th>249</th>\n",
       "      <td>2023-01-03</td>\n",
       "    </tr>\n",
       "    <tr>\n",
       "      <th>250</th>\n",
       "      <td>2023-01-04</td>\n",
       "    </tr>\n",
       "    <tr>\n",
       "      <th>251</th>\n",
       "      <td>2023-01-05</td>\n",
       "    </tr>\n",
       "    <tr>\n",
       "      <th>252</th>\n",
       "      <td>2023-01-06</td>\n",
       "    </tr>\n",
       "    <tr>\n",
       "      <th>253</th>\n",
       "      <td>2023-01-07</td>\n",
       "    </tr>\n",
       "    <tr>\n",
       "      <th>254</th>\n",
       "      <td>2023-01-08</td>\n",
       "    </tr>\n",
       "    <tr>\n",
       "      <th>255</th>\n",
       "      <td>2023-01-09</td>\n",
       "    </tr>\n",
       "    <tr>\n",
       "      <th>256</th>\n",
       "      <td>2023-01-10</td>\n",
       "    </tr>\n",
       "    <tr>\n",
       "      <th>257</th>\n",
       "      <td>2023-01-11</td>\n",
       "    </tr>\n",
       "    <tr>\n",
       "      <th>258</th>\n",
       "      <td>2023-01-12</td>\n",
       "    </tr>\n",
       "    <tr>\n",
       "      <th>259</th>\n",
       "      <td>2023-01-13</td>\n",
       "    </tr>\n",
       "    <tr>\n",
       "      <th>260</th>\n",
       "      <td>2023-01-14</td>\n",
       "    </tr>\n",
       "    <tr>\n",
       "      <th>261</th>\n",
       "      <td>2023-01-15</td>\n",
       "    </tr>\n",
       "    <tr>\n",
       "      <th>262</th>\n",
       "      <td>2023-01-16</td>\n",
       "    </tr>\n",
       "    <tr>\n",
       "      <th>263</th>\n",
       "      <td>2023-01-17</td>\n",
       "    </tr>\n",
       "    <tr>\n",
       "      <th>264</th>\n",
       "      <td>2023-01-18</td>\n",
       "    </tr>\n",
       "    <tr>\n",
       "      <th>265</th>\n",
       "      <td>2023-01-19</td>\n",
       "    </tr>\n",
       "    <tr>\n",
       "      <th>266</th>\n",
       "      <td>2023-01-20</td>\n",
       "    </tr>\n",
       "    <tr>\n",
       "      <th>267</th>\n",
       "      <td>2023-01-21</td>\n",
       "    </tr>\n",
       "    <tr>\n",
       "      <th>268</th>\n",
       "      <td>2023-01-22</td>\n",
       "    </tr>\n",
       "    <tr>\n",
       "      <th>269</th>\n",
       "      <td>2023-01-23</td>\n",
       "    </tr>\n",
       "    <tr>\n",
       "      <th>270</th>\n",
       "      <td>2023-01-24</td>\n",
       "    </tr>\n",
       "    <tr>\n",
       "      <th>271</th>\n",
       "      <td>2023-01-25</td>\n",
       "    </tr>\n",
       "    <tr>\n",
       "      <th>272</th>\n",
       "      <td>2023-01-26</td>\n",
       "    </tr>\n",
       "    <tr>\n",
       "      <th>273</th>\n",
       "      <td>2023-01-27</td>\n",
       "    </tr>\n",
       "    <tr>\n",
       "      <th>274</th>\n",
       "      <td>2023-01-28</td>\n",
       "    </tr>\n",
       "    <tr>\n",
       "      <th>275</th>\n",
       "      <td>2023-01-29</td>\n",
       "    </tr>\n",
       "    <tr>\n",
       "      <th>276</th>\n",
       "      <td>2023-01-30</td>\n",
       "    </tr>\n",
       "    <tr>\n",
       "      <th>277</th>\n",
       "      <td>2023-01-31</td>\n",
       "    </tr>\n",
       "    <tr>\n",
       "      <th>278</th>\n",
       "      <td>2023-02-01</td>\n",
       "    </tr>\n",
       "    <tr>\n",
       "      <th>279</th>\n",
       "      <td>2023-02-02</td>\n",
       "    </tr>\n",
       "    <tr>\n",
       "      <th>280</th>\n",
       "      <td>2023-02-03</td>\n",
       "    </tr>\n",
       "    <tr>\n",
       "      <th>281</th>\n",
       "      <td>2023-02-04</td>\n",
       "    </tr>\n",
       "    <tr>\n",
       "      <th>282</th>\n",
       "      <td>2023-02-05</td>\n",
       "    </tr>\n",
       "    <tr>\n",
       "      <th>283</th>\n",
       "      <td>2023-02-06</td>\n",
       "    </tr>\n",
       "    <tr>\n",
       "      <th>284</th>\n",
       "      <td>2023-02-07</td>\n",
       "    </tr>\n",
       "    <tr>\n",
       "      <th>285</th>\n",
       "      <td>2023-02-08</td>\n",
       "    </tr>\n",
       "    <tr>\n",
       "      <th>286</th>\n",
       "      <td>2023-02-09</td>\n",
       "    </tr>\n",
       "    <tr>\n",
       "      <th>287</th>\n",
       "      <td>2023-02-10</td>\n",
       "    </tr>\n",
       "  </tbody>\n",
       "</table>\n",
       "</div>"
      ],
      "text/plain": [
       "            ds\n",
       "246 2022-12-31\n",
       "247 2023-01-01\n",
       "248 2023-01-02\n",
       "249 2023-01-03\n",
       "250 2023-01-04\n",
       "251 2023-01-05\n",
       "252 2023-01-06\n",
       "253 2023-01-07\n",
       "254 2023-01-08\n",
       "255 2023-01-09\n",
       "256 2023-01-10\n",
       "257 2023-01-11\n",
       "258 2023-01-12\n",
       "259 2023-01-13\n",
       "260 2023-01-14\n",
       "261 2023-01-15\n",
       "262 2023-01-16\n",
       "263 2023-01-17\n",
       "264 2023-01-18\n",
       "265 2023-01-19\n",
       "266 2023-01-20\n",
       "267 2023-01-21\n",
       "268 2023-01-22\n",
       "269 2023-01-23\n",
       "270 2023-01-24\n",
       "271 2023-01-25\n",
       "272 2023-01-26\n",
       "273 2023-01-27\n",
       "274 2023-01-28\n",
       "275 2023-01-29\n",
       "276 2023-01-30\n",
       "277 2023-01-31\n",
       "278 2023-02-01\n",
       "279 2023-02-02\n",
       "280 2023-02-03\n",
       "281 2023-02-04\n",
       "282 2023-02-05\n",
       "283 2023-02-06\n",
       "284 2023-02-07\n",
       "285 2023-02-08\n",
       "286 2023-02-09\n",
       "287 2023-02-10"
      ]
     },
     "execution_count": 30,
     "metadata": {},
     "output_type": "execute_result"
    }
   ],
   "source": [
    "# 6주 간의 미래 데이터 만듬(6*7 = 42일) 간의 미래 데이터 예측\n",
    "future_dates = model_ph.make_future_dataframe(periods=6*7) # 학습 시킨 모델 이름으로 메모리의 올라감\n",
    "\n",
    "print(\"첫번째 주 예측 : \")\n",
    "future_dates.tail(42)"
   ]
  },
  {
   "cell_type": "markdown",
   "id": "274d7335-c59b-40d2-9e97-a391e98bf73c",
   "metadata": {},
   "source": [
    "## 미래 데이터 예측"
   ]
  },
  {
   "cell_type": "code",
   "execution_count": 33,
   "id": "dc41ac31-7cd8-45a4-b7d6-a1983d702c0b",
   "metadata": {},
   "outputs": [
    {
     "name": "stdout",
     "output_type": "stream",
     "text": [
      "            ds        trend   yhat_lower   yhat_upper  trend_lower  \\\n",
      "0   2022-01-03  4116.374115  2978.832140  5057.810990  4116.374115   \n",
      "1   2022-01-04  4120.426858  3105.638581  5228.051760  4120.426858   \n",
      "2   2022-01-05  4124.479601  3099.376109  5261.965330  4124.479601   \n",
      "3   2022-01-06  4128.532344  3042.012506  5120.239751  4128.532344   \n",
      "4   2022-01-07  4132.585087  3057.634318  5112.005426  4132.585087   \n",
      "..         ...          ...          ...          ...          ...   \n",
      "283 2023-02-06  -603.369005 -1733.323178   488.800369  -851.070835   \n",
      "284 2023-02-07  -664.027621 -1729.973957   515.522853  -922.577793   \n",
      "285 2023-02-08  -724.686237 -1753.519380   376.271891  -992.618456   \n",
      "286 2023-02-09  -785.344852 -1864.834753   398.270648 -1066.860639   \n",
      "287 2023-02-10  -846.003468 -2011.413881   209.765181 -1137.217517   \n",
      "\n",
      "     trend_upper  additive_terms  additive_terms_lower  additive_terms_upper  \\\n",
      "0    4116.374115      -62.260578            -62.260578            -62.260578   \n",
      "1    4120.426858       55.861004             55.861004             55.861004   \n",
      "2    4124.479601       42.350665             42.350665             42.350665   \n",
      "3    4128.532344       -7.515382             -7.515382             -7.515382   \n",
      "4    4132.585087      -43.191999            -43.191999            -43.191999   \n",
      "..           ...             ...                   ...                   ...   \n",
      "283  -325.952696      -62.260578            -62.260578            -62.260578   \n",
      "284  -376.761304       55.861004             55.861004             55.861004   \n",
      "285  -424.089943       42.350665             42.350665             42.350665   \n",
      "286  -470.592483       -7.515382             -7.515382             -7.515382   \n",
      "287  -516.779289      -43.191999            -43.191999            -43.191999   \n",
      "\n",
      "        weekly  weekly_lower  weekly_upper  multiplicative_terms  \\\n",
      "0   -62.260578    -62.260578    -62.260578                   0.0   \n",
      "1    55.861004     55.861004     55.861004                   0.0   \n",
      "2    42.350665     42.350665     42.350665                   0.0   \n",
      "3    -7.515382     -7.515382     -7.515382                   0.0   \n",
      "4   -43.191999    -43.191999    -43.191999                   0.0   \n",
      "..         ...           ...           ...                   ...   \n",
      "283 -62.260578    -62.260578    -62.260578                   0.0   \n",
      "284  55.861004     55.861004     55.861004                   0.0   \n",
      "285  42.350665     42.350665     42.350665                   0.0   \n",
      "286  -7.515382     -7.515382     -7.515382                   0.0   \n",
      "287 -43.191999    -43.191999    -43.191999                   0.0   \n",
      "\n",
      "     multiplicative_terms_lower  multiplicative_terms_upper         yhat  \n",
      "0                           0.0                         0.0  4054.113537  \n",
      "1                           0.0                         0.0  4176.287862  \n",
      "2                           0.0                         0.0  4166.830266  \n",
      "3                           0.0                         0.0  4121.016962  \n",
      "4                           0.0                         0.0  4089.393088  \n",
      "..                          ...                         ...          ...  \n",
      "283                         0.0                         0.0  -665.629583  \n",
      "284                         0.0                         0.0  -608.166617  \n",
      "285                         0.0                         0.0  -682.335572  \n",
      "286                         0.0                         0.0  -792.860234  \n",
      "287                         0.0                         0.0  -889.195468  \n",
      "\n",
      "[288 rows x 16 columns]\n",
      "<class 'pandas.core.frame.DataFrame'>\n"
     ]
    }
   ],
   "source": [
    "# 미래 데이트 값 넣기\n",
    "forecast = model_ph.predict(future_dates)\n",
    "\n",
    "print(forecast)\n",
    "print(type(forecast))"
   ]
  },
  {
   "cell_type": "code",
   "execution_count": 34,
   "id": "0b52b349-9dd7-4a93-9b34-feb9a6cb7f87",
   "metadata": {},
   "outputs": [
    {
     "data": {
      "text/html": [
       "<div>\n",
       "<style scoped>\n",
       "    .dataframe tbody tr th:only-of-type {\n",
       "        vertical-align: middle;\n",
       "    }\n",
       "\n",
       "    .dataframe tbody tr th {\n",
       "        vertical-align: top;\n",
       "    }\n",
       "\n",
       "    .dataframe thead th {\n",
       "        text-align: right;\n",
       "    }\n",
       "</style>\n",
       "<table border=\"1\" class=\"dataframe\">\n",
       "  <thead>\n",
       "    <tr style=\"text-align: right;\">\n",
       "      <th></th>\n",
       "      <th>ds</th>\n",
       "      <th>yhat</th>\n",
       "      <th>yhat_lower</th>\n",
       "      <th>yhat_upper</th>\n",
       "    </tr>\n",
       "  </thead>\n",
       "  <tbody>\n",
       "    <tr>\n",
       "      <th>281</th>\n",
       "      <td>2023-02-04</td>\n",
       "      <td>-474.673599</td>\n",
       "      <td>-1470.108474</td>\n",
       "      <td>610.631672</td>\n",
       "    </tr>\n",
       "    <tr>\n",
       "      <th>282</th>\n",
       "      <td>2023-02-05</td>\n",
       "      <td>-535.332274</td>\n",
       "      <td>-1656.050438</td>\n",
       "      <td>611.413732</td>\n",
       "    </tr>\n",
       "    <tr>\n",
       "      <th>283</th>\n",
       "      <td>2023-02-06</td>\n",
       "      <td>-665.629583</td>\n",
       "      <td>-1733.323178</td>\n",
       "      <td>488.800369</td>\n",
       "    </tr>\n",
       "    <tr>\n",
       "      <th>284</th>\n",
       "      <td>2023-02-07</td>\n",
       "      <td>-608.166617</td>\n",
       "      <td>-1729.973957</td>\n",
       "      <td>515.522853</td>\n",
       "    </tr>\n",
       "    <tr>\n",
       "      <th>285</th>\n",
       "      <td>2023-02-08</td>\n",
       "      <td>-682.335572</td>\n",
       "      <td>-1753.519380</td>\n",
       "      <td>376.271891</td>\n",
       "    </tr>\n",
       "    <tr>\n",
       "      <th>286</th>\n",
       "      <td>2023-02-09</td>\n",
       "      <td>-792.860234</td>\n",
       "      <td>-1864.834753</td>\n",
       "      <td>398.270648</td>\n",
       "    </tr>\n",
       "    <tr>\n",
       "      <th>287</th>\n",
       "      <td>2023-02-10</td>\n",
       "      <td>-889.195468</td>\n",
       "      <td>-2011.413881</td>\n",
       "      <td>209.765181</td>\n",
       "    </tr>\n",
       "  </tbody>\n",
       "</table>\n",
       "</div>"
      ],
      "text/plain": [
       "            ds        yhat   yhat_lower  yhat_upper\n",
       "281 2023-02-04 -474.673599 -1470.108474  610.631672\n",
       "282 2023-02-05 -535.332274 -1656.050438  611.413732\n",
       "283 2023-02-06 -665.629583 -1733.323178  488.800369\n",
       "284 2023-02-07 -608.166617 -1729.973957  515.522853\n",
       "285 2023-02-08 -682.335572 -1753.519380  376.271891\n",
       "286 2023-02-09 -792.860234 -1864.834753  398.270648\n",
       "287 2023-02-10 -889.195468 -2011.413881  209.765181"
      ]
     },
     "execution_count": 34,
     "metadata": {},
     "output_type": "execute_result"
    }
   ],
   "source": [
    "# 마지막 주 예측\n",
    "forecast[[\"ds\", \"yhat\", \"yhat_lower\", \"yhat_upper\"]].tail(7)"
   ]
  },
  {
   "cell_type": "markdown",
   "id": "a9b49a5c-8a8e-4504-8cac-0937b377fb95",
   "metadata": {},
   "source": [
    "## 배추가격 예측(추정) 시각화"
   ]
  },
  {
   "cell_type": "code",
   "execution_count": 36,
   "id": "9f572235-5a7a-4cbc-b395-651cd99bf225",
   "metadata": {},
   "outputs": [
    {
     "data": {
      "image/png": "[encoded data removed]",
      "text/plain": [
       "<Figure size 1000x600 with 1 Axes>"
      ]
     },
     "metadata": {},
     "output_type": "display_data"
    }
   ],
   "source": [
    "# 파란색 선이 예측값, 검은색 점이 실제 데이터임\n",
    "model_ph.plot(forecast)\n",
    "\n",
    "plt.tight_layout()\n",
    "plt.show()"
   ]
  },
  {
   "cell_type": "code",
   "execution_count": null,
   "id": "b7b63235-58f3-4dec-9b35-b1332440676c",
   "metadata": {},
   "outputs": [],
   "source": []
  }
 ],
 "metadata": {
  "kernelspec": {
   "display_name": "ml_ex",
   "language": "python",
   "name": "ml_venv"
  },
  "language_info": {
   "codemirror_mode": {
    "name": "ipython",
    "version": 3
   },
   "file_extension": ".py",
   "mimetype": "text/x-python",
   "name": "python",
   "nbconvert_exporter": "python",
   "pygments_lexer": "ipython3",
   "version": "3.9.13"
  }
 },
 "nbformat": 4,
 "nbformat_minor": 5
}
