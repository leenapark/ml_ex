{
 "cells": [
  {
   "cell_type": "markdown",
   "id": "ed6dd056-666f-49c7-9563-3e4f67d64021",
   "metadata": {},
   "source": [
    "# 배추값 예측\n",
    "- 농산물 유통 정보 : https://www.kamis.or.kr/customer/main/main.do\n",
    "- 날씨 정보 : https://data.kma.go.kr/stcs/grnd/grndRnList.do?pgmNo=69"
   ]
  },
  {
   "cell_type": "markdown",
   "id": "b48f349c-5575-410c-9f94-1405fa4dfb62",
   "metadata": {},
   "source": [
    "## url의 이미\n",
    "<pre>\n",
    "    action=daily&\n",
    "    startday=2023-06-01&   -> 시작일자\n",
    "    endday=2023-06-04&     -> 종료일자\n",
    "    countycode=&\n",
    "    itemcategorycode=200   -> 배추\n",
    "    &itemcode=211&         -> 배추\n",
    "    kindcode=&\n",
    "    productrankcode=&\n",
    "    convert_kg_yn=N  \n",
    "</pre>"
   ]
  },
  {
   "cell_type": "code",
   "execution_count": 3,
   "id": "b0876882-567d-4e67-9a44-c650fc1f06f8",
   "metadata": {},
   "outputs": [],
   "source": [
    "import requests\n",
    "from bs4 import BeautifulSoup\n",
    "import datetime\n",
    "import pandas as pd"
   ]
  },
  {
   "cell_type": "code",
   "execution_count": 4,
   "id": "d8a1db93-59c1-41cd-b3e1-272eccabeb52",
   "metadata": {},
   "outputs": [
    {
     "name": "stdout",
     "output_type": "stream",
     "text": [
      "9270\n"
     ]
    },
    {
     "data": {
      "text/plain": [
       "9270"
      ]
     },
     "execution_count": 4,
     "metadata": {},
     "output_type": "execute_result"
    }
   ],
   "source": [
    "# url = 'https://www.kamis.or.kr/customer/price/retail/period.do?action=daily&startday=2021-01-01&endday=2021-01-01&countycode=&itemcategorycode=200&itemcode=211&kindcode=&productrankcode=&convert_kg_yn=N'\n",
    "url = \"https://www.kamis.or.kr/customer/price/wholesale/period.do?action=daily&startday=2022-01-01&endday=2022-01-5&countycode=&itemcategorycode=200&itemcode=211&kindcode=&productrankcode=&convert_kg_yn=N\"\n",
    "response = requests.get(url)\n",
    "html = BeautifulSoup(response.text, 'html.parser')\n",
    "# price = int(html.select_one('table.wtable3 td.last').text.replace(',',''))\n",
    "price = int(html.select_one('table.wtable3 td.last').text.replace(',',''))\n",
    "print(price)\n",
    "9270"
   ]
  },
  {
   "cell_type": "code",
   "execution_count": 5,
   "id": "c19e2887-042a-4448-875c-01b1afdecc09",
   "metadata": {},
   "outputs": [
    {
     "name": "stdout",
     "output_type": "stream",
     "text": [
      "9270\n"
     ]
    }
   ],
   "source": [
    "# try:  시도 > 되면 식1 실행\n",
    "#     식1   \n",
    "# except:  안되면 식2 실행\n",
    "#     식2   \n",
    "try:\n",
    "    response = requests.get(url)\n",
    "\n",
    "    html = BeautifulSoup(response.text, 'html.parser')\n",
    "    price = int(html.select_one('table.wtable3 td.last').text.replace(',',''))\n",
    "    print(price)\n",
    "except:\n",
    "    pass"
   ]
  },
  {
   "cell_type": "code",
   "execution_count": 6,
   "id": "3ffafacf-cd64-47a3-b957-a98d5b7f4dd6",
   "metadata": {},
   "outputs": [
    {
     "data": {
      "text/plain": [
       "'2023-05-01'"
      ]
     },
     "execution_count": 6,
     "metadata": {},
     "output_type": "execute_result"
    }
   ],
   "source": [
    "str(datetime.date(2023,5,1))"
   ]
  },
  {
   "cell_type": "code",
   "execution_count": 7,
   "id": "83819d61-68f2-4a39-aa06-7f4edd60bcfb",
   "metadata": {},
   "outputs": [
    {
     "data": {
      "text/plain": [
       "datetime.timedelta(days=1)"
      ]
     },
     "execution_count": 7,
     "metadata": {},
     "output_type": "execute_result"
    }
   ],
   "source": [
    "datetime.timedelta(days=1)"
   ]
  },
  {
   "cell_type": "code",
   "execution_count": 8,
   "id": "fd25d8e3-fc5b-4050-97d1-8ecd1d3bcb0f",
   "metadata": {},
   "outputs": [
    {
     "data": {
      "text/plain": [
       "datetime.date(2023, 5, 2)"
      ]
     },
     "execution_count": 8,
     "metadata": {},
     "output_type": "execute_result"
    }
   ],
   "source": [
    "datetime.date(2023,5,1) + datetime.timedelta(days=1)"
   ]
  },
  {
   "cell_type": "code",
   "execution_count": 9,
   "id": "99a8223f-bf73-4e01-8b3f-8733780098d7",
   "metadata": {},
   "outputs": [
    {
     "name": "stdout",
     "output_type": "stream",
     "text": [
      "2022-01-02 2022-01-03 2022-01-04 2022-01-05 2022-01-06 2022-01-07 2022-01-08 2022-01-09 2022-01-10 2022-01-11 2022-01-12 2022-01-13 2022-01-14 2022-01-15 2022-01-16 2022-01-17 2022-01-18 2022-01-19 2022-01-20 2022-01-21 2022-01-22 2022-01-23 2022-01-24 2022-01-25 2022-01-26 2022-01-27 2022-01-28 2022-01-29 2022-01-30 2022-01-31 2022-02-01 2022-02-02 2022-02-03 2022-02-04 2022-02-05 2022-02-06 2022-02-07 2022-02-08 2022-02-09 2022-02-10 2022-02-11 2022-02-12 2022-02-13 2022-02-14 2022-02-15 2022-02-16 2022-02-17 2022-02-18 2022-02-19 2022-02-20 2022-02-21 2022-02-22 2022-02-23 2022-02-24 2022-02-25 2022-02-26 2022-02-27 2022-02-28 2022-03-01 2022-03-02 2022-03-03 2022-03-04 2022-03-05 2022-03-06 2022-03-07 2022-03-08 2022-03-09 2022-03-10 2022-03-11 2022-03-12 2022-03-13 2022-03-14 2022-03-15 2022-03-16 2022-03-17 2022-03-18 2022-03-19 2022-03-20 2022-03-21 2022-03-22 2022-03-23 2022-03-24 2022-03-25 2022-03-26 2022-03-27 2022-03-28 2022-03-29 2022-03-30 2022-03-31 2022-04-01 2022-04-02 2022-04-03 2022-04-04 2022-04-05 2022-04-06 2022-04-07 2022-04-08 2022-04-09 2022-04-10 2022-04-11 2022-04-12 2022-04-13 2022-04-14 2022-04-15 2022-04-16 2022-04-17 2022-04-18 2022-04-19 2022-04-20 2022-04-21 2022-04-22 2022-04-23 2022-04-24 2022-04-25 2022-04-26 2022-04-27 2022-04-28 2022-04-29 2022-04-30 2022-05-01 2022-05-02 2022-05-03 2022-05-04 2022-05-05 2022-05-06 2022-05-07 2022-05-08 2022-05-09 2022-05-10 2022-05-11 2022-05-12 2022-05-13 2022-05-14 2022-05-15 2022-05-16 2022-05-17 2022-05-18 2022-05-19 2022-05-20 2022-05-21 2022-05-22 2022-05-23 2022-05-24 2022-05-25 2022-05-26 2022-05-27 2022-05-28 2022-05-29 2022-05-30 2022-05-31 2022-06-01 2022-06-02 2022-06-03 2022-06-04 2022-06-05 2022-06-06 2022-06-07 2022-06-08 2022-06-09 2022-06-10 2022-06-11 2022-06-12 2022-06-13 2022-06-14 2022-06-15 2022-06-16 2022-06-17 2022-06-18 2022-06-19 2022-06-20 2022-06-21 2022-06-22 2022-06-23 2022-06-24 2022-06-25 2022-06-26 2022-06-27 2022-06-28 2022-06-29 2022-06-30 2022-07-01 2022-07-02 2022-07-03 2022-07-04 2022-07-05 2022-07-06 2022-07-07 2022-07-08 2022-07-09 2022-07-10 2022-07-11 2022-07-12 2022-07-13 2022-07-14 2022-07-15 2022-07-16 2022-07-17 2022-07-18 2022-07-19 2022-07-20 2022-07-21 2022-07-22 2022-07-23 2022-07-24 2022-07-25 2022-07-26 2022-07-27 2022-07-28 2022-07-29 2022-07-30 2022-07-31 2022-08-01 2022-08-02 2022-08-03 2022-08-04 2022-08-05 2022-08-06 2022-08-07 2022-08-08 2022-08-09 2022-08-10 2022-08-11 2022-08-12 2022-08-13 2022-08-14 2022-08-15 2022-08-16 2022-08-17 2022-08-18 2022-08-19 2022-08-20 2022-08-21 2022-08-22 2022-08-23 2022-08-24 2022-08-25 2022-08-26 2022-08-27 2022-08-28 2022-08-29 2022-08-30 2022-08-31 2022-09-01 2022-09-02 2022-09-03 2022-09-04 2022-09-05 2022-09-06 2022-09-07 2022-09-08 2022-09-09 2022-09-10 2022-09-11 2022-09-12 2022-09-13 2022-09-14 2022-09-15 2022-09-16 2022-09-17 2022-09-18 2022-09-19 2022-09-20 2022-09-21 2022-09-22 2022-09-23 2022-09-24 2022-09-25 2022-09-26 2022-09-27 2022-09-28 2022-09-29 2022-09-30 2022-10-01 2022-10-02 2022-10-03 2022-10-04 2022-10-05 2022-10-06 2022-10-07 2022-10-08 2022-10-09 2022-10-10 2022-10-11 2022-10-12 2022-10-13 2022-10-14 2022-10-15 2022-10-16 2022-10-17 2022-10-18 2022-10-19 2022-10-20 2022-10-21 2022-10-22 2022-10-23 2022-10-24 2022-10-25 2022-10-26 2022-10-27 2022-10-28 2022-10-29 2022-10-30 2022-10-31 2022-11-01 2022-11-02 2022-11-03 2022-11-04 2022-11-05 2022-11-06 2022-11-07 2022-11-08 2022-11-09 2022-11-10 2022-11-11 2022-11-12 2022-11-13 2022-11-14 2022-11-15 2022-11-16 2022-11-17 2022-11-18 2022-11-19 2022-11-20 2022-11-21 2022-11-22 2022-11-23 2022-11-24 2022-11-25 2022-11-26 2022-11-27 2022-11-28 2022-11-29 2022-11-30 2022-12-01 2022-12-02 2022-12-03 2022-12-04 2022-12-05 2022-12-06 2022-12-07 2022-12-08 2022-12-09 2022-12-10 2022-12-11 2022-12-12 2022-12-13 2022-12-14 2022-12-15 2022-12-16 2022-12-17 2022-12-18 2022-12-19 2022-12-20 2022-12-21 2022-12-22 2022-12-23 2022-12-24 2022-12-25 2022-12-26 2022-12-27 2022-12-28 2022-12-29 2022-12-30 2022-12-31 "
     ]
    }
   ],
   "source": [
    "sd = datetime.date(2022,1,1)\n",
    "ed = sd\n",
    "final_ed = datetime.date(2022,12,31)\n",
    "\n",
    "total_price = []\n",
    "while final_ed != ed:\n",
    "    try:\n",
    "        url = f'https://www.kamis.or.kr/customer/price/retail/period.do?action=daily&startday={str(sd)}&endday={str(sd)}&countycode=&itemcategorycode=200&itemcode=211&kindcode=&productrankcode=&convert_kg_yn=N'\n",
    "        response = requests.get(url)\n",
    "\n",
    "        html = BeautifulSoup(response.text, 'html.parser')\n",
    "        price = int(html.select_one('table.wtable3 td.last').text.replace(',',''))\n",
    "        total_price.append([sd,price])\n",
    "    except:\n",
    "        pass\n",
    "    \n",
    "    sd += datetime.timedelta(days=1)\n",
    "    ed = sd\n",
    "    print(ed, end=\" \")\n",
    "df = pd.DataFrame(total_price, columns = ['날짜', '배추가격'])"
   ]
  },
  {
   "cell_type": "code",
   "execution_count": 10,
   "id": "78eeb924-0741-4031-b5f6-46a99e38508c",
   "metadata": {},
   "outputs": [],
   "source": [
    "df.to_csv('ml_datas/cabbage/배추가격_202201_202212.csv', encoding='utf-8', index=False)"
   ]
  },
  {
   "cell_type": "code",
   "execution_count": 40,
   "id": "f0463cfb-2567-449a-bf12-8a9d5fe1affa",
   "metadata": {},
   "outputs": [
    {
     "data": {
      "text/html": [
       "<div>\n",
       "<style scoped>\n",
       "    .dataframe tbody tr th:only-of-type {\n",
       "        vertical-align: middle;\n",
       "    }\n",
       "\n",
       "    .dataframe tbody tr th {\n",
       "        vertical-align: top;\n",
       "    }\n",
       "\n",
       "    .dataframe thead th {\n",
       "        text-align: right;\n",
       "    }\n",
       "</style>\n",
       "<table border=\"1\" class=\"dataframe\">\n",
       "  <thead>\n",
       "    <tr style=\"text-align: right;\">\n",
       "      <th></th>\n",
       "      <th>날짜</th>\n",
       "      <th>배추가격</th>\n",
       "    </tr>\n",
       "  </thead>\n",
       "  <tbody>\n",
       "    <tr>\n",
       "      <th>0</th>\n",
       "      <td>2022-01-03</td>\n",
       "      <td>4151</td>\n",
       "    </tr>\n",
       "    <tr>\n",
       "      <th>1</th>\n",
       "      <td>2022-01-04</td>\n",
       "      <td>4289</td>\n",
       "    </tr>\n",
       "    <tr>\n",
       "      <th>2</th>\n",
       "      <td>2022-01-05</td>\n",
       "      <td>4302</td>\n",
       "    </tr>\n",
       "    <tr>\n",
       "      <th>3</th>\n",
       "      <td>2022-01-06</td>\n",
       "      <td>4387</td>\n",
       "    </tr>\n",
       "    <tr>\n",
       "      <th>4</th>\n",
       "      <td>2022-01-07</td>\n",
       "      <td>4387</td>\n",
       "    </tr>\n",
       "    <tr>\n",
       "      <th>5</th>\n",
       "      <td>2022-01-10</td>\n",
       "      <td>4326</td>\n",
       "    </tr>\n",
       "    <tr>\n",
       "      <th>6</th>\n",
       "      <td>2022-01-11</td>\n",
       "      <td>4489</td>\n",
       "    </tr>\n",
       "    <tr>\n",
       "      <th>7</th>\n",
       "      <td>2022-01-12</td>\n",
       "      <td>4506</td>\n",
       "    </tr>\n",
       "    <tr>\n",
       "      <th>8</th>\n",
       "      <td>2022-01-13</td>\n",
       "      <td>4559</td>\n",
       "    </tr>\n",
       "    <tr>\n",
       "      <th>9</th>\n",
       "      <td>2022-01-14</td>\n",
       "      <td>4330</td>\n",
       "    </tr>\n",
       "  </tbody>\n",
       "</table>\n",
       "</div>"
      ],
      "text/plain": [
       "           날짜  배추가격\n",
       "0  2022-01-03  4151\n",
       "1  2022-01-04  4289\n",
       "2  2022-01-05  4302\n",
       "3  2022-01-06  4387\n",
       "4  2022-01-07  4387\n",
       "5  2022-01-10  4326\n",
       "6  2022-01-11  4489\n",
       "7  2022-01-12  4506\n",
       "8  2022-01-13  4559\n",
       "9  2022-01-14  4330"
      ]
     },
     "execution_count": 40,
     "metadata": {},
     "output_type": "execute_result"
    }
   ],
   "source": [
    "df = pd.read_csv('ml_datas/cabbage/배추가격_202201_202212.csv')\n",
    "df.head(10)"
   ]
  },
  {
   "cell_type": "code",
   "execution_count": 41,
   "id": "6489b1ec-61d5-409e-91e0-73327e5e4fdc",
   "metadata": {},
   "outputs": [
    {
     "data": {
      "text/html": [
       "<div>\n",
       "<style scoped>\n",
       "    .dataframe tbody tr th:only-of-type {\n",
       "        vertical-align: middle;\n",
       "    }\n",
       "\n",
       "    .dataframe tbody tr th {\n",
       "        vertical-align: top;\n",
       "    }\n",
       "\n",
       "    .dataframe thead th {\n",
       "        text-align: right;\n",
       "    }\n",
       "</style>\n",
       "<table border=\"1\" class=\"dataframe\">\n",
       "  <thead>\n",
       "    <tr style=\"text-align: right;\">\n",
       "      <th></th>\n",
       "      <th>날짜</th>\n",
       "      <th>평균기온(℃)</th>\n",
       "      <th>최저기온(℃)</th>\n",
       "      <th>최고기온(℃)</th>\n",
       "    </tr>\n",
       "  </thead>\n",
       "  <tbody>\n",
       "    <tr>\n",
       "      <th>0</th>\n",
       "      <td>2022-01-01</td>\n",
       "      <td>-3.7</td>\n",
       "      <td>-9.9</td>\n",
       "      <td>3.4</td>\n",
       "    </tr>\n",
       "    <tr>\n",
       "      <th>1</th>\n",
       "      <td>2022-01-02</td>\n",
       "      <td>-0.8</td>\n",
       "      <td>-6.7</td>\n",
       "      <td>6.1</td>\n",
       "    </tr>\n",
       "    <tr>\n",
       "      <th>2</th>\n",
       "      <td>2022-01-03</td>\n",
       "      <td>-1.5</td>\n",
       "      <td>-7.8</td>\n",
       "      <td>4.8</td>\n",
       "    </tr>\n",
       "    <tr>\n",
       "      <th>3</th>\n",
       "      <td>2022-01-04</td>\n",
       "      <td>0.0</td>\n",
       "      <td>-5.0</td>\n",
       "      <td>5.2</td>\n",
       "    </tr>\n",
       "    <tr>\n",
       "      <th>4</th>\n",
       "      <td>2022-01-05</td>\n",
       "      <td>-0.8</td>\n",
       "      <td>-6.0</td>\n",
       "      <td>4.0</td>\n",
       "    </tr>\n",
       "  </tbody>\n",
       "</table>\n",
       "</div>"
      ],
      "text/plain": [
       "           날짜  평균기온(℃)  최저기온(℃)  최고기온(℃)\n",
       "0  2022-01-01     -3.7     -9.9      3.4\n",
       "1  2022-01-02     -0.8     -6.7      6.1\n",
       "2  2022-01-03     -1.5     -7.8      4.8\n",
       "3  2022-01-04      0.0     -5.0      5.2\n",
       "4  2022-01-05     -0.8     -6.0      4.0"
      ]
     },
     "execution_count": 41,
     "metadata": {},
     "output_type": "execute_result"
    }
   ],
   "source": [
    "df_temp = pd.read_csv('ml_datas/cabbage/2022_기온.csv', skiprows=7, encoding='euc-kr')\n",
    "df_temp.drop('지점', axis=1, inplace=True)\n",
    "df_temp['날짜'] = df_temp['날짜'].str.replace('\\t', '')\n",
    "df_temp.head()"
   ]
  },
  {
   "cell_type": "code",
   "execution_count": 42,
   "id": "5f00e19c-bf9c-43a2-a14e-8570ee32eed8",
   "metadata": {},
   "outputs": [
    {
     "data": {
      "text/html": [
       "<div>\n",
       "<style scoped>\n",
       "    .dataframe tbody tr th:only-of-type {\n",
       "        vertical-align: middle;\n",
       "    }\n",
       "\n",
       "    .dataframe tbody tr th {\n",
       "        vertical-align: top;\n",
       "    }\n",
       "\n",
       "    .dataframe thead th {\n",
       "        text-align: right;\n",
       "    }\n",
       "</style>\n",
       "<table border=\"1\" class=\"dataframe\">\n",
       "  <thead>\n",
       "    <tr style=\"text-align: right;\">\n",
       "      <th></th>\n",
       "      <th>날짜</th>\n",
       "      <th>강수량(mm)</th>\n",
       "    </tr>\n",
       "  </thead>\n",
       "  <tbody>\n",
       "    <tr>\n",
       "      <th>0</th>\n",
       "      <td>2022-01-01</td>\n",
       "      <td>0.0</td>\n",
       "    </tr>\n",
       "    <tr>\n",
       "      <th>1</th>\n",
       "      <td>2022-01-02</td>\n",
       "      <td>0.1</td>\n",
       "    </tr>\n",
       "    <tr>\n",
       "      <th>2</th>\n",
       "      <td>2022-01-03</td>\n",
       "      <td>0.0</td>\n",
       "    </tr>\n",
       "    <tr>\n",
       "      <th>3</th>\n",
       "      <td>2022-01-04</td>\n",
       "      <td>0.0</td>\n",
       "    </tr>\n",
       "    <tr>\n",
       "      <th>4</th>\n",
       "      <td>2022-01-05</td>\n",
       "      <td>0.2</td>\n",
       "    </tr>\n",
       "  </tbody>\n",
       "</table>\n",
       "</div>"
      ],
      "text/plain": [
       "           날짜  강수량(mm)\n",
       "0  2022-01-01      0.0\n",
       "1  2022-01-02      0.1\n",
       "2  2022-01-03      0.0\n",
       "3  2022-01-04      0.0\n",
       "4  2022-01-05      0.2"
      ]
     },
     "execution_count": 42,
     "metadata": {},
     "output_type": "execute_result"
    }
   ],
   "source": [
    "df_rain = pd.read_csv('ml_datas/cabbage/2022_강수량.csv', skiprows=7, encoding='euc-kr')\n",
    "df_rain.drop('지점', axis=1, inplace=True)\n",
    "df_rain.head()"
   ]
  },
  {
   "cell_type": "code",
   "execution_count": 43,
   "id": "f99d114b-02e9-4abf-b33d-d750ed9fefbd",
   "metadata": {},
   "outputs": [
    {
     "name": "stdout",
     "output_type": "stream",
     "text": [
      "<class 'pandas.core.frame.DataFrame'>\n",
      "RangeIndex: 365 entries, 0 to 364\n",
      "Data columns (total 4 columns):\n",
      " #   Column   Non-Null Count  Dtype  \n",
      "---  ------   --------------  -----  \n",
      " 0   날짜       365 non-null    object \n",
      " 1   평균기온(℃)  365 non-null    float64\n",
      " 2   최저기온(℃)  365 non-null    float64\n",
      " 3   최고기온(℃)  365 non-null    float64\n",
      "dtypes: float64(3), object(1)\n",
      "memory usage: 11.5+ KB\n"
     ]
    }
   ],
   "source": [
    "df_temp.info()"
   ]
  },
  {
   "cell_type": "code",
   "execution_count": 44,
   "id": "38fcce0c-d19a-4b01-a91c-1416532edc56",
   "metadata": {},
   "outputs": [
    {
     "name": "stdout",
     "output_type": "stream",
     "text": [
      "<class 'pandas.core.frame.DataFrame'>\n",
      "RangeIndex: 365 entries, 0 to 364\n",
      "Data columns (total 2 columns):\n",
      " #   Column   Non-Null Count  Dtype  \n",
      "---  ------   --------------  -----  \n",
      " 0   날짜       365 non-null    object \n",
      " 1   강수량(mm)  365 non-null    float64\n",
      "dtypes: float64(1), object(1)\n",
      "memory usage: 5.8+ KB\n"
     ]
    }
   ],
   "source": [
    "df_rain.info()"
   ]
  },
  {
   "cell_type": "code",
   "execution_count": 45,
   "id": "b6fde304-42b8-4085-b067-7075298ec049",
   "metadata": {},
   "outputs": [
    {
     "data": {
      "text/html": [
       "<div>\n",
       "<style scoped>\n",
       "    .dataframe tbody tr th:only-of-type {\n",
       "        vertical-align: middle;\n",
       "    }\n",
       "\n",
       "    .dataframe tbody tr th {\n",
       "        vertical-align: top;\n",
       "    }\n",
       "\n",
       "    .dataframe thead th {\n",
       "        text-align: right;\n",
       "    }\n",
       "</style>\n",
       "<table border=\"1\" class=\"dataframe\">\n",
       "  <thead>\n",
       "    <tr style=\"text-align: right;\">\n",
       "      <th></th>\n",
       "      <th>날짜</th>\n",
       "      <th>평균기온(℃)</th>\n",
       "      <th>최저기온(℃)</th>\n",
       "      <th>최고기온(℃)</th>\n",
       "      <th>강수량(mm)</th>\n",
       "    </tr>\n",
       "  </thead>\n",
       "  <tbody>\n",
       "    <tr>\n",
       "      <th>0</th>\n",
       "      <td>2022-01-01</td>\n",
       "      <td>-3.7</td>\n",
       "      <td>-9.9</td>\n",
       "      <td>3.4</td>\n",
       "      <td>0.0</td>\n",
       "    </tr>\n",
       "    <tr>\n",
       "      <th>1</th>\n",
       "      <td>2022-01-02</td>\n",
       "      <td>-0.8</td>\n",
       "      <td>-6.7</td>\n",
       "      <td>6.1</td>\n",
       "      <td>0.1</td>\n",
       "    </tr>\n",
       "    <tr>\n",
       "      <th>2</th>\n",
       "      <td>2022-01-03</td>\n",
       "      <td>-1.5</td>\n",
       "      <td>-7.8</td>\n",
       "      <td>4.8</td>\n",
       "      <td>0.0</td>\n",
       "    </tr>\n",
       "    <tr>\n",
       "      <th>3</th>\n",
       "      <td>2022-01-04</td>\n",
       "      <td>0.0</td>\n",
       "      <td>-5.0</td>\n",
       "      <td>5.2</td>\n",
       "      <td>0.0</td>\n",
       "    </tr>\n",
       "    <tr>\n",
       "      <th>4</th>\n",
       "      <td>2022-01-05</td>\n",
       "      <td>-0.8</td>\n",
       "      <td>-6.0</td>\n",
       "      <td>4.0</td>\n",
       "      <td>0.2</td>\n",
       "    </tr>\n",
       "  </tbody>\n",
       "</table>\n",
       "</div>"
      ],
      "text/plain": [
       "           날짜  평균기온(℃)  최저기온(℃)  최고기온(℃)  강수량(mm)\n",
       "0  2022-01-01     -3.7     -9.9      3.4      0.0\n",
       "1  2022-01-02     -0.8     -6.7      6.1      0.1\n",
       "2  2022-01-03     -1.5     -7.8      4.8      0.0\n",
       "3  2022-01-04      0.0     -5.0      5.2      0.0\n",
       "4  2022-01-05     -0.8     -6.0      4.0      0.2"
      ]
     },
     "execution_count": 45,
     "metadata": {},
     "output_type": "execute_result"
    }
   ],
   "source": [
    "df_temp_rain = pd.merge(df_temp, df_rain, on='날짜')\n",
    "df_temp_rain.head()"
   ]
  },
  {
   "cell_type": "code",
   "execution_count": 46,
   "id": "f3e3e6c9-bb0d-4aaa-9d21-9bdf2ee2645e",
   "metadata": {},
   "outputs": [
    {
     "data": {
      "text/plain": [
       "(246, 2)"
      ]
     },
     "execution_count": 46,
     "metadata": {},
     "output_type": "execute_result"
    }
   ],
   "source": [
    "df.shape"
   ]
  },
  {
   "cell_type": "code",
   "execution_count": 47,
   "id": "eb81a9d8-4b21-4ea3-b62c-da5521bd1d8a",
   "metadata": {},
   "outputs": [
    {
     "data": {
      "text/plain": [
       "(365, 5)"
      ]
     },
     "execution_count": 47,
     "metadata": {},
     "output_type": "execute_result"
    }
   ],
   "source": [
    "df_temp_rain.shape"
   ]
  },
  {
   "cell_type": "code",
   "execution_count": 48,
   "id": "a298893d-af43-4cfe-965a-3ef4ed9fcd34",
   "metadata": {},
   "outputs": [
    {
     "data": {
      "text/html": [
       "<div>\n",
       "<style scoped>\n",
       "    .dataframe tbody tr th:only-of-type {\n",
       "        vertical-align: middle;\n",
       "    }\n",
       "\n",
       "    .dataframe tbody tr th {\n",
       "        vertical-align: top;\n",
       "    }\n",
       "\n",
       "    .dataframe thead th {\n",
       "        text-align: right;\n",
       "    }\n",
       "</style>\n",
       "<table border=\"1\" class=\"dataframe\">\n",
       "  <thead>\n",
       "    <tr style=\"text-align: right;\">\n",
       "      <th></th>\n",
       "      <th>날짜</th>\n",
       "      <th>평균기온(℃)</th>\n",
       "      <th>최저기온(℃)</th>\n",
       "      <th>최고기온(℃)</th>\n",
       "      <th>강수량(mm)</th>\n",
       "      <th>배추가격</th>\n",
       "    </tr>\n",
       "  </thead>\n",
       "  <tbody>\n",
       "    <tr>\n",
       "      <th>0</th>\n",
       "      <td>2022-01-03</td>\n",
       "      <td>-1.5</td>\n",
       "      <td>-7.8</td>\n",
       "      <td>4.8</td>\n",
       "      <td>0.0</td>\n",
       "      <td>4151</td>\n",
       "    </tr>\n",
       "    <tr>\n",
       "      <th>1</th>\n",
       "      <td>2022-01-04</td>\n",
       "      <td>0.0</td>\n",
       "      <td>-5.0</td>\n",
       "      <td>5.2</td>\n",
       "      <td>0.0</td>\n",
       "      <td>4289</td>\n",
       "    </tr>\n",
       "    <tr>\n",
       "      <th>2</th>\n",
       "      <td>2022-01-05</td>\n",
       "      <td>-0.8</td>\n",
       "      <td>-6.0</td>\n",
       "      <td>4.0</td>\n",
       "      <td>0.2</td>\n",
       "      <td>4302</td>\n",
       "    </tr>\n",
       "    <tr>\n",
       "      <th>3</th>\n",
       "      <td>2022-01-06</td>\n",
       "      <td>0.0</td>\n",
       "      <td>-5.0</td>\n",
       "      <td>6.2</td>\n",
       "      <td>0.0</td>\n",
       "      <td>4387</td>\n",
       "    </tr>\n",
       "    <tr>\n",
       "      <th>4</th>\n",
       "      <td>2022-01-07</td>\n",
       "      <td>-1.6</td>\n",
       "      <td>-7.7</td>\n",
       "      <td>6.7</td>\n",
       "      <td>0.0</td>\n",
       "      <td>4387</td>\n",
       "    </tr>\n",
       "    <tr>\n",
       "      <th>...</th>\n",
       "      <td>...</td>\n",
       "      <td>...</td>\n",
       "      <td>...</td>\n",
       "      <td>...</td>\n",
       "      <td>...</td>\n",
       "      <td>...</td>\n",
       "    </tr>\n",
       "    <tr>\n",
       "      <th>241</th>\n",
       "      <td>2022-12-26</td>\n",
       "      <td>-3.5</td>\n",
       "      <td>-8.8</td>\n",
       "      <td>3.1</td>\n",
       "      <td>0.0</td>\n",
       "      <td>2955</td>\n",
       "    </tr>\n",
       "    <tr>\n",
       "      <th>242</th>\n",
       "      <td>2022-12-27</td>\n",
       "      <td>-2.3</td>\n",
       "      <td>-8.2</td>\n",
       "      <td>4.8</td>\n",
       "      <td>0.0</td>\n",
       "      <td>2955</td>\n",
       "    </tr>\n",
       "    <tr>\n",
       "      <th>243</th>\n",
       "      <td>2022-12-28</td>\n",
       "      <td>-1.6</td>\n",
       "      <td>-5.7</td>\n",
       "      <td>3.3</td>\n",
       "      <td>0.0</td>\n",
       "      <td>2972</td>\n",
       "    </tr>\n",
       "    <tr>\n",
       "      <th>244</th>\n",
       "      <td>2022-12-29</td>\n",
       "      <td>-2.5</td>\n",
       "      <td>-7.5</td>\n",
       "      <td>3.0</td>\n",
       "      <td>0.0</td>\n",
       "      <td>3000</td>\n",
       "    </tr>\n",
       "    <tr>\n",
       "      <th>245</th>\n",
       "      <td>2022-12-30</td>\n",
       "      <td>-1.2</td>\n",
       "      <td>-5.7</td>\n",
       "      <td>4.0</td>\n",
       "      <td>0.0</td>\n",
       "      <td>3011</td>\n",
       "    </tr>\n",
       "  </tbody>\n",
       "</table>\n",
       "<p>246 rows × 6 columns</p>\n",
       "</div>"
      ],
      "text/plain": [
       "             날짜  평균기온(℃)  최저기온(℃)  최고기온(℃)  강수량(mm)  배추가격\n",
       "0    2022-01-03     -1.5     -7.8      4.8      0.0  4151\n",
       "1    2022-01-04      0.0     -5.0      5.2      0.0  4289\n",
       "2    2022-01-05     -0.8     -6.0      4.0      0.2  4302\n",
       "3    2022-01-06      0.0     -5.0      6.2      0.0  4387\n",
       "4    2022-01-07     -1.6     -7.7      6.7      0.0  4387\n",
       "..          ...      ...      ...      ...      ...   ...\n",
       "241  2022-12-26     -3.5     -8.8      3.1      0.0  2955\n",
       "242  2022-12-27     -2.3     -8.2      4.8      0.0  2955\n",
       "243  2022-12-28     -1.6     -5.7      3.3      0.0  2972\n",
       "244  2022-12-29     -2.5     -7.5      3.0      0.0  3000\n",
       "245  2022-12-30     -1.2     -5.7      4.0      0.0  3011\n",
       "\n",
       "[246 rows x 6 columns]"
      ]
     },
     "execution_count": 48,
     "metadata": {},
     "output_type": "execute_result"
    }
   ],
   "source": [
    "data = pd.merge(df_temp_rain, df, on='날짜', how='inner')\n",
    "data"
   ]
  },
  {
   "cell_type": "code",
   "execution_count": 49,
   "id": "f7ca973c-3dcd-4559-bea2-5444c3ea02e0",
   "metadata": {},
   "outputs": [
    {
     "data": {
      "text/html": [
       "<div>\n",
       "<style scoped>\n",
       "    .dataframe tbody tr th:only-of-type {\n",
       "        vertical-align: middle;\n",
       "    }\n",
       "\n",
       "    .dataframe tbody tr th {\n",
       "        vertical-align: top;\n",
       "    }\n",
       "\n",
       "    .dataframe thead th {\n",
       "        text-align: right;\n",
       "    }\n",
       "</style>\n",
       "<table border=\"1\" class=\"dataframe\">\n",
       "  <thead>\n",
       "    <tr style=\"text-align: right;\">\n",
       "      <th></th>\n",
       "      <th>평균기온(℃)</th>\n",
       "      <th>최저기온(℃)</th>\n",
       "      <th>최고기온(℃)</th>\n",
       "      <th>강수량(mm)</th>\n",
       "      <th>배추가격</th>\n",
       "    </tr>\n",
       "    <tr>\n",
       "      <th>날짜</th>\n",
       "      <th></th>\n",
       "      <th></th>\n",
       "      <th></th>\n",
       "      <th></th>\n",
       "      <th></th>\n",
       "    </tr>\n",
       "  </thead>\n",
       "  <tbody>\n",
       "    <tr>\n",
       "      <th>2022-01-03</th>\n",
       "      <td>-1.5</td>\n",
       "      <td>-7.8</td>\n",
       "      <td>4.8</td>\n",
       "      <td>0.0</td>\n",
       "      <td>4151</td>\n",
       "    </tr>\n",
       "    <tr>\n",
       "      <th>2022-01-04</th>\n",
       "      <td>0.0</td>\n",
       "      <td>-5.0</td>\n",
       "      <td>5.2</td>\n",
       "      <td>0.0</td>\n",
       "      <td>4289</td>\n",
       "    </tr>\n",
       "    <tr>\n",
       "      <th>2022-01-05</th>\n",
       "      <td>-0.8</td>\n",
       "      <td>-6.0</td>\n",
       "      <td>4.0</td>\n",
       "      <td>0.2</td>\n",
       "      <td>4302</td>\n",
       "    </tr>\n",
       "    <tr>\n",
       "      <th>2022-01-06</th>\n",
       "      <td>0.0</td>\n",
       "      <td>-5.0</td>\n",
       "      <td>6.2</td>\n",
       "      <td>0.0</td>\n",
       "      <td>4387</td>\n",
       "    </tr>\n",
       "    <tr>\n",
       "      <th>2022-01-07</th>\n",
       "      <td>-1.6</td>\n",
       "      <td>-7.7</td>\n",
       "      <td>6.7</td>\n",
       "      <td>0.0</td>\n",
       "      <td>4387</td>\n",
       "    </tr>\n",
       "  </tbody>\n",
       "</table>\n",
       "</div>"
      ],
      "text/plain": [
       "            평균기온(℃)  최저기온(℃)  최고기온(℃)  강수량(mm)  배추가격\n",
       "날짜                                                  \n",
       "2022-01-03     -1.5     -7.8      4.8      0.0  4151\n",
       "2022-01-04      0.0     -5.0      5.2      0.0  4289\n",
       "2022-01-05     -0.8     -6.0      4.0      0.2  4302\n",
       "2022-01-06      0.0     -5.0      6.2      0.0  4387\n",
       "2022-01-07     -1.6     -7.7      6.7      0.0  4387"
      ]
     },
     "execution_count": 49,
     "metadata": {},
     "output_type": "execute_result"
    }
   ],
   "source": [
    "data.set_index('날짜', inplace=True)\n",
    "data.head()"
   ]
  },
  {
   "cell_type": "markdown",
   "id": "5f3cb592-ba58-4abc-9360-98579d3d3bdc",
   "metadata": {},
   "source": [
    "## 머신러닝 모델 생성"
   ]
  },
  {
   "cell_type": "code",
   "execution_count": 51,
   "id": "da7d0813-a2a2-4687-9e3c-a60b1f8fa9f1",
   "metadata": {},
   "outputs": [],
   "source": [
    "## EDA 필요시 분할 전 먼저 해야 한다"
   ]
  },
  {
   "cell_type": "markdown",
   "id": "cb0d14dd-4adc-43f4-b9e2-700eb4f378ff",
   "metadata": {},
   "source": [
    "### 데이터 분할"
   ]
  },
  {
   "cell_type": "code",
   "execution_count": 50,
   "id": "2916e68b-0651-4464-9113-c3ece6662dc6",
   "metadata": {},
   "outputs": [],
   "source": [
    "from sklearn.model_selection import train_test_split\n",
    "from sklearn.metrics import mean_squared_error\n",
    "import numpy as np"
   ]
  },
  {
   "cell_type": "code",
   "execution_count": 52,
   "id": "26cd593a-0572-46e3-8836-e750f054b186",
   "metadata": {},
   "outputs": [
    {
     "data": {
      "text/html": [
       "<div>\n",
       "<style scoped>\n",
       "    .dataframe tbody tr th:only-of-type {\n",
       "        vertical-align: middle;\n",
       "    }\n",
       "\n",
       "    .dataframe tbody tr th {\n",
       "        vertical-align: top;\n",
       "    }\n",
       "\n",
       "    .dataframe thead th {\n",
       "        text-align: right;\n",
       "    }\n",
       "</style>\n",
       "<table border=\"1\" class=\"dataframe\">\n",
       "  <thead>\n",
       "    <tr style=\"text-align: right;\">\n",
       "      <th></th>\n",
       "      <th>평균기온(℃)</th>\n",
       "      <th>최저기온(℃)</th>\n",
       "      <th>최고기온(℃)</th>\n",
       "      <th>강수량(mm)</th>\n",
       "    </tr>\n",
       "    <tr>\n",
       "      <th>날짜</th>\n",
       "      <th></th>\n",
       "      <th></th>\n",
       "      <th></th>\n",
       "      <th></th>\n",
       "    </tr>\n",
       "  </thead>\n",
       "  <tbody>\n",
       "    <tr>\n",
       "      <th>2022-01-03</th>\n",
       "      <td>-1.5</td>\n",
       "      <td>-7.8</td>\n",
       "      <td>4.8</td>\n",
       "      <td>0.0</td>\n",
       "    </tr>\n",
       "    <tr>\n",
       "      <th>2022-01-04</th>\n",
       "      <td>0.0</td>\n",
       "      <td>-5.0</td>\n",
       "      <td>5.2</td>\n",
       "      <td>0.0</td>\n",
       "    </tr>\n",
       "    <tr>\n",
       "      <th>2022-01-05</th>\n",
       "      <td>-0.8</td>\n",
       "      <td>-6.0</td>\n",
       "      <td>4.0</td>\n",
       "      <td>0.2</td>\n",
       "    </tr>\n",
       "    <tr>\n",
       "      <th>2022-01-06</th>\n",
       "      <td>0.0</td>\n",
       "      <td>-5.0</td>\n",
       "      <td>6.2</td>\n",
       "      <td>0.0</td>\n",
       "    </tr>\n",
       "    <tr>\n",
       "      <th>2022-01-07</th>\n",
       "      <td>-1.6</td>\n",
       "      <td>-7.7</td>\n",
       "      <td>6.7</td>\n",
       "      <td>0.0</td>\n",
       "    </tr>\n",
       "    <tr>\n",
       "      <th>...</th>\n",
       "      <td>...</td>\n",
       "      <td>...</td>\n",
       "      <td>...</td>\n",
       "      <td>...</td>\n",
       "    </tr>\n",
       "    <tr>\n",
       "      <th>2022-12-26</th>\n",
       "      <td>-3.5</td>\n",
       "      <td>-8.8</td>\n",
       "      <td>3.1</td>\n",
       "      <td>0.0</td>\n",
       "    </tr>\n",
       "    <tr>\n",
       "      <th>2022-12-27</th>\n",
       "      <td>-2.3</td>\n",
       "      <td>-8.2</td>\n",
       "      <td>4.8</td>\n",
       "      <td>0.0</td>\n",
       "    </tr>\n",
       "    <tr>\n",
       "      <th>2022-12-28</th>\n",
       "      <td>-1.6</td>\n",
       "      <td>-5.7</td>\n",
       "      <td>3.3</td>\n",
       "      <td>0.0</td>\n",
       "    </tr>\n",
       "    <tr>\n",
       "      <th>2022-12-29</th>\n",
       "      <td>-2.5</td>\n",
       "      <td>-7.5</td>\n",
       "      <td>3.0</td>\n",
       "      <td>0.0</td>\n",
       "    </tr>\n",
       "    <tr>\n",
       "      <th>2022-12-30</th>\n",
       "      <td>-1.2</td>\n",
       "      <td>-5.7</td>\n",
       "      <td>4.0</td>\n",
       "      <td>0.0</td>\n",
       "    </tr>\n",
       "  </tbody>\n",
       "</table>\n",
       "<p>246 rows × 4 columns</p>\n",
       "</div>"
      ],
      "text/plain": [
       "            평균기온(℃)  최저기온(℃)  최고기온(℃)  강수량(mm)\n",
       "날짜                                            \n",
       "2022-01-03     -1.5     -7.8      4.8      0.0\n",
       "2022-01-04      0.0     -5.0      5.2      0.0\n",
       "2022-01-05     -0.8     -6.0      4.0      0.2\n",
       "2022-01-06      0.0     -5.0      6.2      0.0\n",
       "2022-01-07     -1.6     -7.7      6.7      0.0\n",
       "...             ...      ...      ...      ...\n",
       "2022-12-26     -3.5     -8.8      3.1      0.0\n",
       "2022-12-27     -2.3     -8.2      4.8      0.0\n",
       "2022-12-28     -1.6     -5.7      3.3      0.0\n",
       "2022-12-29     -2.5     -7.5      3.0      0.0\n",
       "2022-12-30     -1.2     -5.7      4.0      0.0\n",
       "\n",
       "[246 rows x 4 columns]"
      ]
     },
     "execution_count": 52,
     "metadata": {},
     "output_type": "execute_result"
    }
   ],
   "source": [
    "# X\n",
    "X = data.drop([\"배추가격\"], axis=1)\n",
    "X"
   ]
  },
  {
   "cell_type": "code",
   "execution_count": 55,
   "id": "a65d116c-621e-4426-a32e-c563469568ca",
   "metadata": {},
   "outputs": [
    {
     "data": {
      "text/plain": [
       "날짜\n",
       "2022-01-03    4151\n",
       "2022-01-04    4289\n",
       "2022-01-05    4302\n",
       "2022-01-06    4387\n",
       "2022-01-07    4387\n",
       "              ... \n",
       "2022-12-26    2955\n",
       "2022-12-27    2955\n",
       "2022-12-28    2972\n",
       "2022-12-29    3000\n",
       "2022-12-30    3011\n",
       "Name: 배추가격, Length: 246, dtype: int64"
      ]
     },
     "execution_count": 55,
     "metadata": {},
     "output_type": "execute_result"
    }
   ],
   "source": [
    "y = data[\"배추가격\"]\n",
    "y"
   ]
  },
  {
   "cell_type": "code",
   "execution_count": 58,
   "id": "7eda779c-8451-40a9-baa5-0c906ce97483",
   "metadata": {},
   "outputs": [],
   "source": [
    "X_train, X_test, y_train, y_test = train_test_split(X, y, test_size=0.2, random_state=2021)"
   ]
  },
  {
   "cell_type": "code",
   "execution_count": 59,
   "id": "85042918-d060-45ed-8e50-607dc7a6824e",
   "metadata": {},
   "outputs": [],
   "source": [
    "from xgboost import XGBRegressor"
   ]
  },
  {
   "cell_type": "code",
   "execution_count": 60,
   "id": "e7518d91-6212-4747-ae88-0790a0cc6063",
   "metadata": {},
   "outputs": [],
   "source": [
    "# n_estimators : 학습기 사용 갯수\n",
    "# learning_rate : 건너 뛰는 갯수\n",
    "\n",
    "xgb_reg = XGBRegressor(n_estimators = 500, learning_rate = 0.05)"
   ]
  },
  {
   "cell_type": "code",
   "execution_count": 61,
   "id": "389a71ec-6078-410d-8b39-4bd41c3ee7ff",
   "metadata": {},
   "outputs": [
    {
     "data": {
      "text/html": [
       "<style>#sk-container-id-1 {color: black;background-color: white;}#sk-container-id-1 pre{padding: 0;}#sk-container-id-1 div.sk-toggleable {background-color: white;}#sk-container-id-1 label.sk-toggleable__label {cursor: pointer;display: block;width: 100%;margin-bottom: 0;padding: 0.3em;box-sizing: border-box;text-align: center;}#sk-container-id-1 label.sk-toggleable__label-arrow:before {content: \"▸\";float: left;margin-right: 0.25em;color: #696969;}#sk-container-id-1 label.sk-toggleable__label-arrow:hover:before {color: black;}#sk-container-id-1 div.sk-estimator:hover label.sk-toggleable__label-arrow:before {color: black;}#sk-container-id-1 div.sk-toggleable__content {max-height: 0;max-width: 0;overflow: hidden;text-align: left;background-color: #f0f8ff;}#sk-container-id-1 div.sk-toggleable__content pre {margin: 0.2em;color: black;border-radius: 0.25em;background-color: #f0f8ff;}#sk-container-id-1 input.sk-toggleable__control:checked~div.sk-toggleable__content {max-height: 200px;max-width: 100%;overflow: auto;}#sk-container-id-1 input.sk-toggleable__control:checked~label.sk-toggleable__label-arrow:before {content: \"▾\";}#sk-container-id-1 div.sk-estimator input.sk-toggleable__control:checked~label.sk-toggleable__label {background-color: #d4ebff;}#sk-container-id-1 div.sk-label input.sk-toggleable__control:checked~label.sk-toggleable__label {background-color: #d4ebff;}#sk-container-id-1 input.sk-hidden--visually {border: 0;clip: rect(1px 1px 1px 1px);clip: rect(1px, 1px, 1px, 1px);height: 1px;margin: -1px;overflow: hidden;padding: 0;position: absolute;width: 1px;}#sk-container-id-1 div.sk-estimator {font-family: monospace;background-color: #f0f8ff;border: 1px dotted black;border-radius: 0.25em;box-sizing: border-box;margin-bottom: 0.5em;}#sk-container-id-1 div.sk-estimator:hover {background-color: #d4ebff;}#sk-container-id-1 div.sk-parallel-item::after {content: \"\";width: 100%;border-bottom: 1px solid gray;flex-grow: 1;}#sk-container-id-1 div.sk-label:hover label.sk-toggleable__label {background-color: #d4ebff;}#sk-container-id-1 div.sk-serial::before {content: \"\";position: absolute;border-left: 1px solid gray;box-sizing: border-box;top: 0;bottom: 0;left: 50%;z-index: 0;}#sk-container-id-1 div.sk-serial {display: flex;flex-direction: column;align-items: center;background-color: white;padding-right: 0.2em;padding-left: 0.2em;position: relative;}#sk-container-id-1 div.sk-item {position: relative;z-index: 1;}#sk-container-id-1 div.sk-parallel {display: flex;align-items: stretch;justify-content: center;background-color: white;position: relative;}#sk-container-id-1 div.sk-item::before, #sk-container-id-1 div.sk-parallel-item::before {content: \"\";position: absolute;border-left: 1px solid gray;box-sizing: border-box;top: 0;bottom: 0;left: 50%;z-index: -1;}#sk-container-id-1 div.sk-parallel-item {display: flex;flex-direction: column;z-index: 1;position: relative;background-color: white;}#sk-container-id-1 div.sk-parallel-item:first-child::after {align-self: flex-end;width: 50%;}#sk-container-id-1 div.sk-parallel-item:last-child::after {align-self: flex-start;width: 50%;}#sk-container-id-1 div.sk-parallel-item:only-child::after {width: 0;}#sk-container-id-1 div.sk-dashed-wrapped {border: 1px dashed gray;margin: 0 0.4em 0.5em 0.4em;box-sizing: border-box;padding-bottom: 0.4em;background-color: white;}#sk-container-id-1 div.sk-label label {font-family: monospace;font-weight: bold;display: inline-block;line-height: 1.2em;}#sk-container-id-1 div.sk-label-container {text-align: center;}#sk-container-id-1 div.sk-container {/* jupyter's `normalize.less` sets `[hidden] { display: none; }` but bootstrap.min.css set `[hidden] { display: none !important; }` so we also need the `!important` here to be able to override the default hidden behavior on the sphinx rendered scikit-learn.org. See: https://github.com/scikit-learn/scikit-learn/issues/21755 */display: inline-block !important;position: relative;}#sk-container-id-1 div.sk-text-repr-fallback {display: none;}</style><div id=\"sk-container-id-1\" class=\"sk-top-container\"><div class=\"sk-text-repr-fallback\"><pre>XGBRegressor(base_score=None, booster=None, callbacks=None,\n",
       "             colsample_bylevel=None, colsample_bynode=None,\n",
       "             colsample_bytree=None, early_stopping_rounds=None,\n",
       "             enable_categorical=False, eval_metric=None, feature_types=None,\n",
       "             gamma=None, gpu_id=None, grow_policy=None, importance_type=None,\n",
       "             interaction_constraints=None, learning_rate=0.05, max_bin=None,\n",
       "             max_cat_threshold=None, max_cat_to_onehot=None,\n",
       "             max_delta_step=None, max_depth=None, max_leaves=None,\n",
       "             min_child_weight=None, missing=nan, monotone_constraints=None,\n",
       "             n_estimators=500, n_jobs=None, num_parallel_tree=None,\n",
       "             predictor=None, random_state=None, ...)</pre><b>In a Jupyter environment, please rerun this cell to show the HTML representation or trust the notebook. <br />On GitHub, the HTML representation is unable to render, please try loading this page with nbviewer.org.</b></div><div class=\"sk-container\" hidden><div class=\"sk-item\"><div class=\"sk-estimator sk-toggleable\"><input class=\"sk-toggleable__control sk-hidden--visually\" id=\"sk-estimator-id-1\" type=\"checkbox\" checked><label for=\"sk-estimator-id-1\" class=\"sk-toggleable__label sk-toggleable__label-arrow\">XGBRegressor</label><div class=\"sk-toggleable__content\"><pre>XGBRegressor(base_score=None, booster=None, callbacks=None,\n",
       "             colsample_bylevel=None, colsample_bynode=None,\n",
       "             colsample_bytree=None, early_stopping_rounds=None,\n",
       "             enable_categorical=False, eval_metric=None, feature_types=None,\n",
       "             gamma=None, gpu_id=None, grow_policy=None, importance_type=None,\n",
       "             interaction_constraints=None, learning_rate=0.05, max_bin=None,\n",
       "             max_cat_threshold=None, max_cat_to_onehot=None,\n",
       "             max_delta_step=None, max_depth=None, max_leaves=None,\n",
       "             min_child_weight=None, missing=nan, monotone_constraints=None,\n",
       "             n_estimators=500, n_jobs=None, num_parallel_tree=None,\n",
       "             predictor=None, random_state=None, ...)</pre></div></div></div></div></div>"
      ],
      "text/plain": [
       "XGBRegressor(base_score=None, booster=None, callbacks=None,\n",
       "             colsample_bylevel=None, colsample_bynode=None,\n",
       "             colsample_bytree=None, early_stopping_rounds=None,\n",
       "             enable_categorical=False, eval_metric=None, feature_types=None,\n",
       "             gamma=None, gpu_id=None, grow_policy=None, importance_type=None,\n",
       "             interaction_constraints=None, learning_rate=0.05, max_bin=None,\n",
       "             max_cat_threshold=None, max_cat_to_onehot=None,\n",
       "             max_delta_step=None, max_depth=None, max_leaves=None,\n",
       "             min_child_weight=None, missing=nan, monotone_constraints=None,\n",
       "             n_estimators=500, n_jobs=None, num_parallel_tree=None,\n",
       "             predictor=None, random_state=None, ...)"
      ]
     },
     "execution_count": 61,
     "metadata": {},
     "output_type": "execute_result"
    }
   ],
   "source": [
    "xgb_reg.fit(X_train, y_train)"
   ]
  },
  {
   "cell_type": "markdown",
   "id": "5fc0ec3b-8555-422e-93b1-51fbc7cdd395",
   "metadata": {},
   "source": [
    "### 모델 테스트"
   ]
  },
  {
   "cell_type": "code",
   "execution_count": 62,
   "id": "92a0beff-2d37-490c-9329-b051f078ab06",
   "metadata": {},
   "outputs": [],
   "source": [
    "pred = xgb_reg.predict(X_test)"
   ]
  },
  {
   "cell_type": "code",
   "execution_count": 63,
   "id": "4d807845-317b-4eff-b054-267cb669dae0",
   "metadata": {},
   "outputs": [
    {
     "name": "stdout",
     "output_type": "stream",
     "text": [
      "1216.4592910326273\n"
     ]
    }
   ],
   "source": [
    "mse = mean_squared_error(y_test, pred)\n",
    "rmse = np.sqrt(mse)\n",
    "print(rmse)"
   ]
  },
  {
   "cell_type": "code",
   "execution_count": null,
   "id": "091f1871-aa74-4089-9166-7577fb838344",
   "metadata": {},
   "outputs": [],
   "source": [
    "# 2023-06-07\n",
    "# 평균기온 : 21.2 최저기온 : 16.3  최고기온 : 26.4 강수량 : 0\n",
    "# 배추(10kg): 6,548 , "
   ]
  },
  {
   "cell_type": "code",
   "execution_count": 64,
   "id": "098baa5e-7106-4b2d-b5c9-ecd32c043843",
   "metadata": {},
   "outputs": [
    {
     "name": "stdin",
     "output_type": "stream",
     "text": [
      "평균기온 : 21.2\n",
      "최저기온 : 16.3\n",
      "최고기온 : 26.4\n",
      "강수량 : 0\n"
     ]
    }
   ],
   "source": [
    "temp_avg = float(input('평균기온 :'))\n",
    "temp_min = float(input('최저기온 :'))\n",
    "temp_max = float(input('최고기온 :'))\n",
    "rain = float(input('강수량 :'))"
   ]
  },
  {
   "cell_type": "code",
   "execution_count": 73,
   "id": "caf848d6-5608-4e53-845d-0d754de9b4a6",
   "metadata": {},
   "outputs": [
    {
     "data": {
      "text/plain": [
       "array([[21.2, 16.3, 26.4,  0. ]])"
      ]
     },
     "execution_count": 73,
     "metadata": {},
     "output_type": "execute_result"
    }
   ],
   "source": [
    "test_df = pd.DataFrame({'평균기온(℃)':[temp_avg], '최저기온(℃)': [temp_min],\n",
    "                   '최고기온(℃)': [temp_max] ,'강수량(mm)': [rain] })\n",
    "\n",
    "test_df.values"
   ]
  },
  {
   "cell_type": "code",
   "execution_count": 74,
   "id": "925e266c-81f5-4338-8c83-81a17a62bd52",
   "metadata": {},
   "outputs": [
    {
     "data": {
      "text/plain": [
       "array([[21.2, 16.3, 26.4,  0. ]])"
      ]
     },
     "execution_count": 74,
     "metadata": {},
     "output_type": "execute_result"
    }
   ],
   "source": [
    "rain = test_df.values\n",
    "rain"
   ]
  },
  {
   "cell_type": "code",
   "execution_count": 75,
   "id": "d5d8dfab-54a4-4b37-8e96-714f34de6eca",
   "metadata": {},
   "outputs": [
    {
     "data": {
      "text/plain": [
       "Index(['평균기온(℃)', '최저기온(℃)', '최고기온(℃)', '강수량(mm)'], dtype='object')"
      ]
     },
     "execution_count": 75,
     "metadata": {},
     "output_type": "execute_result"
    }
   ],
   "source": [
    "X.columns"
   ]
  },
  {
   "cell_type": "code",
   "execution_count": 76,
   "id": "1a5536c3-1590-4403-b037-a4426cf34225",
   "metadata": {},
   "outputs": [],
   "source": [
    "test_df = pd.DataFrame(rain, columns=X.columns, dtype='float')"
   ]
  },
  {
   "cell_type": "code",
   "execution_count": 77,
   "id": "57e627be-68ab-4c25-b78d-babacc4941e4",
   "metadata": {},
   "outputs": [
    {
     "data": {
      "text/html": [
       "<div>\n",
       "<style scoped>\n",
       "    .dataframe tbody tr th:only-of-type {\n",
       "        vertical-align: middle;\n",
       "    }\n",
       "\n",
       "    .dataframe tbody tr th {\n",
       "        vertical-align: top;\n",
       "    }\n",
       "\n",
       "    .dataframe thead th {\n",
       "        text-align: right;\n",
       "    }\n",
       "</style>\n",
       "<table border=\"1\" class=\"dataframe\">\n",
       "  <thead>\n",
       "    <tr style=\"text-align: right;\">\n",
       "      <th></th>\n",
       "      <th>평균기온(℃)</th>\n",
       "      <th>최저기온(℃)</th>\n",
       "      <th>최고기온(℃)</th>\n",
       "      <th>강수량(mm)</th>\n",
       "    </tr>\n",
       "  </thead>\n",
       "  <tbody>\n",
       "    <tr>\n",
       "      <th>0</th>\n",
       "      <td>21.2</td>\n",
       "      <td>16.3</td>\n",
       "      <td>26.4</td>\n",
       "      <td>0.0</td>\n",
       "    </tr>\n",
       "  </tbody>\n",
       "</table>\n",
       "</div>"
      ],
      "text/plain": [
       "   평균기온(℃)  최저기온(℃)  최고기온(℃)  강수량(mm)\n",
       "0     21.2     16.3     26.4      0.0"
      ]
     },
     "execution_count": 77,
     "metadata": {},
     "output_type": "execute_result"
    }
   ],
   "source": [
    "test_df"
   ]
  },
  {
   "cell_type": "markdown",
   "id": "7d91f663-86f3-4aac-92b4-7fd371bd2f38",
   "metadata": {},
   "source": [
    "### 배추 가격 예측"
   ]
  },
  {
   "cell_type": "code",
   "execution_count": 78,
   "id": "ffbfc802-3ad7-49bc-8702-9b4c02b8b22a",
   "metadata": {},
   "outputs": [
    {
     "data": {
      "text/plain": [
       "array([4411.594], dtype=float32)"
      ]
     },
     "execution_count": 78,
     "metadata": {},
     "output_type": "execute_result"
    }
   ],
   "source": [
    "xgb_reg.predict(test_df)"
   ]
  },
  {
   "cell_type": "markdown",
   "id": "247cb73d-e125-4455-8dfd-1ef60fe619e1",
   "metadata": {},
   "source": [
    "#### 2023-06-07\n",
    "- 실제 가격\n",
    "    - 8246\n",
    "\n",
    "- ML 이 예측한 배추 가격\n",
    "    - 평균 가격 : 4411.594\n",
    "    - 오차 : 1216.46"
   ]
  },
  {
   "cell_type": "markdown",
   "id": "2b4db3e3-2f56-411b-a5ee-8da4e58b6269",
   "metadata": {},
   "source": [
    "## r2 score(결정 계수) 확인"
   ]
  },
  {
   "cell_type": "markdown",
   "id": "2d739d27-11a6-4378-8b58-d58a49776a83",
   "metadata": {},
   "source": [
    "- r2 score 값이 1에 수렴할수록 좋은 모델 (X는 y를 잘 설명하는 데이터)\n",
    "- r2 score 값이 0에 수렴할수록 나쁜 모델 (X는 y를 잘 설명하는 데이터가 아님)\n",
    "- r2 score 값이 -1 사용 불가"
   ]
  },
  {
   "cell_type": "code",
   "execution_count": 80,
   "id": "632ea9bc-2042-4855-b293-d08ef90a8095",
   "metadata": {},
   "outputs": [],
   "source": [
    "from sklearn.metrics import r2_score"
   ]
  },
  {
   "cell_type": "code",
   "execution_count": 83,
   "id": "803db86b-9bbc-4361-9023-53652e479a0d",
   "metadata": {},
   "outputs": [],
   "source": [
    "xgb_test_pred = xgb_reg.predict(X_test)"
   ]
  },
  {
   "cell_type": "code",
   "execution_count": 84,
   "id": "d466a91a-fa0b-46c4-a3c0-f2dc0a9811fe",
   "metadata": {},
   "outputs": [
    {
     "name": "stdout",
     "output_type": "stream",
     "text": [
      "r2_score: 0.20631645018234857\n"
     ]
    }
   ],
   "source": [
    "print(\"r2_score: {}\".format(r2_score(y_test, xgb_test_pred)))"
   ]
  }
 ],
 "metadata": {
  "kernelspec": {
   "display_name": "ml_ex",
   "language": "python",
   "name": "ml_venv"
  },
  "language_info": {
   "codemirror_mode": {
    "name": "ipython",
    "version": 3
   },
   "file_extension": ".py",
   "mimetype": "text/x-python",
   "name": "python",
   "nbconvert_exporter": "python",
   "pygments_lexer": "ipython3",
   "version": "3.9.13"
  }
 },
 "nbformat": 4,
 "nbformat_minor": 5
}
