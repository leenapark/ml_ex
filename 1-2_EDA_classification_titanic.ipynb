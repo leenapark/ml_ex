{
 "cells": [
  {
   "cell_type": "markdown",
   "id": "2c5349a7-cb28-4172-a1a0-60a493e61d69",
   "metadata": {},
   "source": [
    "# EDA 및 지도학습 기본 실습\n",
    "- titanic-clean 데이터"
   ]
  },
  {
   "cell_type": "markdown",
   "id": "af13acd4-e3ad-4b09-8dba-341592f10685",
   "metadata": {},
   "source": [
    "## [실습2]titanic 사고 데이터로 생존자 예측"
   ]
  },
  {
   "cell_type": "code",
   "execution_count": 10,
   "id": "ccd8d0e0-4c22-4bca-a374-54eac8579c3d",
   "metadata": {},
   "outputs": [],
   "source": [
    "import pandas as pd\n",
    "import seaborn as sns\n",
    "import matplotlib.pyplot as plt"
   ]
  },
  {
   "cell_type": "markdown",
   "id": "38986bd3-6319-42c1-a5d6-2e8b2dd3ea77",
   "metadata": {},
   "source": [
    "### 데이터 로딩 및 탐색"
   ]
  },
  {
   "cell_type": "code",
   "execution_count": 4,
   "id": "e20828b8-c8e4-4677-ba61-3da23db349a7",
   "metadata": {},
   "outputs": [
    {
     "data": {
      "text/html": [
       "<div>\n",
       "<style scoped>\n",
       "    .dataframe tbody tr th:only-of-type {\n",
       "        vertical-align: middle;\n",
       "    }\n",
       "\n",
       "    .dataframe tbody tr th {\n",
       "        vertical-align: top;\n",
       "    }\n",
       "\n",
       "    .dataframe thead th {\n",
       "        text-align: right;\n",
       "    }\n",
       "</style>\n",
       "<table border=\"1\" class=\"dataframe\">\n",
       "  <thead>\n",
       "    <tr style=\"text-align: right;\">\n",
       "      <th></th>\n",
       "      <th>PassengerId</th>\n",
       "      <th>Survived</th>\n",
       "      <th>Pclass</th>\n",
       "      <th>Name</th>\n",
       "      <th>Sex</th>\n",
       "      <th>Age</th>\n",
       "      <th>SibSp</th>\n",
       "      <th>Parch</th>\n",
       "      <th>Ticket</th>\n",
       "      <th>Fare</th>\n",
       "      <th>Cabin</th>\n",
       "      <th>Embarked</th>\n",
       "      <th>Sex_num</th>\n",
       "      <th>Embarked_num</th>\n",
       "      <th>E_C</th>\n",
       "      <th>E_Q</th>\n",
       "      <th>E_S</th>\n",
       "    </tr>\n",
       "  </thead>\n",
       "  <tbody>\n",
       "    <tr>\n",
       "      <th>0</th>\n",
       "      <td>1</td>\n",
       "      <td>0</td>\n",
       "      <td>3.0</td>\n",
       "      <td>Braund, Mr. Owen Harris</td>\n",
       "      <td>male</td>\n",
       "      <td>22.0</td>\n",
       "      <td>1</td>\n",
       "      <td>0</td>\n",
       "      <td>A/5 21171</td>\n",
       "      <td>7.2500</td>\n",
       "      <td>B96 B98</td>\n",
       "      <td>S</td>\n",
       "      <td>1</td>\n",
       "      <td>2</td>\n",
       "      <td>0</td>\n",
       "      <td>0</td>\n",
       "      <td>1</td>\n",
       "    </tr>\n",
       "    <tr>\n",
       "      <th>1</th>\n",
       "      <td>2</td>\n",
       "      <td>1</td>\n",
       "      <td>1.0</td>\n",
       "      <td>Cumings, Mrs. John Bradley (Florence Briggs Th...</td>\n",
       "      <td>female</td>\n",
       "      <td>38.0</td>\n",
       "      <td>1</td>\n",
       "      <td>0</td>\n",
       "      <td>PC 17599</td>\n",
       "      <td>71.2833</td>\n",
       "      <td>C85</td>\n",
       "      <td>C</td>\n",
       "      <td>0</td>\n",
       "      <td>0</td>\n",
       "      <td>1</td>\n",
       "      <td>0</td>\n",
       "      <td>0</td>\n",
       "    </tr>\n",
       "    <tr>\n",
       "      <th>2</th>\n",
       "      <td>3</td>\n",
       "      <td>1</td>\n",
       "      <td>3.0</td>\n",
       "      <td>Heikkinen, Miss. Laina</td>\n",
       "      <td>female</td>\n",
       "      <td>26.0</td>\n",
       "      <td>0</td>\n",
       "      <td>0</td>\n",
       "      <td>STON/O2. 3101282</td>\n",
       "      <td>7.9250</td>\n",
       "      <td>B96 B98</td>\n",
       "      <td>S</td>\n",
       "      <td>0</td>\n",
       "      <td>2</td>\n",
       "      <td>0</td>\n",
       "      <td>0</td>\n",
       "      <td>1</td>\n",
       "    </tr>\n",
       "    <tr>\n",
       "      <th>3</th>\n",
       "      <td>4</td>\n",
       "      <td>1</td>\n",
       "      <td>1.0</td>\n",
       "      <td>Futrelle, Mrs. Jacques Heath (Lily May Peel)</td>\n",
       "      <td>female</td>\n",
       "      <td>35.0</td>\n",
       "      <td>1</td>\n",
       "      <td>0</td>\n",
       "      <td>113803</td>\n",
       "      <td>53.1000</td>\n",
       "      <td>C123</td>\n",
       "      <td>S</td>\n",
       "      <td>0</td>\n",
       "      <td>2</td>\n",
       "      <td>0</td>\n",
       "      <td>0</td>\n",
       "      <td>1</td>\n",
       "    </tr>\n",
       "    <tr>\n",
       "      <th>4</th>\n",
       "      <td>5</td>\n",
       "      <td>0</td>\n",
       "      <td>3.0</td>\n",
       "      <td>Allen, Mr. William Henry</td>\n",
       "      <td>male</td>\n",
       "      <td>35.0</td>\n",
       "      <td>0</td>\n",
       "      <td>0</td>\n",
       "      <td>373450</td>\n",
       "      <td>8.0500</td>\n",
       "      <td>B96 B98</td>\n",
       "      <td>S</td>\n",
       "      <td>1</td>\n",
       "      <td>2</td>\n",
       "      <td>0</td>\n",
       "      <td>0</td>\n",
       "      <td>1</td>\n",
       "    </tr>\n",
       "  </tbody>\n",
       "</table>\n",
       "</div>"
      ],
      "text/plain": [
       "   PassengerId  Survived  Pclass  \\\n",
       "0            1         0     3.0   \n",
       "1            2         1     1.0   \n",
       "2            3         1     3.0   \n",
       "3            4         1     1.0   \n",
       "4            5         0     3.0   \n",
       "\n",
       "                                                Name     Sex   Age  SibSp  \\\n",
       "0                            Braund, Mr. Owen Harris    male  22.0      1   \n",
       "1  Cumings, Mrs. John Bradley (Florence Briggs Th...  female  38.0      1   \n",
       "2                             Heikkinen, Miss. Laina  female  26.0      0   \n",
       "3       Futrelle, Mrs. Jacques Heath (Lily May Peel)  female  35.0      1   \n",
       "4                           Allen, Mr. William Henry    male  35.0      0   \n",
       "\n",
       "   Parch            Ticket     Fare    Cabin Embarked  Sex_num  Embarked_num  \\\n",
       "0      0         A/5 21171   7.2500  B96 B98        S        1             2   \n",
       "1      0          PC 17599  71.2833      C85        C        0             0   \n",
       "2      0  STON/O2. 3101282   7.9250  B96 B98        S        0             2   \n",
       "3      0            113803  53.1000     C123        S        0             2   \n",
       "4      0            373450   8.0500  B96 B98        S        1             2   \n",
       "\n",
       "   E_C  E_Q  E_S  \n",
       "0    0    0    1  \n",
       "1    1    0    0  \n",
       "2    0    0    1  \n",
       "3    0    0    1  \n",
       "4    0    0    1  "
      ]
     },
     "execution_count": 4,
     "metadata": {},
     "output_type": "execute_result"
    }
   ],
   "source": [
    "df = pd.read_csv(\"ml_datas/titanic_clean.csv\")\n",
    "df.head()"
   ]
  },
  {
   "cell_type": "code",
   "execution_count": 6,
   "id": "5fbcaf63-f8f8-464d-a550-55128301ff3b",
   "metadata": {},
   "outputs": [
    {
     "name": "stdout",
     "output_type": "stream",
     "text": [
      "<class 'pandas.core.frame.DataFrame'>\n",
      "RangeIndex: 891 entries, 0 to 890\n",
      "Data columns (total 17 columns):\n",
      " #   Column        Non-Null Count  Dtype  \n",
      "---  ------        --------------  -----  \n",
      " 0   PassengerId   891 non-null    int64  \n",
      " 1   Survived      891 non-null    int64  \n",
      " 2   Pclass        891 non-null    float64\n",
      " 3   Name          891 non-null    object \n",
      " 4   Sex           891 non-null    object \n",
      " 5   Age           891 non-null    float64\n",
      " 6   SibSp         891 non-null    int64  \n",
      " 7   Parch         891 non-null    int64  \n",
      " 8   Ticket        891 non-null    object \n",
      " 9   Fare          891 non-null    float64\n",
      " 10  Cabin         891 non-null    object \n",
      " 11  Embarked      891 non-null    object \n",
      " 12  Sex_num       891 non-null    int64  \n",
      " 13  Embarked_num  891 non-null    int64  \n",
      " 14  E_C           891 non-null    int64  \n",
      " 15  E_Q           891 non-null    int64  \n",
      " 16  E_S           891 non-null    int64  \n",
      "dtypes: float64(3), int64(9), object(5)\n",
      "memory usage: 118.5+ KB\n"
     ]
    }
   ],
   "source": [
    "df.info()"
   ]
  },
  {
   "cell_type": "code",
   "execution_count": 8,
   "id": "80d859f8-dbf1-4cd7-b8e6-59530f017138",
   "metadata": {},
   "outputs": [
    {
     "data": {
      "text/html": [
       "<div>\n",
       "<style scoped>\n",
       "    .dataframe tbody tr th:only-of-type {\n",
       "        vertical-align: middle;\n",
       "    }\n",
       "\n",
       "    .dataframe tbody tr th {\n",
       "        vertical-align: top;\n",
       "    }\n",
       "\n",
       "    .dataframe thead th {\n",
       "        text-align: right;\n",
       "    }\n",
       "</style>\n",
       "<table border=\"1\" class=\"dataframe\">\n",
       "  <thead>\n",
       "    <tr style=\"text-align: right;\">\n",
       "      <th></th>\n",
       "      <th>PassengerId</th>\n",
       "      <th>Survived</th>\n",
       "      <th>Pclass</th>\n",
       "      <th>Name</th>\n",
       "      <th>Sex</th>\n",
       "      <th>Age</th>\n",
       "      <th>SibSp</th>\n",
       "      <th>Parch</th>\n",
       "      <th>Ticket</th>\n",
       "      <th>Fare</th>\n",
       "      <th>Cabin</th>\n",
       "      <th>Embarked</th>\n",
       "      <th>Sex_num</th>\n",
       "      <th>Embarked_num</th>\n",
       "      <th>E_C</th>\n",
       "      <th>E_Q</th>\n",
       "      <th>E_S</th>\n",
       "    </tr>\n",
       "  </thead>\n",
       "  <tbody>\n",
       "    <tr>\n",
       "      <th>0</th>\n",
       "      <td>1</td>\n",
       "      <td>0</td>\n",
       "      <td>3</td>\n",
       "      <td>Braund, Mr. Owen Harris</td>\n",
       "      <td>male</td>\n",
       "      <td>22</td>\n",
       "      <td>1</td>\n",
       "      <td>0</td>\n",
       "      <td>A/5 21171</td>\n",
       "      <td>7.2500</td>\n",
       "      <td>B96 B98</td>\n",
       "      <td>S</td>\n",
       "      <td>1</td>\n",
       "      <td>2</td>\n",
       "      <td>0</td>\n",
       "      <td>0</td>\n",
       "      <td>1</td>\n",
       "    </tr>\n",
       "    <tr>\n",
       "      <th>1</th>\n",
       "      <td>2</td>\n",
       "      <td>1</td>\n",
       "      <td>1</td>\n",
       "      <td>Cumings, Mrs. John Bradley (Florence Briggs Th...</td>\n",
       "      <td>female</td>\n",
       "      <td>38</td>\n",
       "      <td>1</td>\n",
       "      <td>0</td>\n",
       "      <td>PC 17599</td>\n",
       "      <td>71.2833</td>\n",
       "      <td>C85</td>\n",
       "      <td>C</td>\n",
       "      <td>0</td>\n",
       "      <td>0</td>\n",
       "      <td>1</td>\n",
       "      <td>0</td>\n",
       "      <td>0</td>\n",
       "    </tr>\n",
       "    <tr>\n",
       "      <th>2</th>\n",
       "      <td>3</td>\n",
       "      <td>1</td>\n",
       "      <td>3</td>\n",
       "      <td>Heikkinen, Miss. Laina</td>\n",
       "      <td>female</td>\n",
       "      <td>26</td>\n",
       "      <td>0</td>\n",
       "      <td>0</td>\n",
       "      <td>STON/O2. 3101282</td>\n",
       "      <td>7.9250</td>\n",
       "      <td>B96 B98</td>\n",
       "      <td>S</td>\n",
       "      <td>0</td>\n",
       "      <td>2</td>\n",
       "      <td>0</td>\n",
       "      <td>0</td>\n",
       "      <td>1</td>\n",
       "    </tr>\n",
       "    <tr>\n",
       "      <th>3</th>\n",
       "      <td>4</td>\n",
       "      <td>1</td>\n",
       "      <td>1</td>\n",
       "      <td>Futrelle, Mrs. Jacques Heath (Lily May Peel)</td>\n",
       "      <td>female</td>\n",
       "      <td>35</td>\n",
       "      <td>1</td>\n",
       "      <td>0</td>\n",
       "      <td>113803</td>\n",
       "      <td>53.1000</td>\n",
       "      <td>C123</td>\n",
       "      <td>S</td>\n",
       "      <td>0</td>\n",
       "      <td>2</td>\n",
       "      <td>0</td>\n",
       "      <td>0</td>\n",
       "      <td>1</td>\n",
       "    </tr>\n",
       "    <tr>\n",
       "      <th>4</th>\n",
       "      <td>5</td>\n",
       "      <td>0</td>\n",
       "      <td>3</td>\n",
       "      <td>Allen, Mr. William Henry</td>\n",
       "      <td>male</td>\n",
       "      <td>35</td>\n",
       "      <td>0</td>\n",
       "      <td>0</td>\n",
       "      <td>373450</td>\n",
       "      <td>8.0500</td>\n",
       "      <td>B96 B98</td>\n",
       "      <td>S</td>\n",
       "      <td>1</td>\n",
       "      <td>2</td>\n",
       "      <td>0</td>\n",
       "      <td>0</td>\n",
       "      <td>1</td>\n",
       "    </tr>\n",
       "  </tbody>\n",
       "</table>\n",
       "</div>"
      ],
      "text/plain": [
       "   PassengerId  Survived  Pclass  \\\n",
       "0            1         0       3   \n",
       "1            2         1       1   \n",
       "2            3         1       3   \n",
       "3            4         1       1   \n",
       "4            5         0       3   \n",
       "\n",
       "                                                Name     Sex  Age  SibSp  \\\n",
       "0                            Braund, Mr. Owen Harris    male   22      1   \n",
       "1  Cumings, Mrs. John Bradley (Florence Briggs Th...  female   38      1   \n",
       "2                             Heikkinen, Miss. Laina  female   26      0   \n",
       "3       Futrelle, Mrs. Jacques Heath (Lily May Peel)  female   35      1   \n",
       "4                           Allen, Mr. William Henry    male   35      0   \n",
       "\n",
       "   Parch            Ticket     Fare    Cabin Embarked  Sex_num  Embarked_num  \\\n",
       "0      0         A/5 21171   7.2500  B96 B98        S        1             2   \n",
       "1      0          PC 17599  71.2833      C85        C        0             0   \n",
       "2      0  STON/O2. 3101282   7.9250  B96 B98        S        0             2   \n",
       "3      0            113803  53.1000     C123        S        0             2   \n",
       "4      0            373450   8.0500  B96 B98        S        1             2   \n",
       "\n",
       "   E_C  E_Q  E_S  \n",
       "0    0    0    1  \n",
       "1    1    0    0  \n",
       "2    0    0    1  \n",
       "3    0    0    1  \n",
       "4    0    0    1  "
      ]
     },
     "execution_count": 8,
     "metadata": {},
     "output_type": "execute_result"
    }
   ],
   "source": [
    "df[\"Pclass\"], df[\"Age\"] = df[\"Pclass\"].astype(int), df[\"Age\"].astype(int)\n",
    "df.head()"
   ]
  },
  {
   "cell_type": "markdown",
   "id": "f8d7ea1a-2d39-4675-a58a-17c704f9e54e",
   "metadata": {},
   "source": [
    "### EDA 수행\n",
    "- 각 컬럼이 어떤 연관성이 있는지 확인"
   ]
  },
  {
   "cell_type": "markdown",
   "id": "e7a6b9e2-2c1c-45be-9025-b93ff61f35df",
   "metadata": {},
   "source": [
    "#### 컬럼 확인\n",
    "- 필요한 데이터 컬럼 추출\n",
    "- 데이터 프레임 corr() : 피어슨 상관 계수 실행\n",
    "    - range(-1, 1)\n",
    "        - -1 : 변량 x의 값이 커짐에 따라 변량 y의 값이 대체로 작아지면, 변량 x, y 사이에는 **음의 상관관계** \n",
    "        - 0 : 상관 관계 없음\n",
    "        - 1 : 변량 x의 값이 커짐에 따라 변량 y의 값이 대체로 커지면, 변량 x, y 사이에는 **양의 상관관계**\n",
    "- sns.heatmap() 확인"
   ]
  },
  {
   "cell_type": "code",
   "execution_count": 12,
   "id": "a34b9509-b8ba-4b65-9e92-687bebd1c498",
   "metadata": {},
   "outputs": [
    {
     "data": {
      "text/html": [
       "<div>\n",
       "<style scoped>\n",
       "    .dataframe tbody tr th:only-of-type {\n",
       "        vertical-align: middle;\n",
       "    }\n",
       "\n",
       "    .dataframe tbody tr th {\n",
       "        vertical-align: top;\n",
       "    }\n",
       "\n",
       "    .dataframe thead th {\n",
       "        text-align: right;\n",
       "    }\n",
       "</style>\n",
       "<table border=\"1\" class=\"dataframe\">\n",
       "  <thead>\n",
       "    <tr style=\"text-align: right;\">\n",
       "      <th></th>\n",
       "      <th>PassengerId</th>\n",
       "      <th>Survived</th>\n",
       "      <th>Pclass</th>\n",
       "      <th>Name</th>\n",
       "      <th>Sex</th>\n",
       "      <th>Age</th>\n",
       "      <th>SibSp</th>\n",
       "      <th>Parch</th>\n",
       "      <th>Ticket</th>\n",
       "      <th>Fare</th>\n",
       "      <th>Cabin</th>\n",
       "      <th>Embarked</th>\n",
       "    </tr>\n",
       "  </thead>\n",
       "  <tbody>\n",
       "    <tr>\n",
       "      <th>0</th>\n",
       "      <td>1</td>\n",
       "      <td>0</td>\n",
       "      <td>3</td>\n",
       "      <td>Braund, Mr. Owen Harris</td>\n",
       "      <td>male</td>\n",
       "      <td>22</td>\n",
       "      <td>1</td>\n",
       "      <td>0</td>\n",
       "      <td>A/5 21171</td>\n",
       "      <td>7.2500</td>\n",
       "      <td>B96 B98</td>\n",
       "      <td>S</td>\n",
       "    </tr>\n",
       "    <tr>\n",
       "      <th>1</th>\n",
       "      <td>2</td>\n",
       "      <td>1</td>\n",
       "      <td>1</td>\n",
       "      <td>Cumings, Mrs. John Bradley (Florence Briggs Th...</td>\n",
       "      <td>female</td>\n",
       "      <td>38</td>\n",
       "      <td>1</td>\n",
       "      <td>0</td>\n",
       "      <td>PC 17599</td>\n",
       "      <td>71.2833</td>\n",
       "      <td>C85</td>\n",
       "      <td>C</td>\n",
       "    </tr>\n",
       "    <tr>\n",
       "      <th>2</th>\n",
       "      <td>3</td>\n",
       "      <td>1</td>\n",
       "      <td>3</td>\n",
       "      <td>Heikkinen, Miss. Laina</td>\n",
       "      <td>female</td>\n",
       "      <td>26</td>\n",
       "      <td>0</td>\n",
       "      <td>0</td>\n",
       "      <td>STON/O2. 3101282</td>\n",
       "      <td>7.9250</td>\n",
       "      <td>B96 B98</td>\n",
       "      <td>S</td>\n",
       "    </tr>\n",
       "    <tr>\n",
       "      <th>3</th>\n",
       "      <td>4</td>\n",
       "      <td>1</td>\n",
       "      <td>1</td>\n",
       "      <td>Futrelle, Mrs. Jacques Heath (Lily May Peel)</td>\n",
       "      <td>female</td>\n",
       "      <td>35</td>\n",
       "      <td>1</td>\n",
       "      <td>0</td>\n",
       "      <td>113803</td>\n",
       "      <td>53.1000</td>\n",
       "      <td>C123</td>\n",
       "      <td>S</td>\n",
       "    </tr>\n",
       "    <tr>\n",
       "      <th>4</th>\n",
       "      <td>5</td>\n",
       "      <td>0</td>\n",
       "      <td>3</td>\n",
       "      <td>Allen, Mr. William Henry</td>\n",
       "      <td>male</td>\n",
       "      <td>35</td>\n",
       "      <td>0</td>\n",
       "      <td>0</td>\n",
       "      <td>373450</td>\n",
       "      <td>8.0500</td>\n",
       "      <td>B96 B98</td>\n",
       "      <td>S</td>\n",
       "    </tr>\n",
       "  </tbody>\n",
       "</table>\n",
       "</div>"
      ],
      "text/plain": [
       "   PassengerId  Survived  Pclass  \\\n",
       "0            1         0       3   \n",
       "1            2         1       1   \n",
       "2            3         1       3   \n",
       "3            4         1       1   \n",
       "4            5         0       3   \n",
       "\n",
       "                                                Name     Sex  Age  SibSp  \\\n",
       "0                            Braund, Mr. Owen Harris    male   22      1   \n",
       "1  Cumings, Mrs. John Bradley (Florence Briggs Th...  female   38      1   \n",
       "2                             Heikkinen, Miss. Laina  female   26      0   \n",
       "3       Futrelle, Mrs. Jacques Heath (Lily May Peel)  female   35      1   \n",
       "4                           Allen, Mr. William Henry    male   35      0   \n",
       "\n",
       "   Parch            Ticket     Fare    Cabin Embarked  \n",
       "0      0         A/5 21171   7.2500  B96 B98        S  \n",
       "1      0          PC 17599  71.2833      C85        C  \n",
       "2      0  STON/O2. 3101282   7.9250  B96 B98        S  \n",
       "3      0            113803  53.1000     C123        S  \n",
       "4      0            373450   8.0500  B96 B98        S  "
      ]
     },
     "execution_count": 12,
     "metadata": {},
     "output_type": "execute_result"
    }
   ],
   "source": [
    "df_eda = df.loc[:, 'PassengerId':'Embarked']\n",
    "df_eda.head()"
   ]
  },
  {
   "cell_type": "code",
   "execution_count": 23,
   "id": "1d380a17-fe31-4fa3-9144-d6afc5d93250",
   "metadata": {},
   "outputs": [
    {
     "data": {
      "text/html": [
       "<div>\n",
       "<style scoped>\n",
       "    .dataframe tbody tr th:only-of-type {\n",
       "        vertical-align: middle;\n",
       "    }\n",
       "\n",
       "    .dataframe tbody tr th {\n",
       "        vertical-align: top;\n",
       "    }\n",
       "\n",
       "    .dataframe thead th {\n",
       "        text-align: right;\n",
       "    }\n",
       "</style>\n",
       "<table border=\"1\" class=\"dataframe\">\n",
       "  <thead>\n",
       "    <tr style=\"text-align: right;\">\n",
       "      <th></th>\n",
       "      <th>Survived</th>\n",
       "      <th>Pclass</th>\n",
       "      <th>Age</th>\n",
       "      <th>SibSp</th>\n",
       "      <th>Parch</th>\n",
       "      <th>Fare</th>\n",
       "      <th>Sex_num</th>\n",
       "      <th>Embarked_num</th>\n",
       "    </tr>\n",
       "  </thead>\n",
       "  <tbody>\n",
       "    <tr>\n",
       "      <th>0</th>\n",
       "      <td>0</td>\n",
       "      <td>3</td>\n",
       "      <td>22</td>\n",
       "      <td>1</td>\n",
       "      <td>0</td>\n",
       "      <td>7.2500</td>\n",
       "      <td>1</td>\n",
       "      <td>2</td>\n",
       "    </tr>\n",
       "    <tr>\n",
       "      <th>1</th>\n",
       "      <td>1</td>\n",
       "      <td>1</td>\n",
       "      <td>38</td>\n",
       "      <td>1</td>\n",
       "      <td>0</td>\n",
       "      <td>71.2833</td>\n",
       "      <td>0</td>\n",
       "      <td>0</td>\n",
       "    </tr>\n",
       "    <tr>\n",
       "      <th>2</th>\n",
       "      <td>1</td>\n",
       "      <td>3</td>\n",
       "      <td>26</td>\n",
       "      <td>0</td>\n",
       "      <td>0</td>\n",
       "      <td>7.9250</td>\n",
       "      <td>0</td>\n",
       "      <td>2</td>\n",
       "    </tr>\n",
       "    <tr>\n",
       "      <th>3</th>\n",
       "      <td>1</td>\n",
       "      <td>1</td>\n",
       "      <td>35</td>\n",
       "      <td>1</td>\n",
       "      <td>0</td>\n",
       "      <td>53.1000</td>\n",
       "      <td>0</td>\n",
       "      <td>2</td>\n",
       "    </tr>\n",
       "    <tr>\n",
       "      <th>4</th>\n",
       "      <td>0</td>\n",
       "      <td>3</td>\n",
       "      <td>35</td>\n",
       "      <td>0</td>\n",
       "      <td>0</td>\n",
       "      <td>8.0500</td>\n",
       "      <td>1</td>\n",
       "      <td>2</td>\n",
       "    </tr>\n",
       "  </tbody>\n",
       "</table>\n",
       "</div>"
      ],
      "text/plain": [
       "   Survived  Pclass  Age  SibSp  Parch     Fare  Sex_num  Embarked_num\n",
       "0         0       3   22      1      0   7.2500        1             2\n",
       "1         1       1   38      1      0  71.2833        0             0\n",
       "2         1       3   26      0      0   7.9250        0             2\n",
       "3         1       1   35      1      0  53.1000        0             2\n",
       "4         0       3   35      0      0   8.0500        1             2"
      ]
     },
     "execution_count": 23,
     "metadata": {},
     "output_type": "execute_result"
    }
   ],
   "source": [
    "df_eda2 = df.loc[:, [\"Survived\", \"Pclass\", \"Age\", \"SibSp\", \"Parch\", \"Fare\", \"Sex_num\", \"Embarked_num\"]]\n",
    "df_eda2.head()"
   ]
  },
  {
   "cell_type": "code",
   "execution_count": 24,
   "id": "530d9c97-f35d-4503-b604-b3fcdeb6762c",
   "metadata": {},
   "outputs": [
    {
     "data": {
      "text/plain": [
       "<Axes: >"
      ]
     },
     "execution_count": 24,
     "metadata": {},
     "output_type": "execute_result"
    },
    {
     "data": {
      "image/png": "[encoded data removed]",
      "text/plain": [
       "<Figure size 1200x1200 with 2 Axes>"
      ]
     },
     "metadata": {},
     "output_type": "display_data"
    }
   ],
   "source": [
    "plt.figure(figsize=(12,12))\n",
    "sns.heatmap(df_eda2.corr(), annot=True)"
   ]
  },
  {
   "cell_type": "code",
   "execution_count": 26,
   "id": "b0d613a8-3035-4aa7-bf4f-5d15f566272f",
   "metadata": {},
   "outputs": [
    {
     "data": {
      "text/plain": [
       "<Axes: >"
      ]
     },
     "execution_count": 26,
     "metadata": {},
     "output_type": "execute_result"
    },
    {
     "data": {
      "image/png": "[encoded data removed]",
      "text/plain": [
       "<Figure size 400x800 with 2 Axes>"
      ]
     },
     "metadata": {},
     "output_type": "display_data"
    }
   ],
   "source": [
    "plt.figure(figsize=(4,8))\n",
    "sns.heatmap(df_eda2.corr()[[\"Survived\"]], annot=True)"
   ]
  },
  {
   "cell_type": "markdown",
   "id": "7322483f-3149-4840-a1bf-9d3659498415",
   "metadata": {},
   "source": [
    "### 생존자(Survived) 컬럼과 각 피처간의 관계 살펴보기"
   ]
  },
  {
   "cell_type": "code",
   "execution_count": 27,
   "id": "1368c62e-d7ae-45e2-a6e5-b9b3146d9d9b",
   "metadata": {},
   "outputs": [
    {
     "data": {
      "text/plain": [
       "<Axes: xlabel='Pclass', ylabel='Count'>"
      ]
     },
     "execution_count": 27,
     "metadata": {},
     "output_type": "execute_result"
    },
    {
     "data": {
      "image/png": "[encoded data removed]",
      "text/plain": [
       "<Figure size 640x480 with 1 Axes>"
      ]
     },
     "metadata": {},
     "output_type": "display_data"
    }
   ],
   "source": [
    "# 좌석 등급과 생존과의 관계\n",
    "sns.histplot(data=df_eda, x=\"Pclass\", hue='Survived', bins=3, palette='RdBu')"
   ]
  },
  {
   "cell_type": "code",
   "execution_count": 28,
   "id": "c15d073b-606a-42d3-8fdd-68cd2978edc6",
   "metadata": {},
   "outputs": [
    {
     "data": {
      "text/plain": [
       "<Axes: xlabel='Sex', ylabel='Count'>"
      ]
     },
     "execution_count": 28,
     "metadata": {},
     "output_type": "execute_result"
    },
    {
     "data": {
      "image/png": "[encoded data removed]",
      "text/plain": [
       "<Figure size 640x480 with 1 Axes>"
      ]
     },
     "metadata": {},
     "output_type": "display_data"
    }
   ],
   "source": [
    "# 성별과 생존과의 관계를 histplot()\n",
    "sns.histplot(data=df_eda, x=\"Sex\", hue='Survived', bins=2, palette='RdBu')"
   ]
  },
  {
   "cell_type": "code",
   "execution_count": 31,
   "id": "0ff9d5e1-7de0-4fa8-bb53-b1e5cc80a7cc",
   "metadata": {},
   "outputs": [
    {
     "data": {
      "text/plain": [
       "<Axes: xlabel='Age', ylabel='Count'>"
      ]
     },
     "execution_count": 31,
     "metadata": {},
     "output_type": "execute_result"
    },
    {
     "data": {
      "image/png": "[encoded data removed]",
      "text/plain": [
       "<Figure size 1200x800 with 1 Axes>"
      ]
     },
     "metadata": {},
     "output_type": "display_data"
    }
   ],
   "source": [
    "# 나이와 생존과의 관계를 histplot()\n",
    "plt.figure(figsize=(12, 8))\n",
    "sns.histplot(data=df_eda, x=\"Age\", hue=\"Survived\", bins=8, palette=\"RdBu\", kde=True)"
   ]
  },
  {
   "cell_type": "code",
   "execution_count": 32,
   "id": "67b4a3a7-0ca4-4a8f-a708-7be1a75f6ff5",
   "metadata": {},
   "outputs": [
    {
     "data": {
      "text/plain": [
       "Embarked\n",
       "S    646\n",
       "C    168\n",
       "Q     77\n",
       "Name: count, dtype: int64"
      ]
     },
     "execution_count": 32,
     "metadata": {},
     "output_type": "execute_result"
    }
   ],
   "source": [
    "# 탑승항구에 따른 탑승자수 카운트\n",
    "df_eda['Embarked'].value_counts()"
   ]
  },
  {
   "cell_type": "code",
   "execution_count": 33,
   "id": "98796d83-8c2b-41e8-9a85-25c4e0b2c530",
   "metadata": {},
   "outputs": [
    {
     "data": {
      "text/plain": [
       "<Axes: xlabel='Embarked', ylabel='Count'>"
      ]
     },
     "execution_count": 33,
     "metadata": {},
     "output_type": "execute_result"
    },
    {
     "data": {
      "image/png": "[encoded data removed]",
      "text/plain": [
       "<Figure size 1200x800 with 1 Axes>"
      ]
     },
     "metadata": {},
     "output_type": "display_data"
    }
   ],
   "source": [
    "# 탑승항구에 따른 생존자 현황\n",
    "plt.figure(figsize=(12,8))\n",
    "sns.histplot(data=df_eda, x=\"Embarked\",hue='Survived', palette='RdBu', kde=True)"
   ]
  },
  {
   "cell_type": "code",
   "execution_count": 34,
   "id": "b1ab522c-ab18-44a3-975f-54d243fbcd45",
   "metadata": {},
   "outputs": [
    {
     "data": {
      "text/plain": [
       "<Axes: xlabel='Age', ylabel='count'>"
      ]
     },
     "execution_count": 34,
     "metadata": {},
     "output_type": "execute_result"
    },
    {
     "data": {
      "image/png": "[encoded data removed]",
      "text/plain": [
       "<Figure size 1600x1000 with 1 Axes>"
      ]
     },
     "metadata": {},
     "output_type": "display_data"
    }
   ],
   "source": [
    "# 'Age'컬럼의 value별로 카운트하여 시각화\n",
    "plt.figure(figsize=(16,10))\n",
    "plt.xticks(rotation=90)\n",
    "sns.countplot(data=df_eda, x='Age',  hue='Survived')"
   ]
  },
  {
   "cell_type": "markdown",
   "id": "1633fff0-b2f3-45c3-b991-f683bdaafd70",
   "metadata": {},
   "source": [
    "### [문제] 'Pclass' 별로 생존자 수와 사망자 수를 막대그래프로 시각화"
   ]
  },
  {
   "cell_type": "code",
   "execution_count": 41,
   "id": "6998c64a-1214-44ea-9740-6acb6e72e28f",
   "metadata": {},
   "outputs": [
    {
     "data": {
      "text/plain": [
       "<Axes: xlabel='Survived', ylabel='count'>"
      ]
     },
     "execution_count": 41,
     "metadata": {},
     "output_type": "execute_result"
    },
    {
     "data": {
      "image/png": "[encoded data removed]",
      "text/plain": [
       "<Figure size 1600x1000 with 1 Axes>"
      ]
     },
     "metadata": {},
     "output_type": "display_data"
    }
   ],
   "source": [
    "plt.figure(figsize=(16,10))\n",
    "plt.xticks(rotation=90)\n",
    "# sns.countplot(data=df_eda, x='Survived',  hue=df_eda[\"Pclass\"])\n",
    "sns.countplot(data=df_eda, x='Survived',  hue=df_eda[\"Pclass\"], hue_order=[3, 2, 1]) # hue 표기를 바꾸고 싶을 경우"
   ]
  },
  {
   "cell_type": "markdown",
   "id": "d12a75c4-c2ee-4434-a7ac-b7c23f1e212a",
   "metadata": {},
   "source": [
    "### [문제] 'Embarked' 탑승 항구별로 생존자 수 확인"
   ]
  },
  {
   "cell_type": "code",
   "execution_count": 38,
   "id": "1424e460-2600-4c9d-a31c-ff02a7e91c74",
   "metadata": {},
   "outputs": [
    {
     "data": {
      "text/plain": [
       "<Axes: xlabel='Survived', ylabel='count'>"
      ]
     },
     "execution_count": 38,
     "metadata": {},
     "output_type": "execute_result"
    },
    {
     "data": {
      "image/png": "[encoded data removed]",
      "text/plain": [
       "<Figure size 1600x1000 with 1 Axes>"
      ]
     },
     "metadata": {},
     "output_type": "display_data"
    }
   ],
   "source": [
    "plt.figure(figsize=(16,10))\n",
    "plt.xticks(rotation=90)\n",
    "sns.countplot(data=df_eda, x='Survived',  hue=df_eda[\"Embarked\"])"
   ]
  },
  {
   "cell_type": "markdown",
   "id": "25d98852-d7ac-4b13-9300-0e5351f39e51",
   "metadata": {},
   "source": [
    "## 특징 데이터(X, feature)와 정답 데이터(y, target) 분할\n",
    "- feature(X), target(y)"
   ]
  },
  {
   "cell_type": "code",
   "execution_count": 42,
   "id": "27ec4650-a825-4a64-bfc4-f8da88d53a21",
   "metadata": {},
   "outputs": [
    {
     "data": {
      "text/plain": [
       "Index(['PassengerId', 'Survived', 'Pclass', 'Name', 'Sex', 'Age', 'SibSp',\n",
       "       'Parch', 'Ticket', 'Fare', 'Cabin', 'Embarked', 'Sex_num',\n",
       "       'Embarked_num', 'E_C', 'E_Q', 'E_S'],\n",
       "      dtype='object')"
      ]
     },
     "execution_count": 42,
     "metadata": {},
     "output_type": "execute_result"
    }
   ],
   "source": [
    "df.columns"
   ]
  },
  {
   "cell_type": "code",
   "execution_count": 47,
   "id": "4f19b37b-ee33-43dc-81a6-8e09255bf5c6",
   "metadata": {},
   "outputs": [
    {
     "data": {
      "text/html": [
       "<div>\n",
       "<style scoped>\n",
       "    .dataframe tbody tr th:only-of-type {\n",
       "        vertical-align: middle;\n",
       "    }\n",
       "\n",
       "    .dataframe tbody tr th {\n",
       "        vertical-align: top;\n",
       "    }\n",
       "\n",
       "    .dataframe thead th {\n",
       "        text-align: right;\n",
       "    }\n",
       "</style>\n",
       "<table border=\"1\" class=\"dataframe\">\n",
       "  <thead>\n",
       "    <tr style=\"text-align: right;\">\n",
       "      <th></th>\n",
       "      <th>Pclass</th>\n",
       "      <th>Sex_num</th>\n",
       "      <th>Age</th>\n",
       "      <th>Fare</th>\n",
       "      <th>E_C</th>\n",
       "      <th>E_Q</th>\n",
       "      <th>E_S</th>\n",
       "    </tr>\n",
       "  </thead>\n",
       "  <tbody>\n",
       "    <tr>\n",
       "      <th>0</th>\n",
       "      <td>3</td>\n",
       "      <td>1</td>\n",
       "      <td>22</td>\n",
       "      <td>7.2500</td>\n",
       "      <td>0</td>\n",
       "      <td>0</td>\n",
       "      <td>1</td>\n",
       "    </tr>\n",
       "    <tr>\n",
       "      <th>1</th>\n",
       "      <td>1</td>\n",
       "      <td>0</td>\n",
       "      <td>38</td>\n",
       "      <td>71.2833</td>\n",
       "      <td>1</td>\n",
       "      <td>0</td>\n",
       "      <td>0</td>\n",
       "    </tr>\n",
       "    <tr>\n",
       "      <th>2</th>\n",
       "      <td>3</td>\n",
       "      <td>0</td>\n",
       "      <td>26</td>\n",
       "      <td>7.9250</td>\n",
       "      <td>0</td>\n",
       "      <td>0</td>\n",
       "      <td>1</td>\n",
       "    </tr>\n",
       "    <tr>\n",
       "      <th>3</th>\n",
       "      <td>1</td>\n",
       "      <td>0</td>\n",
       "      <td>35</td>\n",
       "      <td>53.1000</td>\n",
       "      <td>0</td>\n",
       "      <td>0</td>\n",
       "      <td>1</td>\n",
       "    </tr>\n",
       "    <tr>\n",
       "      <th>4</th>\n",
       "      <td>3</td>\n",
       "      <td>1</td>\n",
       "      <td>35</td>\n",
       "      <td>8.0500</td>\n",
       "      <td>0</td>\n",
       "      <td>0</td>\n",
       "      <td>1</td>\n",
       "    </tr>\n",
       "    <tr>\n",
       "      <th>...</th>\n",
       "      <td>...</td>\n",
       "      <td>...</td>\n",
       "      <td>...</td>\n",
       "      <td>...</td>\n",
       "      <td>...</td>\n",
       "      <td>...</td>\n",
       "      <td>...</td>\n",
       "    </tr>\n",
       "    <tr>\n",
       "      <th>886</th>\n",
       "      <td>2</td>\n",
       "      <td>1</td>\n",
       "      <td>27</td>\n",
       "      <td>13.0000</td>\n",
       "      <td>0</td>\n",
       "      <td>0</td>\n",
       "      <td>1</td>\n",
       "    </tr>\n",
       "    <tr>\n",
       "      <th>887</th>\n",
       "      <td>1</td>\n",
       "      <td>0</td>\n",
       "      <td>19</td>\n",
       "      <td>30.0000</td>\n",
       "      <td>0</td>\n",
       "      <td>0</td>\n",
       "      <td>1</td>\n",
       "    </tr>\n",
       "    <tr>\n",
       "      <th>888</th>\n",
       "      <td>3</td>\n",
       "      <td>0</td>\n",
       "      <td>29</td>\n",
       "      <td>23.4500</td>\n",
       "      <td>0</td>\n",
       "      <td>0</td>\n",
       "      <td>1</td>\n",
       "    </tr>\n",
       "    <tr>\n",
       "      <th>889</th>\n",
       "      <td>1</td>\n",
       "      <td>1</td>\n",
       "      <td>26</td>\n",
       "      <td>30.0000</td>\n",
       "      <td>1</td>\n",
       "      <td>0</td>\n",
       "      <td>0</td>\n",
       "    </tr>\n",
       "    <tr>\n",
       "      <th>890</th>\n",
       "      <td>3</td>\n",
       "      <td>1</td>\n",
       "      <td>32</td>\n",
       "      <td>7.7500</td>\n",
       "      <td>0</td>\n",
       "      <td>1</td>\n",
       "      <td>0</td>\n",
       "    </tr>\n",
       "  </tbody>\n",
       "</table>\n",
       "<p>891 rows × 7 columns</p>\n",
       "</div>"
      ],
      "text/plain": [
       "     Pclass  Sex_num  Age     Fare  E_C  E_Q  E_S\n",
       "0         3        1   22   7.2500    0    0    1\n",
       "1         1        0   38  71.2833    1    0    0\n",
       "2         3        0   26   7.9250    0    0    1\n",
       "3         1        0   35  53.1000    0    0    1\n",
       "4         3        1   35   8.0500    0    0    1\n",
       "..      ...      ...  ...      ...  ...  ...  ...\n",
       "886       2        1   27  13.0000    0    0    1\n",
       "887       1        0   19  30.0000    0    0    1\n",
       "888       3        0   29  23.4500    0    0    1\n",
       "889       1        1   26  30.0000    1    0    0\n",
       "890       3        1   32   7.7500    0    1    0\n",
       "\n",
       "[891 rows x 7 columns]"
      ]
     },
     "execution_count": 47,
     "metadata": {},
     "output_type": "execute_result"
    }
   ],
   "source": [
    "# 머신 러닝에서 사용할 데이터 컬럼 정해서 추출\n",
    "X = [\"Pclass\", \"Sex_num\", \"Age\", \"Fare\", \"E_C\", \"E_Q\", \"E_S\"]\n",
    "data_X = df[X]\n",
    "data_X"
   ]
  },
  {
   "cell_type": "code",
   "execution_count": 49,
   "id": "e19024b8-fcc4-40ae-a759-57be9d0130f9",
   "metadata": {},
   "outputs": [
    {
     "data": {
      "text/plain": [
       "0      0\n",
       "1      1\n",
       "2      1\n",
       "3      1\n",
       "4      0\n",
       "      ..\n",
       "886    0\n",
       "887    1\n",
       "888    0\n",
       "889    1\n",
       "890    0\n",
       "Name: Survived, Length: 891, dtype: int64"
      ]
     },
     "execution_count": 49,
     "metadata": {},
     "output_type": "execute_result"
    }
   ],
   "source": [
    "# X 값의 행의 데이터와 대비되는 데이터\n",
    "data_y = df[\"Survived\"]\n",
    "data_y"
   ]
  },
  {
   "cell_type": "code",
   "execution_count": 51,
   "id": "f1dfb283-3bc8-45ae-9b64-14e742e57f6a",
   "metadata": {},
   "outputs": [
    {
     "data": {
      "text/plain": [
       "((891, 7), (891,))"
      ]
     },
     "execution_count": 51,
     "metadata": {},
     "output_type": "execute_result"
    }
   ],
   "source": [
    "data_X.shape, data_y.shape # X 가 하나일 때는 선형이지만, 현재 test data X값은 여러개임"
   ]
  },
  {
   "cell_type": "markdown",
   "id": "e5287aa2-6b98-4a3f-bcc7-5e8ae773d706",
   "metadata": {},
   "source": [
    "## 학습 데이터(train data)와 테스트 데이터(test data) 분할\n",
    "- 학습 데이터(X_train, y_train)\n",
    "- 테스트 데이터(X_test)\n",
    "- test_y : 성능 평가시 y_predict와 비교 평가\n",
    "- from sklearn.model_selection import train_test_split"
   ]
  },
  {
   "cell_type": "code",
   "execution_count": 52,
   "id": "3984edff-53da-47d7-9e1a-ea97abb3b099",
   "metadata": {},
   "outputs": [],
   "source": [
    "from sklearn.model_selection import train_test_split"
   ]
  },
  {
   "cell_type": "markdown",
   "id": "b84ee832-b7e5-485b-ad3c-25b72817e0fb",
   "metadata": {},
   "source": [
    "### train_test_split 사용법\n",
    "- **train_test_split(X값, y값, test_size=default:0.25, shuffle=default:True, random_state = 시드값)**\n",
    "- train_test_split(data_X, data_y, test_size=0.25, shuffle=True, random_state = 42)\n",
    "    - **test_size**: validation set에 할당할 비율 (20% -> 0.2), 기본 0.25(25%)\n",
    "    - **shuffle**: 데이터를 섞어서 분할, 셔플 옵션 (기본 True)\n",
    "    - **random_state**: 랜덤 시드값"
   ]
  },
  {
   "cell_type": "code",
   "execution_count": 174,
   "id": "20d3d5c8-fbe6-48e2-8733-d8de805a2760",
   "metadata": {},
   "outputs": [],
   "source": [
    "# 순서 중요 : X_train, X_test, y_train, y_test = train_test_split(data_X, data_y)\n",
    "X_train, X_test, y_train, y_test = train_test_split(data_X, data_y, test_size=0.2, random_state=20)"
   ]
  },
  {
   "cell_type": "code",
   "execution_count": 164,
   "id": "838c9e22-dfd7-4595-8fa2-e1e1138e7549",
   "metadata": {},
   "outputs": [
    {
     "name": "stdout",
     "output_type": "stream",
     "text": [
      "347    1\n",
      "674    0\n",
      "791    0\n",
      "836    0\n",
      "56     1\n",
      "      ..\n",
      "694    0\n",
      "428    0\n",
      "431    1\n",
      "563    0\n",
      "484    1\n",
      "Name: Survived, Length: 179, dtype: int64\n"
     ]
    }
   ],
   "source": [
    "print(y_test)"
   ]
  },
  {
   "cell_type": "code",
   "execution_count": 165,
   "id": "d3a12e9f-b220-45b8-b7da-077082540c86",
   "metadata": {},
   "outputs": [
    {
     "name": "stdout",
     "output_type": "stream",
     "text": [
      "(712, 7) (712,)\n"
     ]
    }
   ],
   "source": [
    "print(X_train.shape, y_train.shape)"
   ]
  },
  {
   "cell_type": "code",
   "execution_count": 166,
   "id": "4cfa2957-2a35-4a15-a8c6-dcf4c967a18f",
   "metadata": {},
   "outputs": [
    {
     "name": "stdout",
     "output_type": "stream",
     "text": [
      "(179, 7) (179,)\n"
     ]
    }
   ],
   "source": [
    "print(X_test.shape, y_test.shape)"
   ]
  },
  {
   "cell_type": "code",
   "execution_count": 167,
   "id": "b1535c1a-e50f-49ba-8b8d-1853d4e4a80b",
   "metadata": {},
   "outputs": [
    {
     "name": "stdout",
     "output_type": "stream",
     "text": [
      "Pclass  Sex_num  Age  Fare     E_C  E_Q  E_S\n",
      "3       1        29   8.0500   0    0    1      11\n",
      "                      7.8958   0    0    1      10\n",
      "        0        29   7.7500   0    1    0       8\n",
      "        1        29   7.7500   0    1    0       7\n",
      "                      7.2292   1    0    0       5\n",
      "                                                ..\n",
      "2       0        29   33.0000  0    0    1       1\n",
      "                 30   12.3500  0    1    0       1\n",
      "                      13.0000  0    0    1       1\n",
      "                      21.0000  0    0    1       1\n",
      "3       1        74   7.7750   0    0    1       1\n",
      "Name: count, Length: 610, dtype: int64\n",
      "------------------------------------------------------------\n",
      "Survived\n",
      "0    437\n",
      "1    275\n",
      "Name: count, dtype: int64\n",
      "------------------------------------------------------------\n",
      "Pclass  Sex_num  Age  Fare     E_C  E_Q  E_S\n",
      "3       1        29   7.7500   0    1    0      5\n",
      "                      7.2250   1    0    0      3\n",
      "                      7.8958   0    0    1      3\n",
      "2       1        29   0.0000   0    0    1      2\n",
      "3       1        29   15.5000  0    1    0      2\n",
      "                                               ..\n",
      "2       1        2    26.0000  0    0    1      1\n",
      "                 16   26.0000  0    0    1      1\n",
      "                 19   10.5000  0    0    1      1\n",
      "                      13.0000  0    0    1      1\n",
      "3       1        70   7.7500   0    1    0      1\n",
      "Name: count, Length: 166, dtype: int64\n",
      "------------------------------------------------------------\n",
      "Survived\n",
      "0    112\n",
      "1     67\n",
      "Name: count, dtype: int64\n"
     ]
    }
   ],
   "source": [
    "print(X_train.value_counts())\n",
    "print(\"-\"*60)\n",
    "print(y_train.value_counts())\n",
    "print(\"-\"*60)\n",
    "print(X_test.value_counts())\n",
    "print(\"-\"*60)\n",
    "print(y_test.value_counts())"
   ]
  },
  {
   "cell_type": "markdown",
   "id": "8d1bb260-bd81-4870-b74f-051a4c45d9dd",
   "metadata": {},
   "source": [
    "## 머신러닝 모델 학습하기\n",
    "- Stochastic Gradient Desscent(SGD) : 확률적 경사하강법"
   ]
  },
  {
   "cell_type": "markdown",
   "id": "9ae58e2a-02d3-4d93-a527-e3023fc2471e",
   "metadata": {},
   "source": [
    "### 머신 러닝 모델 학습 순서\n",
    "- 모델 객체 생성\n",
    "- 모델 데이터(X_train, y_train)\n",
    "- test\n",
    "- 성능 평가"
   ]
  },
  {
   "cell_type": "code",
   "execution_count": 123,
   "id": "7e2df9a1-38a6-406c-add6-d137959a2c94",
   "metadata": {},
   "outputs": [],
   "source": [
    "# 확률적 경사 하강법 모듈: SGDClassifier\n",
    "from sklearn.linear_model import SGDClassifier"
   ]
  },
  {
   "cell_type": "code",
   "execution_count": 168,
   "id": "161c1e2d-2a9d-43fe-8241-1bc5d978c310",
   "metadata": {},
   "outputs": [
    {
     "name": "stdout",
     "output_type": "stream",
     "text": [
      "SGDClassifier()\n",
      "<class 'sklearn.linear_model._stochastic_gradient.SGDClassifier'>\n"
     ]
    }
   ],
   "source": [
    "# 모델 객체 생성\n",
    "model_sgdc = SGDClassifier()\n",
    "print(model_sgdc)\n",
    "print(type(model_sgdc))"
   ]
  },
  {
   "cell_type": "code",
   "execution_count": 169,
   "id": "86ffeb50-ff23-40f6-8d01-777ea925475a",
   "metadata": {},
   "outputs": [
    {
     "data": {
      "text/html": [
       "<style>#sk-container-id-8 {color: black;background-color: white;}#sk-container-id-8 pre{padding: 0;}#sk-container-id-8 div.sk-toggleable {background-color: white;}#sk-container-id-8 label.sk-toggleable__label {cursor: pointer;display: block;width: 100%;margin-bottom: 0;padding: 0.3em;box-sizing: border-box;text-align: center;}#sk-container-id-8 label.sk-toggleable__label-arrow:before {content: \"▸\";float: left;margin-right: 0.25em;color: #696969;}#sk-container-id-8 label.sk-toggleable__label-arrow:hover:before {color: black;}#sk-container-id-8 div.sk-estimator:hover label.sk-toggleable__label-arrow:before {color: black;}#sk-container-id-8 div.sk-toggleable__content {max-height: 0;max-width: 0;overflow: hidden;text-align: left;background-color: #f0f8ff;}#sk-container-id-8 div.sk-toggleable__content pre {margin: 0.2em;color: black;border-radius: 0.25em;background-color: #f0f8ff;}#sk-container-id-8 input.sk-toggleable__control:checked~div.sk-toggleable__content {max-height: 200px;max-width: 100%;overflow: auto;}#sk-container-id-8 input.sk-toggleable__control:checked~label.sk-toggleable__label-arrow:before {content: \"▾\";}#sk-container-id-8 div.sk-estimator input.sk-toggleable__control:checked~label.sk-toggleable__label {background-color: #d4ebff;}#sk-container-id-8 div.sk-label input.sk-toggleable__control:checked~label.sk-toggleable__label {background-color: #d4ebff;}#sk-container-id-8 input.sk-hidden--visually {border: 0;clip: rect(1px 1px 1px 1px);clip: rect(1px, 1px, 1px, 1px);height: 1px;margin: -1px;overflow: hidden;padding: 0;position: absolute;width: 1px;}#sk-container-id-8 div.sk-estimator {font-family: monospace;background-color: #f0f8ff;border: 1px dotted black;border-radius: 0.25em;box-sizing: border-box;margin-bottom: 0.5em;}#sk-container-id-8 div.sk-estimator:hover {background-color: #d4ebff;}#sk-container-id-8 div.sk-parallel-item::after {content: \"\";width: 100%;border-bottom: 1px solid gray;flex-grow: 1;}#sk-container-id-8 div.sk-label:hover label.sk-toggleable__label {background-color: #d4ebff;}#sk-container-id-8 div.sk-serial::before {content: \"\";position: absolute;border-left: 1px solid gray;box-sizing: border-box;top: 0;bottom: 0;left: 50%;z-index: 0;}#sk-container-id-8 div.sk-serial {display: flex;flex-direction: column;align-items: center;background-color: white;padding-right: 0.2em;padding-left: 0.2em;position: relative;}#sk-container-id-8 div.sk-item {position: relative;z-index: 1;}#sk-container-id-8 div.sk-parallel {display: flex;align-items: stretch;justify-content: center;background-color: white;position: relative;}#sk-container-id-8 div.sk-item::before, #sk-container-id-8 div.sk-parallel-item::before {content: \"\";position: absolute;border-left: 1px solid gray;box-sizing: border-box;top: 0;bottom: 0;left: 50%;z-index: -1;}#sk-container-id-8 div.sk-parallel-item {display: flex;flex-direction: column;z-index: 1;position: relative;background-color: white;}#sk-container-id-8 div.sk-parallel-item:first-child::after {align-self: flex-end;width: 50%;}#sk-container-id-8 div.sk-parallel-item:last-child::after {align-self: flex-start;width: 50%;}#sk-container-id-8 div.sk-parallel-item:only-child::after {width: 0;}#sk-container-id-8 div.sk-dashed-wrapped {border: 1px dashed gray;margin: 0 0.4em 0.5em 0.4em;box-sizing: border-box;padding-bottom: 0.4em;background-color: white;}#sk-container-id-8 div.sk-label label {font-family: monospace;font-weight: bold;display: inline-block;line-height: 1.2em;}#sk-container-id-8 div.sk-label-container {text-align: center;}#sk-container-id-8 div.sk-container {/* jupyter's `normalize.less` sets `[hidden] { display: none; }` but bootstrap.min.css set `[hidden] { display: none !important; }` so we also need the `!important` here to be able to override the default hidden behavior on the sphinx rendered scikit-learn.org. See: https://github.com/scikit-learn/scikit-learn/issues/21755 */display: inline-block !important;position: relative;}#sk-container-id-8 div.sk-text-repr-fallback {display: none;}</style><div id=\"sk-container-id-8\" class=\"sk-top-container\"><div class=\"sk-text-repr-fallback\"><pre>SGDClassifier()</pre><b>In a Jupyter environment, please rerun this cell to show the HTML representation or trust the notebook. <br />On GitHub, the HTML representation is unable to render, please try loading this page with nbviewer.org.</b></div><div class=\"sk-container\" hidden><div class=\"sk-item\"><div class=\"sk-estimator sk-toggleable\"><input class=\"sk-toggleable__control sk-hidden--visually\" id=\"sk-estimator-id-8\" type=\"checkbox\" checked><label for=\"sk-estimator-id-8\" class=\"sk-toggleable__label sk-toggleable__label-arrow\">SGDClassifier</label><div class=\"sk-toggleable__content\"><pre>SGDClassifier()</pre></div></div></div></div></div>"
      ],
      "text/plain": [
       "SGDClassifier()"
      ]
     },
     "execution_count": 169,
     "metadata": {},
     "output_type": "execute_result"
    }
   ],
   "source": [
    "# 모델 학습 : 모델 데이터\n",
    "model_sgdc.fit(X_train, y_train)"
   ]
  },
  {
   "cell_type": "code",
   "execution_count": 170,
   "id": "0423d663-e986-40e1-b939-21fd60910bbf",
   "metadata": {},
   "outputs": [
    {
     "name": "stdout",
     "output_type": "stream",
     "text": [
      "[1 1 1 1 1 1 1 1 1 1 1 1 1 1 1 1 1 1 1 1 1 1 1 1 1 1 1 1 1 1 1 1 1 1 1 1 1\n",
      " 1 1 1 1 1 1 1 1 1 1 1 1 1 1 1 1 1 1 1 1 1 1 1 1 1 1 1 1 1 1 1 1 1 1 1 1 1\n",
      " 1 1 1 1 1 1 1 1 1 1 1 1 1 1 1 1 1 1 1 1 1 1 1 1 1 1 1 1 1 1 1 1 1 1 1 1 1\n",
      " 1 1 1 1 1 1 1 1 1 1 1 1 1 1 1 1 1 1 1 1 1 1 1 1 1 1 1 1 1 1 1 1 1 1 1 1 1\n",
      " 1 1 1 1 1 1 1 1 0 1 1 1 1 1 1 1 1 1 1 1 1 1 1 1 1 1 1 1 1 1 1]\n"
     ]
    }
   ],
   "source": [
    "# 예측하기 : test\n",
    "y_pred = model_sgdc.predict(X_test)\n",
    "print(y_pred)"
   ]
  },
  {
   "cell_type": "code",
   "execution_count": 171,
   "id": "37951145-eedb-48a0-84f4-f0ddbacd4961",
   "metadata": {},
   "outputs": [
    {
     "name": "stdout",
     "output_type": "stream",
     "text": [
      "[1, 0, 0, 0, 1, 0, 1, 0, 1, 0, 1, 0, 1, 0, 0, 0, 0, 1, 1, 1, 1, 0, 1, 0, 0, 1, 0, 0, 0, 0, 0, 0, 0, 0, 1, 0, 0, 1, 0, 0, 1, 0, 0, 1, 0, 0, 0, 0, 1, 1, 1, 1, 0, 1, 1, 0, 0, 0, 1, 0, 1, 0, 1, 0, 1, 1, 0, 1, 0, 0, 0, 1, 0, 1, 1, 0, 0, 0, 1, 0, 0, 0, 0, 1, 0, 0, 0, 0, 0, 0, 1, 1, 1, 0, 1, 1, 1, 0, 0, 0, 0, 1, 0, 0, 0, 0, 0, 0, 0, 0, 1, 0, 0, 0, 1, 1, 0, 0, 1, 0, 0, 0, 0, 1, 0, 1, 1, 0, 0, 1, 1, 0, 1, 0, 0, 0, 0, 1, 1, 1, 0, 1, 0, 0, 0, 0, 0, 0, 1, 0, 1, 0, 0, 1, 1, 1, 1, 0, 0, 1, 0, 1, 1, 0, 0, 0, 0, 0, 0, 0, 0, 1, 1, 0, 0, 0, 1, 0, 1]\n"
     ]
    }
   ],
   "source": [
    "print(list(y_test))"
   ]
  },
  {
   "cell_type": "code",
   "execution_count": 172,
   "id": "cd55f4fe-b9cb-4571-a266-b767908b6519",
   "metadata": {},
   "outputs": [
    {
     "name": "stdout",
     "output_type": "stream",
     "text": [
      "347     True\n",
      "674    False\n",
      "791    False\n",
      "836    False\n",
      "56      True\n",
      "       ...  \n",
      "694    False\n",
      "428    False\n",
      "431     True\n",
      "563    False\n",
      "484     True\n",
      "Name: Survived, Length: 179, dtype: bool\n"
     ]
    }
   ],
   "source": [
    "print(y_pred == y_test)"
   ]
  },
  {
   "cell_type": "code",
   "execution_count": 77,
   "id": "21e6023c-bbff-4526-b399-556e1b3867dc",
   "metadata": {},
   "outputs": [],
   "source": [
    "import numpy as np"
   ]
  },
  {
   "cell_type": "code",
   "execution_count": 173,
   "id": "4534c6dd-381b-4577-8ae1-d7f1e0321ec7",
   "metadata": {},
   "outputs": [
    {
     "data": {
      "text/plain": [
       "(array([False,  True]), array([113,  66], dtype=int64))"
      ]
     },
     "execution_count": 173,
     "metadata": {},
     "output_type": "execute_result"
    }
   ],
   "source": [
    "# 성능 평가\n",
    "# np 내장 함수를 통해 return count 가능\n",
    "np.unique(y_pred == y_test, return_counts=True)"
   ]
  },
  {
   "cell_type": "code",
   "execution_count": 79,
   "id": "1c384d26-c7f2-42a4-8280-260d71126109",
   "metadata": {},
   "outputs": [
    {
     "data": {
      "text/plain": [
       "0.6983240223463687"
      ]
     },
     "execution_count": 79,
     "metadata": {},
     "output_type": "execute_result"
    }
   ],
   "source": [
    "# 정확도 평가\n",
    "# (예측y = 실제y)/테스트값 갯수\n",
    "125/(54+125)"
   ]
  },
  {
   "cell_type": "code",
   "execution_count": 80,
   "id": "30e0e6c5-6bea-4562-9ece-142095462833",
   "metadata": {},
   "outputs": [
    {
     "data": {
      "text/plain": [
       "0.6983240223463687"
      ]
     },
     "execution_count": 80,
     "metadata": {},
     "output_type": "execute_result"
    }
   ],
   "source": [
    "(y_pred == y_test).mean()"
   ]
  },
  {
   "cell_type": "code",
   "execution_count": 82,
   "id": "9aa0770e-6dd5-4c71-bfd5-65ca937cba46",
   "metadata": {},
   "outputs": [
    {
     "name": "stdout",
     "output_type": "stream",
     "text": [
      "예측 정확도 : 0.6983\n"
     ]
    }
   ],
   "source": [
    "# 정확도 계산 함수\n",
    "# 방법1\n",
    "from sklearn.metrics import accuracy_score\n",
    "print(\"예측 정확도 : %.4f\" % accuracy_score(y_pred, y_test))"
   ]
  },
  {
   "cell_type": "code",
   "execution_count": 83,
   "id": "9515d6c7-7019-4711-a0e8-7c90627da750",
   "metadata": {},
   "outputs": [],
   "source": [
    "# 방법2\n",
    "# 정밀도(precision), 재현율(recall), 정확도(accuracy)\n",
    "from sklearn.metrics import classification_report"
   ]
  },
  {
   "cell_type": "code",
   "execution_count": 84,
   "id": "6707fc4c-7131-4cfb-8e5b-1fc6df19e0cc",
   "metadata": {},
   "outputs": [
    {
     "name": "stdout",
     "output_type": "stream",
     "text": [
      "              precision    recall  f1-score   support\n",
      "\n",
      "           0       0.66      0.82      0.73        90\n",
      "           1       0.76      0.57      0.65        89\n",
      "\n",
      "    accuracy                           0.70       179\n",
      "   macro avg       0.71      0.70      0.69       179\n",
      "weighted avg       0.71      0.70      0.69       179\n",
      "\n"
     ]
    }
   ],
   "source": [
    "print(classification_report(y_pred, y_test))"
   ]
  },
  {
   "cell_type": "markdown",
   "id": "c25d57e1-1f92-4d7b-8819-0549b47c4e93",
   "metadata": {},
   "source": [
    "## 학습모델\n",
    "- 최적의 가설함수를 만드었다. 에러(정답(y)-예측(y_pred))가 최소인 함수를 찾음\n",
    "- w : 기울기\n",
    "- b : y 절편"
   ]
  },
  {
   "cell_type": "code",
   "execution_count": 89,
   "id": "07530cfe-1f9f-40a1-b1ed-4cdb6630bbd1",
   "metadata": {},
   "outputs": [
    {
     "data": {
      "text/plain": [
       "array([[ -65.13604657, -523.39816141,  -28.1794244 ,   79.17979397,\n",
       "          67.90779323,   65.13604657,  -37.88053772]])"
      ]
     },
     "execution_count": 89,
     "metadata": {},
     "output_type": "execute_result"
    }
   ],
   "source": [
    "# 각 X 들의 최적의 기울기 값 : X 값은 설정한 컬럼 갯수\n",
    "model_sgdc.coef_"
   ]
  },
  {
   "cell_type": "code",
   "execution_count": 88,
   "id": "88e9840a-52e5-41f6-a611-50c309ee629a",
   "metadata": {},
   "outputs": [
    {
     "data": {
      "text/plain": [
       "array([195.44209464])"
      ]
     },
     "execution_count": 88,
     "metadata": {},
     "output_type": "execute_result"
    }
   ],
   "source": [
    "# 절편 : y값\n",
    "model_sgdc.intercept_"
   ]
  },
  {
   "cell_type": "code",
   "execution_count": 94,
   "id": "95e90121-9d7a-4cd4-bf92-681f9d9e2579",
   "metadata": {},
   "outputs": [
    {
     "data": {
      "image/png": "[encoded data removed]",
      "text/plain": [
       "<Figure size 1500x800 with 1 Axes>"
      ]
     },
     "metadata": {},
     "output_type": "display_data"
    }
   ],
   "source": [
    "# sgd 모델의 coef_ 속성을 plot하기\n",
    "fig = plt.figure(figsize=(15, 8))\n",
    "plt.bar(X_train.columns, model_sgdc.coef_[0, :])\n",
    "# plt.xticks(rotation=90)\n",
    "plt.xticks(rotation=180)\n",
    "plt.show()"
   ]
  },
  {
   "cell_type": "code",
   "execution_count": 95,
   "id": "7d6d17cc-26e0-40bb-8d2f-127980c4ed24",
   "metadata": {},
   "outputs": [
    {
     "data": {
      "text/html": [
       "<div>\n",
       "<style scoped>\n",
       "    .dataframe tbody tr th:only-of-type {\n",
       "        vertical-align: middle;\n",
       "    }\n",
       "\n",
       "    .dataframe tbody tr th {\n",
       "        vertical-align: top;\n",
       "    }\n",
       "\n",
       "    .dataframe thead th {\n",
       "        text-align: right;\n",
       "    }\n",
       "</style>\n",
       "<table border=\"1\" class=\"dataframe\">\n",
       "  <thead>\n",
       "    <tr style=\"text-align: right;\">\n",
       "      <th></th>\n",
       "      <th>0</th>\n",
       "      <th>1</th>\n",
       "    </tr>\n",
       "  </thead>\n",
       "  <tbody>\n",
       "    <tr>\n",
       "      <th>3</th>\n",
       "      <td>Fare</td>\n",
       "      <td>79.179794</td>\n",
       "    </tr>\n",
       "    <tr>\n",
       "      <th>4</th>\n",
       "      <td>E_C</td>\n",
       "      <td>67.907793</td>\n",
       "    </tr>\n",
       "    <tr>\n",
       "      <th>5</th>\n",
       "      <td>E_Q</td>\n",
       "      <td>65.136047</td>\n",
       "    </tr>\n",
       "    <tr>\n",
       "      <th>2</th>\n",
       "      <td>Age</td>\n",
       "      <td>-28.179424</td>\n",
       "    </tr>\n",
       "    <tr>\n",
       "      <th>6</th>\n",
       "      <td>E_S</td>\n",
       "      <td>-37.880538</td>\n",
       "    </tr>\n",
       "    <tr>\n",
       "      <th>0</th>\n",
       "      <td>Pclass</td>\n",
       "      <td>-65.136047</td>\n",
       "    </tr>\n",
       "    <tr>\n",
       "      <th>1</th>\n",
       "      <td>Sex_num</td>\n",
       "      <td>-523.398161</td>\n",
       "    </tr>\n",
       "  </tbody>\n",
       "</table>\n",
       "</div>"
      ],
      "text/plain": [
       "         0           1\n",
       "3     Fare   79.179794\n",
       "4      E_C   67.907793\n",
       "5      E_Q   65.136047\n",
       "2      Age  -28.179424\n",
       "6      E_S  -37.880538\n",
       "0   Pclass  -65.136047\n",
       "1  Sex_num -523.398161"
      ]
     },
     "execution_count": 95,
     "metadata": {},
     "output_type": "execute_result"
    }
   ],
   "source": [
    "coef_df = pd.DataFrame(zip(X_train.columns, model_sgdc.coef_[0,:])).sort_values(by=1, ascending=False)\n",
    "coef_df"
   ]
  },
  {
   "cell_type": "code",
   "execution_count": 96,
   "id": "8e526b72-d53c-48a9-87b0-6a7078763a84",
   "metadata": {},
   "outputs": [
    {
     "data": {
      "image/png": "[encoded data removed]",
      "text/plain": [
       "<Figure size 1500x800 with 1 Axes>"
      ]
     },
     "metadata": {},
     "output_type": "display_data"
    }
   ],
   "source": [
    "# sgd 모델의 coef_ 속성을 plot하기\n",
    "fig = plt.figure(figsize=(15,8))\n",
    "plt.bar(coef_df[0], coef_df[1])\n",
    "plt.xticks(rotation=90)\n",
    "plt.show()"
   ]
  },
  {
   "cell_type": "markdown",
   "id": "012cad0f-30ad-410c-abbe-35644d962740",
   "metadata": {},
   "source": [
    "### 결정 계수의 의미\n",
    "- 예측에 가장 영향을 많이 미친 피처는 sex_num 임\n",
    "- Pclass가 -값인 것은 좌성 등급 1등급이 생존율이 더 높음"
   ]
  },
  {
   "cell_type": "markdown",
   "id": "0fe0c71b-ddb4-4abf-967a-c3882256a63b",
   "metadata": {},
   "source": [
    "## [문제] 결정 트리 학습기로 학습모델 만들기\n",
    "- titanic 생존자 예측문제 DecisionTreeClassifier로 모델만들기"
   ]
  },
  {
   "cell_type": "markdown",
   "id": "08245cb2-5537-4b09-b690-2952628d2f06",
   "metadata": {},
   "source": [
    "### 머신 러닝 모델 학습 순서\n",
    "- 모델 객체 생성\n",
    "- 모델 데이터(X_train, y_train)\n",
    "- test\n",
    "- 성능 평가"
   ]
  },
  {
   "cell_type": "code",
   "execution_count": 97,
   "id": "b8453956-7f51-4b26-a247-a5a03f74d459",
   "metadata": {},
   "outputs": [],
   "source": [
    "from sklearn.tree import DecisionTreeClassifier"
   ]
  },
  {
   "cell_type": "code",
   "execution_count": null,
   "id": "469e4f9d-b2b0-47ab-aac7-b80651959c2c",
   "metadata": {},
   "outputs": [],
   "source": [
    "# 순서 중요 : X_train, X_test, y_train, y_test = train_test_split(data_X, data_y)\n",
    "X_train, X_test, y_train, y_test = train_test_split(data_X, data_y, test_size=0.2, random_state=20)"
   ]
  },
  {
   "cell_type": "code",
   "execution_count": 98,
   "id": "193873d9-99a2-4e4a-bd69-c9032fc4ec80",
   "metadata": {},
   "outputs": [],
   "source": [
    "# 객체 생성\n",
    "model_deci = DecisionTreeClassifier()"
   ]
  },
  {
   "cell_type": "markdown",
   "id": "6adaf406-b15f-4656-b897-f48c9ea383bd",
   "metadata": {},
   "source": [
    "### 모델 만들기"
   ]
  },
  {
   "cell_type": "code",
   "execution_count": 99,
   "id": "c05354ff-e1e3-41d4-b2da-b334c3e99492",
   "metadata": {},
   "outputs": [
    {
     "data": {
      "text/html": [
       "<style>#sk-container-id-4 {color: black;background-color: white;}#sk-container-id-4 pre{padding: 0;}#sk-container-id-4 div.sk-toggleable {background-color: white;}#sk-container-id-4 label.sk-toggleable__label {cursor: pointer;display: block;width: 100%;margin-bottom: 0;padding: 0.3em;box-sizing: border-box;text-align: center;}#sk-container-id-4 label.sk-toggleable__label-arrow:before {content: \"▸\";float: left;margin-right: 0.25em;color: #696969;}#sk-container-id-4 label.sk-toggleable__label-arrow:hover:before {color: black;}#sk-container-id-4 div.sk-estimator:hover label.sk-toggleable__label-arrow:before {color: black;}#sk-container-id-4 div.sk-toggleable__content {max-height: 0;max-width: 0;overflow: hidden;text-align: left;background-color: #f0f8ff;}#sk-container-id-4 div.sk-toggleable__content pre {margin: 0.2em;color: black;border-radius: 0.25em;background-color: #f0f8ff;}#sk-container-id-4 input.sk-toggleable__control:checked~div.sk-toggleable__content {max-height: 200px;max-width: 100%;overflow: auto;}#sk-container-id-4 input.sk-toggleable__control:checked~label.sk-toggleable__label-arrow:before {content: \"▾\";}#sk-container-id-4 div.sk-estimator input.sk-toggleable__control:checked~label.sk-toggleable__label {background-color: #d4ebff;}#sk-container-id-4 div.sk-label input.sk-toggleable__control:checked~label.sk-toggleable__label {background-color: #d4ebff;}#sk-container-id-4 input.sk-hidden--visually {border: 0;clip: rect(1px 1px 1px 1px);clip: rect(1px, 1px, 1px, 1px);height: 1px;margin: -1px;overflow: hidden;padding: 0;position: absolute;width: 1px;}#sk-container-id-4 div.sk-estimator {font-family: monospace;background-color: #f0f8ff;border: 1px dotted black;border-radius: 0.25em;box-sizing: border-box;margin-bottom: 0.5em;}#sk-container-id-4 div.sk-estimator:hover {background-color: #d4ebff;}#sk-container-id-4 div.sk-parallel-item::after {content: \"\";width: 100%;border-bottom: 1px solid gray;flex-grow: 1;}#sk-container-id-4 div.sk-label:hover label.sk-toggleable__label {background-color: #d4ebff;}#sk-container-id-4 div.sk-serial::before {content: \"\";position: absolute;border-left: 1px solid gray;box-sizing: border-box;top: 0;bottom: 0;left: 50%;z-index: 0;}#sk-container-id-4 div.sk-serial {display: flex;flex-direction: column;align-items: center;background-color: white;padding-right: 0.2em;padding-left: 0.2em;position: relative;}#sk-container-id-4 div.sk-item {position: relative;z-index: 1;}#sk-container-id-4 div.sk-parallel {display: flex;align-items: stretch;justify-content: center;background-color: white;position: relative;}#sk-container-id-4 div.sk-item::before, #sk-container-id-4 div.sk-parallel-item::before {content: \"\";position: absolute;border-left: 1px solid gray;box-sizing: border-box;top: 0;bottom: 0;left: 50%;z-index: -1;}#sk-container-id-4 div.sk-parallel-item {display: flex;flex-direction: column;z-index: 1;position: relative;background-color: white;}#sk-container-id-4 div.sk-parallel-item:first-child::after {align-self: flex-end;width: 50%;}#sk-container-id-4 div.sk-parallel-item:last-child::after {align-self: flex-start;width: 50%;}#sk-container-id-4 div.sk-parallel-item:only-child::after {width: 0;}#sk-container-id-4 div.sk-dashed-wrapped {border: 1px dashed gray;margin: 0 0.4em 0.5em 0.4em;box-sizing: border-box;padding-bottom: 0.4em;background-color: white;}#sk-container-id-4 div.sk-label label {font-family: monospace;font-weight: bold;display: inline-block;line-height: 1.2em;}#sk-container-id-4 div.sk-label-container {text-align: center;}#sk-container-id-4 div.sk-container {/* jupyter's `normalize.less` sets `[hidden] { display: none; }` but bootstrap.min.css set `[hidden] { display: none !important; }` so we also need the `!important` here to be able to override the default hidden behavior on the sphinx rendered scikit-learn.org. See: https://github.com/scikit-learn/scikit-learn/issues/21755 */display: inline-block !important;position: relative;}#sk-container-id-4 div.sk-text-repr-fallback {display: none;}</style><div id=\"sk-container-id-4\" class=\"sk-top-container\"><div class=\"sk-text-repr-fallback\"><pre>DecisionTreeClassifier()</pre><b>In a Jupyter environment, please rerun this cell to show the HTML representation or trust the notebook. <br />On GitHub, the HTML representation is unable to render, please try loading this page with nbviewer.org.</b></div><div class=\"sk-container\" hidden><div class=\"sk-item\"><div class=\"sk-estimator sk-toggleable\"><input class=\"sk-toggleable__control sk-hidden--visually\" id=\"sk-estimator-id-4\" type=\"checkbox\" checked><label for=\"sk-estimator-id-4\" class=\"sk-toggleable__label sk-toggleable__label-arrow\">DecisionTreeClassifier</label><div class=\"sk-toggleable__content\"><pre>DecisionTreeClassifier()</pre></div></div></div></div></div>"
      ],
      "text/plain": [
       "DecisionTreeClassifier()"
      ]
     },
     "execution_count": 99,
     "metadata": {},
     "output_type": "execute_result"
    }
   ],
   "source": [
    "model_deci.fit(X_train, y_train)"
   ]
  },
  {
   "cell_type": "markdown",
   "id": "033301ca-9b1b-4b41-a604-7004f67de7f8",
   "metadata": {},
   "source": [
    "### 예측하기"
   ]
  },
  {
   "cell_type": "code",
   "execution_count": 102,
   "id": "e577dd8d-4cf3-4d0e-86df-7fa09ce1767f",
   "metadata": {},
   "outputs": [
    {
     "name": "stdout",
     "output_type": "stream",
     "text": [
      "[0 0 0 0 1 0 0 0 1 0 1 0 1 0 1 0 0 1 1 1 1 0 1 0 0 1 0 0 0 0 0 0 0 1 0 0 1\n",
      " 1 0 0 1 0 1 0 1 0 1 0 1 1 0 1 1 1 0 0 0 0 1 0 1 0 0 0 1 1 1 1 0 1 0 1 0 1\n",
      " 0 0 0 0 1 0 0 0 0 1 0 1 0 0 0 0 0 1 1 0 1 1 1 0 0 0 0 1 0 0 0 0 0 0 1 0 0\n",
      " 0 0 0 0 0 0 0 1 0 0 0 0 0 0 1 0 0 0 1 0 0 1 0 0 0 0 1 0 0 0 1 0 0 1 0 0 0\n",
      " 1 0 1 0 0 0 1 1 1 1 0 1 0 1 1 0 0 0 0 0 0 1 0 0 1 0 0 0 0 0 0]\n"
     ]
    }
   ],
   "source": [
    "y_pred_de = model_deci.predict(X_test)\n",
    "print(y_pred_de)"
   ]
  },
  {
   "cell_type": "code",
   "execution_count": 103,
   "id": "6102a24a-e150-4219-b9a2-5db14a3a7e7a",
   "metadata": {},
   "outputs": [
    {
     "name": "stdout",
     "output_type": "stream",
     "text": [
      "예측 정확도 : 0.8045\n"
     ]
    }
   ],
   "source": [
    "from sklearn.metrics import accuracy_score\n",
    "print(\"예측 정확도 : %.4f\" % accuracy_score(y_pred_de, y_test))"
   ]
  },
  {
   "cell_type": "markdown",
   "id": "90a41f75-6c87-4bc1-96d5-42355ba4a9e6",
   "metadata": {},
   "source": [
    "### 성능평가\n",
    "- Predict를 수행하고 classification_report() 결과 출력하기"
   ]
  },
  {
   "cell_type": "code",
   "execution_count": 104,
   "id": "fbc8a6ff-a718-4749-92ac-eb554584d0cb",
   "metadata": {},
   "outputs": [],
   "source": [
    "# 정밀도(precision), 재현율(recall), 정확도(accuracy) 확인\n",
    "# classification_report() 결과 출력하기"
   ]
  },
  {
   "cell_type": "code",
   "execution_count": 105,
   "id": "dd3e6a17-87bc-45b3-bfc4-b01d796f8306",
   "metadata": {},
   "outputs": [],
   "source": [
    "from sklearn.metrics import classification_report"
   ]
  },
  {
   "cell_type": "code",
   "execution_count": 106,
   "id": "f7e1c127-5901-4743-85dd-a5939a353f67",
   "metadata": {},
   "outputs": [
    {
     "name": "stdout",
     "output_type": "stream",
     "text": [
      "              precision    recall  f1-score   support\n",
      "\n",
      "           0       0.88      0.82      0.85       119\n",
      "           1       0.69      0.77      0.72        60\n",
      "\n",
      "    accuracy                           0.80       179\n",
      "   macro avg       0.78      0.80      0.79       179\n",
      "weighted avg       0.81      0.80      0.81       179\n",
      "\n"
     ]
    }
   ],
   "source": [
    "print(classification_report(y_pred_de, y_test))"
   ]
  },
  {
   "cell_type": "code",
   "execution_count": 179,
   "id": "48dc2d12-99b3-4be1-b732-1f9c990c3bb0",
   "metadata": {},
   "outputs": [],
   "source": [
    "X_train, X_test, y_train, y_test = train_test_split(data_X, data_y, test_size=0.2, random_state=20)"
   ]
  },
  {
   "cell_type": "code",
   "execution_count": 180,
   "id": "8fcda78d-e67c-4ae2-8ccb-dfb97c0aa223",
   "metadata": {},
   "outputs": [
    {
     "name": "stdout",
     "output_type": "stream",
     "text": [
      "Pclass  Sex_num  Age  Fare     E_C  E_Q  E_S\n",
      "3       1        29   8.0500   0    0    1      11\n",
      "                      7.8958   0    0    1      10\n",
      "        0        29   7.7500   0    1    0       8\n",
      "        1        29   7.7500   0    1    0       7\n",
      "                      7.2292   1    0    0       5\n",
      "                                                ..\n",
      "2       0        29   33.0000  0    0    1       1\n",
      "                 30   12.3500  0    1    0       1\n",
      "                      13.0000  0    0    1       1\n",
      "                      21.0000  0    0    1       1\n",
      "3       1        74   7.7750   0    0    1       1\n",
      "Name: count, Length: 610, dtype: int64\n",
      "------------------------------------------------------------\n",
      "Survived\n",
      "0    437\n",
      "1    275\n",
      "Name: count, dtype: int64\n",
      "------------------------------------------------------------\n",
      "Pclass  Sex_num  Age  Fare     E_C  E_Q  E_S\n",
      "3       1        29   7.7500   0    1    0      5\n",
      "                      7.2250   1    0    0      3\n",
      "                      7.8958   0    0    1      3\n",
      "2       1        29   0.0000   0    0    1      2\n",
      "3       1        29   15.5000  0    1    0      2\n",
      "                                               ..\n",
      "2       1        2    26.0000  0    0    1      1\n",
      "                 16   26.0000  0    0    1      1\n",
      "                 19   10.5000  0    0    1      1\n",
      "                      13.0000  0    0    1      1\n",
      "3       1        70   7.7500   0    1    0      1\n",
      "Name: count, Length: 166, dtype: int64\n",
      "------------------------------------------------------------\n",
      "Survived\n",
      "0    112\n",
      "1     67\n",
      "Name: count, dtype: int64\n"
     ]
    }
   ],
   "source": [
    "print(X_train.value_counts())\n",
    "print(\"-\"*60)\n",
    "print(y_train.value_counts())\n",
    "print(\"-\"*60)\n",
    "print(X_test.value_counts())\n",
    "print(\"-\"*60)\n",
    "print(y_test.value_counts())"
   ]
  },
  {
   "cell_type": "code",
   "execution_count": 181,
   "id": "39f3bdd7-d851-4071-9114-988490d60c1a",
   "metadata": {},
   "outputs": [],
   "source": [
    "X_train1, X_test1, y_train1, y_test1 = train_test_split(data_X, data_y, test_size=0.2, random_state=20)"
   ]
  },
  {
   "cell_type": "code",
   "execution_count": 182,
   "id": "8a0e75a7-5cf2-49af-806e-793f26a6253c",
   "metadata": {},
   "outputs": [
    {
     "name": "stdout",
     "output_type": "stream",
     "text": [
      "Pclass  Sex_num  Age  Fare     E_C  E_Q  E_S\n",
      "3       1        29   8.0500   0    0    1      11\n",
      "                      7.8958   0    0    1      10\n",
      "        0        29   7.7500   0    1    0       8\n",
      "        1        29   7.7500   0    1    0       7\n",
      "                      7.2292   1    0    0       5\n",
      "                                                ..\n",
      "2       0        29   33.0000  0    0    1       1\n",
      "                 30   12.3500  0    1    0       1\n",
      "                      13.0000  0    0    1       1\n",
      "                      21.0000  0    0    1       1\n",
      "3       1        74   7.7750   0    0    1       1\n",
      "Name: count, Length: 610, dtype: int64\n",
      "------------------------------------------------------------\n",
      "Survived\n",
      "0    437\n",
      "1    275\n",
      "Name: count, dtype: int64\n",
      "------------------------------------------------------------\n",
      "Pclass  Sex_num  Age  Fare     E_C  E_Q  E_S\n",
      "3       1        29   7.7500   0    1    0      5\n",
      "                      7.2250   1    0    0      3\n",
      "                      7.8958   0    0    1      3\n",
      "2       1        29   0.0000   0    0    1      2\n",
      "3       1        29   15.5000  0    1    0      2\n",
      "                                               ..\n",
      "2       1        2    26.0000  0    0    1      1\n",
      "                 16   26.0000  0    0    1      1\n",
      "                 19   10.5000  0    0    1      1\n",
      "                      13.0000  0    0    1      1\n",
      "3       1        70   7.7500   0    1    0      1\n",
      "Name: count, Length: 166, dtype: int64\n",
      "------------------------------------------------------------\n",
      "Survived\n",
      "0    112\n",
      "1     67\n",
      "Name: count, dtype: int64\n"
     ]
    }
   ],
   "source": [
    "print(X_train1.value_counts())\n",
    "print(\"-\"*60)\n",
    "print(y_train1.value_counts())\n",
    "print(\"-\"*60)\n",
    "print(X_test1.value_counts())\n",
    "print(\"-\"*60)\n",
    "print(y_test1.value_counts())"
   ]
  }
 ],
 "metadata": {
  "kernelspec": {
   "display_name": "ml_ex",
   "language": "python",
   "name": "ml_venv"
  },
  "language_info": {
   "codemirror_mode": {
    "name": "ipython",
    "version": 3
   },
   "file_extension": ".py",
   "mimetype": "text/x-python",
   "name": "python",
   "nbconvert_exporter": "python",
   "pygments_lexer": "ipython3",
   "version": "3.9.13"
  }
 },
 "nbformat": 4,
 "nbformat_minor": 5
}
